{
 "cells": [
  {
   "cell_type": "code",
   "execution_count": 1,
   "metadata": {
    "_cell_guid": "b1076dfc-b9ad-4769-8c92-a6c4dae69d19",
    "_uuid": "8f2839f25d086af736a60e9eeb907d3b93b6e0e5",
    "execution": {
     "iopub.execute_input": "2022-10-25T12:19:29.534644Z",
     "iopub.status.busy": "2022-10-25T12:19:29.534256Z",
     "iopub.status.idle": "2022-10-25T12:19:36.938055Z",
     "shell.execute_reply": "2022-10-25T12:19:36.937071Z",
     "shell.execute_reply.started": "2022-10-25T12:19:29.534535Z"
    }
   },
   "outputs": [],
   "source": [
    "import json\n",
    "import numpy as np\n",
    "from pandas.io.json import json_normalize\n",
    "\n",
    "import os\n",
    "import glob as gb\n",
    "import tensorflow as tf\n",
    "\n",
    "from sklearn.model_selection import train_test_split\n",
    "import keras \n",
    "from keras.utils.np_utils import to_categorical\n",
    "from keras.models import Sequential\n",
    "from keras.layers import Dense\n",
    "from keras.layers import LSTM , Flatten , CuDNNLSTM , GRU\n",
    "from keras.layers import Dropout\n",
    "import keras\n",
    "\n",
    "from keras import callbacks\n",
    "from keras.callbacks import  CSVLogger\n",
    "\n",
    "\n",
    "# Model Evaluations\n",
    "from sklearn import metrics\n",
    "from sklearn.metrics import accuracy_score \n",
    "from sklearn.metrics import classification_report \n",
    "from sklearn.metrics import precision_score\n",
    "from sklearn.metrics import recall_score\n",
    "from sklearn.metrics import f1_score\n",
    "from sklearn.metrics import roc_auc_score\n",
    "from sklearn.metrics import roc_curve, auc\n"
   ]
  },
  {
   "cell_type": "code",
   "execution_count": 2,
   "metadata": {
    "execution": {
     "iopub.execute_input": "2022-10-25T12:19:36.940922Z",
     "iopub.status.busy": "2022-10-25T12:19:36.940237Z",
     "iopub.status.idle": "2022-10-25T12:19:36.948594Z",
     "shell.execute_reply": "2022-10-25T12:19:36.947533Z",
     "shell.execute_reply.started": "2022-10-25T12:19:36.940882Z"
    }
   },
   "outputs": [],
   "source": [
    "def load_file(filepath,i):\n",
    "    with open(filepath) as f:\n",
    "        data = json.load(f)\n",
    "    imu = data['imu']['data']\n",
    "    emg = data['emg']['data']\n",
    "    emg = np.array(emg)\n",
    "    imu = np.array(imu)\n",
    "    imu_gyr = np.array([(e['gyroscope']) for e in imu])\n",
    "    imu_acc = np.array([(e['acceleration']) for e in imu])\n",
    "    imu_orn = np.array([(e['orientation']) for e in imu])\n",
    "    #timestamp = [i]\n",
    "    #timestamp = np.repeat(timestamp, 400, axis=None)\n",
    "    #timestamp= timestamp.reshape(400,1)\n",
    "    dataset = tf.concat([emg, imu_gyr, imu_acc, imu_orn], axis=1, name='concat')\n",
    "    dataset = np.array(dataset)\n",
    "    return dataset"
   ]
  },
  {
   "cell_type": "code",
   "execution_count": 3,
   "metadata": {
    "execution": {
     "iopub.execute_input": "2022-10-25T12:19:36.950577Z",
     "iopub.status.busy": "2022-10-25T12:19:36.950141Z",
     "iopub.status.idle": "2022-10-25T12:19:36.962001Z",
     "shell.execute_reply": "2022-10-25T12:19:36.960960Z",
     "shell.execute_reply.started": "2022-10-25T12:19:36.950538Z"
    }
   },
   "outputs": [],
   "source": [
    "data_path = '../input/emgimu/An-EMG-and-IMU-Dataset-for-the-Italian-Sign-Language-Alphabet-master/Dataset/'"
   ]
  },
  {
   "cell_type": "code",
   "execution_count": 4,
   "metadata": {
    "execution": {
     "iopub.execute_input": "2022-10-25T12:19:36.965450Z",
     "iopub.status.busy": "2022-10-25T12:19:36.965065Z",
     "iopub.status.idle": "2022-10-25T12:19:48.173745Z",
     "shell.execute_reply": "2022-10-25T12:19:48.172777Z",
     "shell.execute_reply.started": "2022-10-25T12:19:36.965414Z"
    }
   },
   "outputs": [
    {
     "name": "stderr",
     "output_type": "stream",
     "text": [
      "2022-10-25 12:19:37.116968: I tensorflow/stream_executor/cuda/cuda_gpu_executor.cc:937] successful NUMA node read from SysFS had negative value (-1), but there must be at least one NUMA node, so returning NUMA node zero\n",
      "2022-10-25 12:19:37.117925: I tensorflow/stream_executor/cuda/cuda_gpu_executor.cc:937] successful NUMA node read from SysFS had negative value (-1), but there must be at least one NUMA node, so returning NUMA node zero\n",
      "2022-10-25 12:19:37.275521: I tensorflow/stream_executor/cuda/cuda_gpu_executor.cc:937] successful NUMA node read from SysFS had negative value (-1), but there must be at least one NUMA node, so returning NUMA node zero\n",
      "2022-10-25 12:19:37.276810: I tensorflow/stream_executor/cuda/cuda_gpu_executor.cc:937] successful NUMA node read from SysFS had negative value (-1), but there must be at least one NUMA node, so returning NUMA node zero\n",
      "2022-10-25 12:19:37.277631: I tensorflow/stream_executor/cuda/cuda_gpu_executor.cc:937] successful NUMA node read from SysFS had negative value (-1), but there must be at least one NUMA node, so returning NUMA node zero\n",
      "2022-10-25 12:19:37.278399: I tensorflow/stream_executor/cuda/cuda_gpu_executor.cc:937] successful NUMA node read from SysFS had negative value (-1), but there must be at least one NUMA node, so returning NUMA node zero\n",
      "2022-10-25 12:19:37.281888: I tensorflow/core/platform/cpu_feature_guard.cc:142] This TensorFlow binary is optimized with oneAPI Deep Neural Network Library (oneDNN) to use the following CPU instructions in performance-critical operations:  AVX2 AVX512F FMA\n",
      "To enable them in other operations, rebuild TensorFlow with the appropriate compiler flags.\n",
      "2022-10-25 12:19:37.536361: I tensorflow/stream_executor/cuda/cuda_gpu_executor.cc:937] successful NUMA node read from SysFS had negative value (-1), but there must be at least one NUMA node, so returning NUMA node zero\n",
      "2022-10-25 12:19:37.537268: I tensorflow/stream_executor/cuda/cuda_gpu_executor.cc:937] successful NUMA node read from SysFS had negative value (-1), but there must be at least one NUMA node, so returning NUMA node zero\n",
      "2022-10-25 12:19:37.538026: I tensorflow/stream_executor/cuda/cuda_gpu_executor.cc:937] successful NUMA node read from SysFS had negative value (-1), but there must be at least one NUMA node, so returning NUMA node zero\n",
      "2022-10-25 12:19:37.538717: I tensorflow/stream_executor/cuda/cuda_gpu_executor.cc:937] successful NUMA node read from SysFS had negative value (-1), but there must be at least one NUMA node, so returning NUMA node zero\n",
      "2022-10-25 12:19:37.539431: I tensorflow/stream_executor/cuda/cuda_gpu_executor.cc:937] successful NUMA node read from SysFS had negative value (-1), but there must be at least one NUMA node, so returning NUMA node zero\n",
      "2022-10-25 12:19:37.540150: I tensorflow/stream_executor/cuda/cuda_gpu_executor.cc:937] successful NUMA node read from SysFS had negative value (-1), but there must be at least one NUMA node, so returning NUMA node zero\n",
      "2022-10-25 12:19:40.828589: I tensorflow/stream_executor/cuda/cuda_gpu_executor.cc:937] successful NUMA node read from SysFS had negative value (-1), but there must be at least one NUMA node, so returning NUMA node zero\n",
      "2022-10-25 12:19:40.829399: I tensorflow/stream_executor/cuda/cuda_gpu_executor.cc:937] successful NUMA node read from SysFS had negative value (-1), but there must be at least one NUMA node, so returning NUMA node zero\n",
      "2022-10-25 12:19:40.830179: I tensorflow/stream_executor/cuda/cuda_gpu_executor.cc:937] successful NUMA node read from SysFS had negative value (-1), but there must be at least one NUMA node, so returning NUMA node zero\n",
      "2022-10-25 12:19:40.830935: I tensorflow/stream_executor/cuda/cuda_gpu_executor.cc:937] successful NUMA node read from SysFS had negative value (-1), but there must be at least one NUMA node, so returning NUMA node zero\n",
      "2022-10-25 12:19:40.831752: I tensorflow/stream_executor/cuda/cuda_gpu_executor.cc:937] successful NUMA node read from SysFS had negative value (-1), but there must be at least one NUMA node, so returning NUMA node zero\n",
      "2022-10-25 12:19:40.832445: I tensorflow/core/common_runtime/gpu/gpu_device.cc:1510] Created device /job:localhost/replica:0/task:0/device:GPU:0 with 13789 MB memory:  -> device: 0, name: Tesla T4, pci bus id: 0000:00:04.0, compute capability: 7.5\n",
      "2022-10-25 12:19:40.836525: I tensorflow/stream_executor/cuda/cuda_gpu_executor.cc:937] successful NUMA node read from SysFS had negative value (-1), but there must be at least one NUMA node, so returning NUMA node zero\n",
      "2022-10-25 12:19:40.837274: I tensorflow/core/common_runtime/gpu/gpu_device.cc:1510] Created device /job:localhost/replica:0/task:0/device:GPU:1 with 13789 MB memory:  -> device: 1, name: Tesla T4, pci bus id: 0000:00:05.0, compute capability: 7.5\n"
     ]
    },
    {
     "name": "stdout",
     "output_type": "stream",
     "text": [
      "we have 780 items in X \n"
     ]
    }
   ],
   "source": [
    "# For Files Data\n",
    "X = []\n",
    "y = []\n",
    "i=0\n",
    "for folder in  os.listdir(data_path) : \n",
    "    j=0\n",
    "    files = gb.glob(pathname= str( data_path  + folder + '/*.json'))\n",
    "    for file in files: \n",
    "        data = load_file(file,j)\n",
    "        X.append(data)\n",
    "        y.append(i)\n",
    "        j+=1\n",
    "    i+=1\n",
    "\n",
    "print(f'we have {len(X)} items in X ')"
   ]
  },
  {
   "cell_type": "code",
   "execution_count": 5,
   "metadata": {
    "execution": {
     "iopub.execute_input": "2022-10-25T12:19:48.177473Z",
     "iopub.status.busy": "2022-10-25T12:19:48.177197Z",
     "iopub.status.idle": "2022-10-25T12:19:48.200576Z",
     "shell.execute_reply": "2022-10-25T12:19:48.199621Z",
     "shell.execute_reply.started": "2022-10-25T12:19:48.177445Z"
    }
   },
   "outputs": [],
   "source": [
    "X = np.array(X)\n",
    "y = np.array(y)"
   ]
  },
  {
   "cell_type": "code",
   "execution_count": 6,
   "metadata": {
    "execution": {
     "iopub.execute_input": "2022-10-25T12:19:48.203459Z",
     "iopub.status.busy": "2022-10-25T12:19:48.202703Z",
     "iopub.status.idle": "2022-10-25T12:19:48.218021Z",
     "shell.execute_reply": "2022-10-25T12:19:48.216407Z",
     "shell.execute_reply.started": "2022-10-25T12:19:48.203417Z"
    }
   },
   "outputs": [
    {
     "name": "stdout",
     "output_type": "stream",
     "text": [
      "X shape is :  (780, 400, 18)\n",
      "y shape is :  (780,)\n"
     ]
    }
   ],
   "source": [
    "print('X shape is : ' , X.shape)\n",
    "print('y shape is : ' , y.shape)"
   ]
  },
  {
   "cell_type": "code",
   "execution_count": 7,
   "metadata": {
    "execution": {
     "iopub.execute_input": "2022-10-25T12:19:48.220554Z",
     "iopub.status.busy": "2022-10-25T12:19:48.220101Z",
     "iopub.status.idle": "2022-10-25T12:19:48.228916Z",
     "shell.execute_reply": "2022-10-25T12:19:48.227602Z",
     "shell.execute_reply.started": "2022-10-25T12:19:48.220492Z"
    }
   },
   "outputs": [],
   "source": [
    "mapping = {'A': 0, 'B': 1, 'C': 2, 'D': 3, 'E': 4, 'F': 5, 'G': 6, 'H': 7, 'I': 8, 'J': 9, 'K': 10, 'L': 11, 'M': 12, 'N': 13, 'O': 14, 'P': 15, 'Q': 16, 'R': 17, 'S': 18, 'T': 19, 'U': 20, 'V': 21, 'W': 22, 'X': 23, 'Y': 24, 'Z': 25}"
   ]
  },
  {
   "cell_type": "code",
   "execution_count": 8,
   "metadata": {
    "execution": {
     "iopub.execute_input": "2022-10-25T12:19:48.231148Z",
     "iopub.status.busy": "2022-10-25T12:19:48.230663Z",
     "iopub.status.idle": "2022-10-25T12:19:48.245796Z",
     "shell.execute_reply": "2022-10-25T12:19:48.244776Z",
     "shell.execute_reply.started": "2022-10-25T12:19:48.231101Z"
    }
   },
   "outputs": [],
   "source": [
    "def getcode(n) : \n",
    "    for x , y in mapping.items() : \n",
    "        if n == y : \n",
    "            return x"
   ]
  },
  {
   "cell_type": "code",
   "execution_count": 9,
   "metadata": {
    "execution": {
     "iopub.execute_input": "2022-10-25T12:19:48.248113Z",
     "iopub.status.busy": "2022-10-25T12:19:48.247068Z",
     "iopub.status.idle": "2022-10-25T12:19:48.466705Z",
     "shell.execute_reply": "2022-10-25T12:19:48.465626Z",
     "shell.execute_reply.started": "2022-10-25T12:19:48.248076Z"
    }
   },
   "outputs": [],
   "source": [
    "# For Smaples Data\n",
    "new_X = []\n",
    "new_y = []\n",
    "for j in range(780):\n",
    "    for i in range(400):\n",
    "        new_X.append(X[j][i])\n",
    "        new_y.append(y[j])\n",
    "        \n"
   ]
  },
  {
   "cell_type": "code",
   "execution_count": 10,
   "metadata": {
    "execution": {
     "iopub.execute_input": "2022-10-25T12:19:48.480354Z",
     "iopub.status.busy": "2022-10-25T12:19:48.480016Z",
     "iopub.status.idle": "2022-10-25T12:19:48.489664Z",
     "shell.execute_reply": "2022-10-25T12:19:48.488636Z",
     "shell.execute_reply.started": "2022-10-25T12:19:48.480325Z"
    }
   },
   "outputs": [
    {
     "data": {
      "text/plain": [
       "312000"
      ]
     },
     "execution_count": 10,
     "metadata": {},
     "output_type": "execute_result"
    }
   ],
   "source": [
    "len(new_X)"
   ]
  },
  {
   "cell_type": "code",
   "execution_count": 11,
   "metadata": {
    "execution": {
     "iopub.execute_input": "2022-10-25T12:19:48.492078Z",
     "iopub.status.busy": "2022-10-25T12:19:48.491028Z",
     "iopub.status.idle": "2022-10-25T12:19:48.503099Z",
     "shell.execute_reply": "2022-10-25T12:19:48.502095Z",
     "shell.execute_reply.started": "2022-10-25T12:19:48.492040Z"
    }
   },
   "outputs": [
    {
     "data": {
      "text/plain": [
       "312000"
      ]
     },
     "execution_count": 11,
     "metadata": {},
     "output_type": "execute_result"
    }
   ],
   "source": [
    "len(new_y)"
   ]
  },
  {
   "cell_type": "code",
   "execution_count": 12,
   "metadata": {
    "execution": {
     "iopub.execute_input": "2022-10-25T12:19:48.506428Z",
     "iopub.status.busy": "2022-10-25T12:19:48.505994Z",
     "iopub.status.idle": "2022-10-25T12:19:48.663705Z",
     "shell.execute_reply": "2022-10-25T12:19:48.662624Z",
     "shell.execute_reply.started": "2022-10-25T12:19:48.506391Z"
    }
   },
   "outputs": [],
   "source": [
    "new_X = np.array(new_X)\n",
    "new_y = np.array(new_y)\n"
   ]
  },
  {
   "cell_type": "code",
   "execution_count": 13,
   "metadata": {
    "execution": {
     "iopub.execute_input": "2022-10-25T12:19:48.665424Z",
     "iopub.status.busy": "2022-10-25T12:19:48.665035Z",
     "iopub.status.idle": "2022-10-25T12:19:48.721435Z",
     "shell.execute_reply": "2022-10-25T12:19:48.720300Z",
     "shell.execute_reply.started": "2022-10-25T12:19:48.665384Z"
    }
   },
   "outputs": [],
   "source": [
    "from sklearn.utils import shuffle\n",
    "new_X, new_y = shuffle(new_X, new_y, random_state=20)\n"
   ]
  },
  {
   "cell_type": "code",
   "execution_count": 14,
   "metadata": {
    "execution": {
     "iopub.execute_input": "2022-10-25T12:19:48.724284Z",
     "iopub.status.busy": "2022-10-25T12:19:48.723456Z",
     "iopub.status.idle": "2022-10-25T12:19:48.731505Z",
     "shell.execute_reply": "2022-10-25T12:19:48.730123Z",
     "shell.execute_reply.started": "2022-10-25T12:19:48.724240Z"
    }
   },
   "outputs": [
    {
     "name": "stdout",
     "output_type": "stream",
     "text": [
      "new_X shape is :  (312000, 18)\n",
      "new_y shape is :  (312000,)\n"
     ]
    }
   ],
   "source": [
    "print('new_X shape is : ' , new_X.shape)\n",
    "print('new_y shape is : ' , new_y.shape)\n"
   ]
  },
  {
   "cell_type": "markdown",
   "metadata": {},
   "source": [
    "# Bulding Model with samples data"
   ]
  },
  {
   "cell_type": "code",
   "execution_count": 15,
   "metadata": {
    "execution": {
     "iopub.execute_input": "2022-10-25T12:19:48.734277Z",
     "iopub.status.busy": "2022-10-25T12:19:48.733412Z",
     "iopub.status.idle": "2022-10-25T12:19:48.786077Z",
     "shell.execute_reply": "2022-10-25T12:19:48.785003Z",
     "shell.execute_reply.started": "2022-10-25T12:19:48.734233Z"
    }
   },
   "outputs": [],
   "source": [
    "X_train, X_split, y_train, y_splitt = train_test_split(new_X, new_y, test_size=0.30, random_state=42)"
   ]
  },
  {
   "cell_type": "code",
   "execution_count": 16,
   "metadata": {
    "execution": {
     "iopub.execute_input": "2022-10-25T12:19:48.788325Z",
     "iopub.status.busy": "2022-10-25T12:19:48.787556Z",
     "iopub.status.idle": "2022-10-25T12:19:48.809840Z",
     "shell.execute_reply": "2022-10-25T12:19:48.808528Z",
     "shell.execute_reply.started": "2022-10-25T12:19:48.788284Z"
    }
   },
   "outputs": [],
   "source": [
    "X_test, X_valid, y_test, y_valid = train_test_split(X_split, y_splitt, test_size=0.50, random_state=42)"
   ]
  },
  {
   "cell_type": "code",
   "execution_count": 17,
   "metadata": {
    "execution": {
     "iopub.execute_input": "2022-10-25T12:19:48.812100Z",
     "iopub.status.busy": "2022-10-25T12:19:48.811408Z",
     "iopub.status.idle": "2022-10-25T12:19:48.819440Z",
     "shell.execute_reply": "2022-10-25T12:19:48.818316Z",
     "shell.execute_reply.started": "2022-10-25T12:19:48.812056Z"
    }
   },
   "outputs": [
    {
     "data": {
      "text/plain": [
       "(218400, 18)"
      ]
     },
     "execution_count": 17,
     "metadata": {},
     "output_type": "execute_result"
    }
   ],
   "source": [
    "X_train.shape"
   ]
  },
  {
   "cell_type": "code",
   "execution_count": 18,
   "metadata": {
    "execution": {
     "iopub.execute_input": "2022-10-25T12:19:48.821942Z",
     "iopub.status.busy": "2022-10-25T12:19:48.821203Z",
     "iopub.status.idle": "2022-10-25T12:19:48.830082Z",
     "shell.execute_reply": "2022-10-25T12:19:48.828768Z",
     "shell.execute_reply.started": "2022-10-25T12:19:48.821905Z"
    }
   },
   "outputs": [],
   "source": [
    "X_train = X_train.reshape(len(X_train), X_train.shape[1],1)\n",
    "X_test = X_test.reshape(len(X_test), X_test.shape[1],1)\n",
    "X_valid = X_valid.reshape(len(X_valid), X_valid.shape[1],1)"
   ]
  },
  {
   "cell_type": "code",
   "execution_count": 19,
   "metadata": {
    "execution": {
     "iopub.execute_input": "2022-10-25T12:19:48.832667Z",
     "iopub.status.busy": "2022-10-25T12:19:48.831874Z",
     "iopub.status.idle": "2022-10-25T12:19:48.842120Z",
     "shell.execute_reply": "2022-10-25T12:19:48.840986Z",
     "shell.execute_reply.started": "2022-10-25T12:19:48.832617Z"
    }
   },
   "outputs": [
    {
     "data": {
      "text/plain": [
       "(218400, 18, 1)"
      ]
     },
     "execution_count": 19,
     "metadata": {},
     "output_type": "execute_result"
    }
   ],
   "source": [
    "X_train.shape"
   ]
  },
  {
   "cell_type": "code",
   "execution_count": 20,
   "metadata": {
    "execution": {
     "iopub.execute_input": "2022-10-25T12:19:48.844451Z",
     "iopub.status.busy": "2022-10-25T12:19:48.843710Z",
     "iopub.status.idle": "2022-10-25T12:19:48.876546Z",
     "shell.execute_reply": "2022-10-25T12:19:48.875521Z",
     "shell.execute_reply.started": "2022-10-25T12:19:48.844412Z"
    }
   },
   "outputs": [],
   "source": [
    "y_train = to_categorical(y_train)\n",
    "y_test=to_categorical(y_test)\n",
    "y_valid=to_categorical(y_valid)"
   ]
  },
  {
   "cell_type": "code",
   "execution_count": 42,
   "metadata": {
    "execution": {
     "iopub.execute_input": "2022-10-25T12:50:32.383027Z",
     "iopub.status.busy": "2022-10-25T12:50:32.382663Z",
     "iopub.status.idle": "2022-10-25T12:50:32.601492Z",
     "shell.execute_reply": "2022-10-25T12:50:32.600418Z",
     "shell.execute_reply.started": "2022-10-25T12:50:32.382996Z"
    }
   },
   "outputs": [],
   "source": [
    "from keras.models import Sequential\n",
    "from keras.layers import Dense\n",
    "from keras.layers import LSTM , Flatten, Conv1D, MaxPooling1D, GRU, SimpleRNN, Bidirectional\n",
    "from keras.layers import Dropout\n",
    "import keras\n",
    "\n",
    "model = Sequential()\n",
    "\n",
    "model.add(Conv1D(128, 3, activation='relu', input_shape=(18, 1))),\n",
    "model.add(MaxPooling1D(3)),\n",
    "model.add(Conv1D(64, 3, activation='relu')),\n",
    "model.add(MaxPooling1D(3)),\n",
    "model.add(CuDNNLSTM(units=265, return_sequences=True))\n",
    "model.add(CuDNNLSTM(units=128, return_sequences=True))\n",
    "model.add(Dropout(rate=0.3))\n",
    "\n",
    "\n",
    "model.add(Flatten())\n",
    "# model.add(Dense(256,activation='relu'))\n",
    "# model.add(Dropout(0.2))\n",
    "# model.add(Dense(128,activation='tanh'))\n",
    "# model.add(Dropout(0.2))\n",
    "# model.add(Dense(64,activation='tanh'))\n",
    "\n",
    "model.add(Dense(26,activation='softmax'))"
   ]
  },
  {
   "cell_type": "code",
   "execution_count": 43,
   "metadata": {
    "execution": {
     "iopub.execute_input": "2022-10-25T12:50:32.687070Z",
     "iopub.status.busy": "2022-10-25T12:50:32.685066Z",
     "iopub.status.idle": "2022-10-25T12:50:32.692999Z",
     "shell.execute_reply": "2022-10-25T12:50:32.691712Z",
     "shell.execute_reply.started": "2022-10-25T12:50:32.687022Z"
    }
   },
   "outputs": [
    {
     "name": "stdout",
     "output_type": "stream",
     "text": [
      "Model: \"sequential_5\"\n",
      "_________________________________________________________________\n",
      "Layer (type)                 Output Shape              Param #   \n",
      "=================================================================\n",
      "conv1d_2 (Conv1D)            (None, 16, 128)           512       \n",
      "_________________________________________________________________\n",
      "max_pooling1d_2 (MaxPooling1 (None, 5, 128)            0         \n",
      "_________________________________________________________________\n",
      "conv1d_3 (Conv1D)            (None, 3, 64)             24640     \n",
      "_________________________________________________________________\n",
      "max_pooling1d_3 (MaxPooling1 (None, 1, 64)             0         \n",
      "_________________________________________________________________\n",
      "cu_dnnlstm_8 (CuDNNLSTM)     (None, 1, 265)            350860    \n",
      "_________________________________________________________________\n",
      "cu_dnnlstm_9 (CuDNNLSTM)     (None, 1, 128)            202240    \n",
      "_________________________________________________________________\n",
      "dropout_8 (Dropout)          (None, 1, 128)            0         \n",
      "_________________________________________________________________\n",
      "flatten_5 (Flatten)          (None, 128)               0         \n",
      "_________________________________________________________________\n",
      "dense_13 (Dense)             (None, 26)                3354      \n",
      "=================================================================\n",
      "Total params: 581,606\n",
      "Trainable params: 581,606\n",
      "Non-trainable params: 0\n",
      "_________________________________________________________________\n"
     ]
    }
   ],
   "source": [
    "model.summary()"
   ]
  },
  {
   "cell_type": "code",
   "execution_count": 44,
   "metadata": {
    "execution": {
     "iopub.execute_input": "2022-10-25T12:50:32.919973Z",
     "iopub.status.busy": "2022-10-25T12:50:32.919331Z",
     "iopub.status.idle": "2022-10-25T12:55:06.587505Z",
     "shell.execute_reply": "2022-10-25T12:55:06.586485Z",
     "shell.execute_reply.started": "2022-10-25T12:50:32.919930Z"
    }
   },
   "outputs": [
    {
     "name": "stdout",
     "output_type": "stream",
     "text": [
      "Epoch 1/50\n",
      "1707/1707 [==============================] - 19s 7ms/step - loss: 2.6479 - accuracy: 0.1921 - val_loss: 2.4629 - val_accuracy: 0.2415\n",
      "Epoch 2/50\n",
      "1707/1707 [==============================] - 11s 6ms/step - loss: 2.4456 - accuracy: 0.2440 - val_loss: 2.3730 - val_accuracy: 0.2657\n",
      "Epoch 3/50\n",
      "1707/1707 [==============================] - 10s 6ms/step - loss: 2.3754 - accuracy: 0.2647 - val_loss: 2.3402 - val_accuracy: 0.2760\n",
      "Epoch 4/50\n",
      "1707/1707 [==============================] - 11s 6ms/step - loss: 2.3382 - accuracy: 0.2753 - val_loss: 2.2939 - val_accuracy: 0.2912\n",
      "Epoch 5/50\n",
      "1707/1707 [==============================] - 11s 6ms/step - loss: 2.3111 - accuracy: 0.2830 - val_loss: 2.2831 - val_accuracy: 0.2931\n",
      "Epoch 6/50\n",
      "1707/1707 [==============================] - 10s 6ms/step - loss: 2.2895 - accuracy: 0.2898 - val_loss: 2.2564 - val_accuracy: 0.3023\n",
      "Epoch 7/50\n",
      "1707/1707 [==============================] - 11s 6ms/step - loss: 2.2745 - accuracy: 0.2941 - val_loss: 2.2514 - val_accuracy: 0.3027\n",
      "Epoch 8/50\n",
      "1707/1707 [==============================] - 11s 6ms/step - loss: 2.2586 - accuracy: 0.2993 - val_loss: 2.2234 - val_accuracy: 0.3119\n",
      "Epoch 9/50\n",
      "1707/1707 [==============================] - 11s 6ms/step - loss: 2.2466 - accuracy: 0.3024 - val_loss: 2.2408 - val_accuracy: 0.3042\n",
      "Epoch 10/50\n",
      "1707/1707 [==============================] - 11s 6ms/step - loss: 2.2357 - accuracy: 0.3053 - val_loss: 2.2290 - val_accuracy: 0.3084\n",
      "Epoch 11/50\n",
      "1707/1707 [==============================] - 10s 6ms/step - loss: 2.2252 - accuracy: 0.3092 - val_loss: 2.2252 - val_accuracy: 0.3103\n",
      "Epoch 12/50\n",
      "1707/1707 [==============================] - 11s 6ms/step - loss: 2.2164 - accuracy: 0.3100 - val_loss: 2.2144 - val_accuracy: 0.3161\n",
      "Epoch 13/50\n",
      "1707/1707 [==============================] - 11s 6ms/step - loss: 2.2046 - accuracy: 0.3139 - val_loss: 2.2110 - val_accuracy: 0.3127\n",
      "Epoch 14/50\n",
      "1707/1707 [==============================] - 10s 6ms/step - loss: 2.1964 - accuracy: 0.3162 - val_loss: 2.2156 - val_accuracy: 0.3151\n",
      "Epoch 15/50\n",
      "1707/1707 [==============================] - 11s 6ms/step - loss: 2.1887 - accuracy: 0.3191 - val_loss: 2.2103 - val_accuracy: 0.3144\n",
      "Epoch 16/50\n",
      "1707/1707 [==============================] - 11s 6ms/step - loss: 2.1828 - accuracy: 0.3189 - val_loss: 2.2064 - val_accuracy: 0.3155\n",
      "Epoch 17/50\n",
      "1707/1707 [==============================] - 11s 6ms/step - loss: 2.1724 - accuracy: 0.3223 - val_loss: 2.2047 - val_accuracy: 0.3168\n",
      "Epoch 18/50\n",
      "1707/1707 [==============================] - 11s 6ms/step - loss: 2.1656 - accuracy: 0.3259 - val_loss: 2.2123 - val_accuracy: 0.3130\n",
      "Epoch 19/50\n",
      "1707/1707 [==============================] - 11s 6ms/step - loss: 2.1602 - accuracy: 0.3270 - val_loss: 2.2089 - val_accuracy: 0.3163\n",
      "Epoch 20/50\n",
      "1707/1707 [==============================] - 10s 6ms/step - loss: 2.1555 - accuracy: 0.3287 - val_loss: 2.2000 - val_accuracy: 0.3177\n",
      "Epoch 21/50\n",
      "1707/1707 [==============================] - 11s 6ms/step - loss: 2.1457 - accuracy: 0.3308 - val_loss: 2.2040 - val_accuracy: 0.3190\n",
      "Epoch 22/50\n",
      "1707/1707 [==============================] - 10s 6ms/step - loss: 2.1418 - accuracy: 0.3322 - val_loss: 2.2098 - val_accuracy: 0.3172\n",
      "Epoch 23/50\n",
      "1707/1707 [==============================] - 10s 6ms/step - loss: 2.1325 - accuracy: 0.3346 - val_loss: 2.2035 - val_accuracy: 0.3191\n",
      "Epoch 24/50\n",
      "1707/1707 [==============================] - 11s 6ms/step - loss: 2.1309 - accuracy: 0.3346 - val_loss: 2.2125 - val_accuracy: 0.3175\n",
      "Epoch 25/50\n",
      "1707/1707 [==============================] - 10s 6ms/step - loss: 2.1238 - accuracy: 0.3364 - val_loss: 2.2081 - val_accuracy: 0.3167\n",
      "Epoch 00025: early stopping\n"
     ]
    }
   ],
   "source": [
    "import tensorflow as tf\n",
    "\n",
    "# try using different optimizers and different optimizer configs\n",
    "model.compile(loss='categorical_crossentropy',optimizer='adam',metrics=['accuracy'])\n",
    "es = tf.keras.callbacks.EarlyStopping(monitor='val_loss', mode='min', verbose=1, patience=5)\n",
    "checkpointer = tf.keras.callbacks.ModelCheckpoint(filepath=\"./checkpoint-{epoch:02d}.hdf5\", verbose=1, save_best_only=True, monitor='val_acc',mode='max')\n",
    "csv_logger = CSVLogger('training_set_iranalysis3.csv',separator=',', append=False)\n",
    "history = model.fit(X_train, y_train, batch_size=128, epochs=50, validation_data=(X_valid, y_valid),callbacks=[es,checkpointer,csv_logger])\n",
    "model.save(\"./lstm.hdf5\")"
   ]
  },
  {
   "cell_type": "code",
   "execution_count": 45,
   "metadata": {
    "execution": {
     "iopub.execute_input": "2022-10-25T12:55:06.590235Z",
     "iopub.status.busy": "2022-10-25T12:55:06.589579Z",
     "iopub.status.idle": "2022-10-25T12:56:01.414132Z",
     "shell.execute_reply": "2022-10-25T12:56:01.413219Z",
     "shell.execute_reply.started": "2022-10-25T12:55:06.590194Z"
    }
   },
   "outputs": [
    {
     "name": "stdout",
     "output_type": "stream",
     "text": [
      "1463/1463 [==============================] - 5s 3ms/step - loss: 2.2198 - accuracy: 0.3121\n",
      "Test results - Loss: 2.2197775840759277 - Accuracy: 31.207263469696045%\n"
     ]
    }
   ],
   "source": [
    "test_results = model.evaluate(X_test, y_test, verbose=1)\n",
    "print(f'Test results - Loss: {test_results[0]} - Accuracy: {test_results[1]*100}%')"
   ]
  },
  {
   "cell_type": "code",
   "execution_count": 46,
   "metadata": {
    "execution": {
     "iopub.execute_input": "2022-10-25T12:56:01.415988Z",
     "iopub.status.busy": "2022-10-25T12:56:01.415627Z",
     "iopub.status.idle": "2022-10-25T12:56:01.623301Z",
     "shell.execute_reply": "2022-10-25T12:56:01.622353Z",
     "shell.execute_reply.started": "2022-10-25T12:56:01.415951Z"
    }
   },
   "outputs": [
    {
     "data": {
      "image/png": "[encoded data removed]",
      "text/plain": [
       "<Figure size 432x288 with 1 Axes>"
      ]
     },
     "metadata": {
      "needs_background": "light"
     },
     "output_type": "display_data"
    }
   ],
   "source": [
    "import matplotlib.pyplot as plt\n",
    "plt.plot(history.history['accuracy'])\n",
    "plt.plot(history.history['val_accuracy'])\n",
    "plt.title(\"Plot of accuracy vs epoch for train and test dataset\")\n",
    "plt.ylabel('accuracy')\n",
    "plt.xlabel('epoch')\n",
    "plt.show()"
   ]
  },
  {
   "cell_type": "code",
   "execution_count": 47,
   "metadata": {
    "execution": {
     "iopub.execute_input": "2022-10-25T12:56:01.627209Z",
     "iopub.status.busy": "2022-10-25T12:56:01.626939Z",
     "iopub.status.idle": "2022-10-25T12:56:01.842045Z",
     "shell.execute_reply": "2022-10-25T12:56:01.841061Z",
     "shell.execute_reply.started": "2022-10-25T12:56:01.627182Z"
    }
   },
   "outputs": [
    {
     "data": {
      "image/png": "[encoded data removed]",
      "text/plain": [
       "<Figure size 432x288 with 1 Axes>"
      ]
     },
     "metadata": {
      "needs_background": "light"
     },
     "output_type": "display_data"
    }
   ],
   "source": [
    "plt.plot(history.history['loss'])\n",
    "plt.plot(history.history['val_loss'])\n",
    "plt.title(\"Plot of loss vs epoch for train and test dataset\")\n",
    "plt.ylabel('loss')\n",
    "plt.xlabel('epoch')\n",
    "plt.legend(['train', 'test'], loc='upper right')\n",
    "plt.show()"
   ]
  },
  {
   "cell_type": "code",
   "execution_count": null,
   "metadata": {},
   "outputs": [],
   "source": []
  },
  {
   "cell_type": "code",
   "execution_count": null,
   "metadata": {},
   "outputs": [],
   "source": []
  }
 ],
 "metadata": {
  "kernelspec": {
   "display_name": "Python 3 (ipykernel)",
   "language": "python",
   "name": "python3"
  },
  "language_info": {
   "codemirror_mode": {
    "name": "ipython",
    "version": 3
   },
   "file_extension": ".py",
   "mimetype": "text/x-python",
   "name": "python",
   "nbconvert_exporter": "python",
   "pygments_lexer": "ipython3",
   "version": "3.9.12"
  }
 },
 "nbformat": 4,
 "nbformat_minor": 4
}
