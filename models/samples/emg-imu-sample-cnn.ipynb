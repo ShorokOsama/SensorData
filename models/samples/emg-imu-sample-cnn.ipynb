{
 "cells": [
  {
   "cell_type": "code",
   "execution_count": 1,
   "metadata": {
    "_cell_guid": "b1076dfc-b9ad-4769-8c92-a6c4dae69d19",
    "_uuid": "8f2839f25d086af736a60e9eeb907d3b93b6e0e5",
    "execution": {
     "iopub.execute_input": "2022-10-25T12:19:29.534644Z",
     "iopub.status.busy": "2022-10-25T12:19:29.534256Z",
     "iopub.status.idle": "2022-10-25T12:19:36.938055Z",
     "shell.execute_reply": "2022-10-25T12:19:36.937071Z",
     "shell.execute_reply.started": "2022-10-25T12:19:29.534535Z"
    }
   },
   "outputs": [],
   "source": [
    "import json\n",
    "import numpy as np\n",
    "from pandas.io.json import json_normalize\n",
    "\n",
    "import os\n",
    "import glob as gb\n",
    "import tensorflow as tf\n",
    "\n",
    "from sklearn.model_selection import train_test_split\n",
    "import keras \n",
    "from keras.utils.np_utils import to_categorical\n",
    "from keras.models import Sequential\n",
    "from keras.layers import Dense\n",
    "from keras.layers import LSTM , Flatten , CuDNNLSTM , GRU\n",
    "from keras.layers import Dropout\n",
    "import keras\n",
    "\n",
    "from keras import callbacks\n",
    "from keras.callbacks import  CSVLogger\n",
    "\n",
    "\n",
    "# Model Evaluations\n",
    "from sklearn import metrics\n",
    "from sklearn.metrics import accuracy_score \n",
    "from sklearn.metrics import classification_report \n",
    "from sklearn.metrics import precision_score\n",
    "from sklearn.metrics import recall_score\n",
    "from sklearn.metrics import f1_score\n",
    "from sklearn.metrics import roc_auc_score\n",
    "from sklearn.metrics import roc_curve, auc\n"
   ]
  },
  {
   "cell_type": "code",
   "execution_count": 2,
   "metadata": {
    "execution": {
     "iopub.execute_input": "2022-10-25T12:19:36.940922Z",
     "iopub.status.busy": "2022-10-25T12:19:36.940237Z",
     "iopub.status.idle": "2022-10-25T12:19:36.948594Z",
     "shell.execute_reply": "2022-10-25T12:19:36.947533Z",
     "shell.execute_reply.started": "2022-10-25T12:19:36.940882Z"
    }
   },
   "outputs": [],
   "source": [
    "def load_file(filepath,i):\n",
    "    with open(filepath) as f:\n",
    "        data = json.load(f)\n",
    "    imu = data['imu']['data']\n",
    "    emg = data['emg']['data']\n",
    "    emg = np.array(emg)\n",
    "    imu = np.array(imu)\n",
    "    imu_gyr = np.array([(e['gyroscope']) for e in imu])\n",
    "    imu_acc = np.array([(e['acceleration']) for e in imu])\n",
    "    imu_orn = np.array([(e['orientation']) for e in imu])\n",
    "    #timestamp = [i]\n",
    "    #timestamp = np.repeat(timestamp, 400, axis=None)\n",
    "    #timestamp= timestamp.reshape(400,1)\n",
    "    dataset = tf.concat([emg, imu_gyr, imu_acc, imu_orn], axis=1, name='concat')\n",
    "    dataset = np.array(dataset)\n",
    "    return dataset"
   ]
  },
  {
   "cell_type": "code",
   "execution_count": 3,
   "metadata": {
    "execution": {
     "iopub.execute_input": "2022-10-25T12:19:36.950577Z",
     "iopub.status.busy": "2022-10-25T12:19:36.950141Z",
     "iopub.status.idle": "2022-10-25T12:19:36.962001Z",
     "shell.execute_reply": "2022-10-25T12:19:36.960960Z",
     "shell.execute_reply.started": "2022-10-25T12:19:36.950538Z"
    }
   },
   "outputs": [],
   "source": [
    "data_path = '../input/emgimu/An-EMG-and-IMU-Dataset-for-the-Italian-Sign-Language-Alphabet-master/Dataset/'"
   ]
  },
  {
   "cell_type": "code",
   "execution_count": 4,
   "metadata": {
    "execution": {
     "iopub.execute_input": "2022-10-25T12:19:36.965450Z",
     "iopub.status.busy": "2022-10-25T12:19:36.965065Z",
     "iopub.status.idle": "2022-10-25T12:19:48.173745Z",
     "shell.execute_reply": "2022-10-25T12:19:48.172777Z",
     "shell.execute_reply.started": "2022-10-25T12:19:36.965414Z"
    }
   },
   "outputs": [
    {
     "name": "stderr",
     "output_type": "stream",
     "text": [
      "2022-10-25 12:19:37.116968: I tensorflow/stream_executor/cuda/cuda_gpu_executor.cc:937] successful NUMA node read from SysFS had negative value (-1), but there must be at least one NUMA node, so returning NUMA node zero\n",
      "2022-10-25 12:19:37.117925: I tensorflow/stream_executor/cuda/cuda_gpu_executor.cc:937] successful NUMA node read from SysFS had negative value (-1), but there must be at least one NUMA node, so returning NUMA node zero\n",
      "2022-10-25 12:19:37.275521: I tensorflow/stream_executor/cuda/cuda_gpu_executor.cc:937] successful NUMA node read from SysFS had negative value (-1), but there must be at least one NUMA node, so returning NUMA node zero\n",
      "2022-10-25 12:19:37.276810: I tensorflow/stream_executor/cuda/cuda_gpu_executor.cc:937] successful NUMA node read from SysFS had negative value (-1), but there must be at least one NUMA node, so returning NUMA node zero\n",
      "2022-10-25 12:19:37.277631: I tensorflow/stream_executor/cuda/cuda_gpu_executor.cc:937] successful NUMA node read from SysFS had negative value (-1), but there must be at least one NUMA node, so returning NUMA node zero\n",
      "2022-10-25 12:19:37.278399: I tensorflow/stream_executor/cuda/cuda_gpu_executor.cc:937] successful NUMA node read from SysFS had negative value (-1), but there must be at least one NUMA node, so returning NUMA node zero\n",
      "2022-10-25 12:19:37.281888: I tensorflow/core/platform/cpu_feature_guard.cc:142] This TensorFlow binary is optimized with oneAPI Deep Neural Network Library (oneDNN) to use the following CPU instructions in performance-critical operations:  AVX2 AVX512F FMA\n",
      "To enable them in other operations, rebuild TensorFlow with the appropriate compiler flags.\n",
      "2022-10-25 12:19:37.536361: I tensorflow/stream_executor/cuda/cuda_gpu_executor.cc:937] successful NUMA node read from SysFS had negative value (-1), but there must be at least one NUMA node, so returning NUMA node zero\n",
      "2022-10-25 12:19:37.537268: I tensorflow/stream_executor/cuda/cuda_gpu_executor.cc:937] successful NUMA node read from SysFS had negative value (-1), but there must be at least one NUMA node, so returning NUMA node zero\n",
      "2022-10-25 12:19:37.538026: I tensorflow/stream_executor/cuda/cuda_gpu_executor.cc:937] successful NUMA node read from SysFS had negative value (-1), but there must be at least one NUMA node, so returning NUMA node zero\n",
      "2022-10-25 12:19:37.538717: I tensorflow/stream_executor/cuda/cuda_gpu_executor.cc:937] successful NUMA node read from SysFS had negative value (-1), but there must be at least one NUMA node, so returning NUMA node zero\n",
      "2022-10-25 12:19:37.539431: I tensorflow/stream_executor/cuda/cuda_gpu_executor.cc:937] successful NUMA node read from SysFS had negative value (-1), but there must be at least one NUMA node, so returning NUMA node zero\n",
      "2022-10-25 12:19:37.540150: I tensorflow/stream_executor/cuda/cuda_gpu_executor.cc:937] successful NUMA node read from SysFS had negative value (-1), but there must be at least one NUMA node, so returning NUMA node zero\n",
      "2022-10-25 12:19:40.828589: I tensorflow/stream_executor/cuda/cuda_gpu_executor.cc:937] successful NUMA node read from SysFS had negative value (-1), but there must be at least one NUMA node, so returning NUMA node zero\n",
      "2022-10-25 12:19:40.829399: I tensorflow/stream_executor/cuda/cuda_gpu_executor.cc:937] successful NUMA node read from SysFS had negative value (-1), but there must be at least one NUMA node, so returning NUMA node zero\n",
      "2022-10-25 12:19:40.830179: I tensorflow/stream_executor/cuda/cuda_gpu_executor.cc:937] successful NUMA node read from SysFS had negative value (-1), but there must be at least one NUMA node, so returning NUMA node zero\n",
      "2022-10-25 12:19:40.830935: I tensorflow/stream_executor/cuda/cuda_gpu_executor.cc:937] successful NUMA node read from SysFS had negative value (-1), but there must be at least one NUMA node, so returning NUMA node zero\n",
      "2022-10-25 12:19:40.831752: I tensorflow/stream_executor/cuda/cuda_gpu_executor.cc:937] successful NUMA node read from SysFS had negative value (-1), but there must be at least one NUMA node, so returning NUMA node zero\n",
      "2022-10-25 12:19:40.832445: I tensorflow/core/common_runtime/gpu/gpu_device.cc:1510] Created device /job:localhost/replica:0/task:0/device:GPU:0 with 13789 MB memory:  -> device: 0, name: Tesla T4, pci bus id: 0000:00:04.0, compute capability: 7.5\n",
      "2022-10-25 12:19:40.836525: I tensorflow/stream_executor/cuda/cuda_gpu_executor.cc:937] successful NUMA node read from SysFS had negative value (-1), but there must be at least one NUMA node, so returning NUMA node zero\n",
      "2022-10-25 12:19:40.837274: I tensorflow/core/common_runtime/gpu/gpu_device.cc:1510] Created device /job:localhost/replica:0/task:0/device:GPU:1 with 13789 MB memory:  -> device: 1, name: Tesla T4, pci bus id: 0000:00:05.0, compute capability: 7.5\n"
     ]
    },
    {
     "name": "stdout",
     "output_type": "stream",
     "text": [
      "we have 780 items in X \n"
     ]
    }
   ],
   "source": [
    "# For Files Data\n",
    "X = []\n",
    "y = []\n",
    "i=0\n",
    "for folder in  os.listdir(data_path) : \n",
    "    j=0\n",
    "    files = gb.glob(pathname= str( data_path  + folder + '/*.json'))\n",
    "    for file in files: \n",
    "        data = load_file(file,j)\n",
    "        X.append(data)\n",
    "        y.append(i)\n",
    "        j+=1\n",
    "    i+=1\n",
    "\n",
    "print(f'we have {len(X)} items in X ')"
   ]
  },
  {
   "cell_type": "code",
   "execution_count": 5,
   "metadata": {
    "execution": {
     "iopub.execute_input": "2022-10-25T12:19:48.177473Z",
     "iopub.status.busy": "2022-10-25T12:19:48.177197Z",
     "iopub.status.idle": "2022-10-25T12:19:48.200576Z",
     "shell.execute_reply": "2022-10-25T12:19:48.199621Z",
     "shell.execute_reply.started": "2022-10-25T12:19:48.177445Z"
    }
   },
   "outputs": [],
   "source": [
    "X = np.array(X)\n",
    "y = np.array(y)"
   ]
  },
  {
   "cell_type": "code",
   "execution_count": 6,
   "metadata": {
    "execution": {
     "iopub.execute_input": "2022-10-25T12:19:48.203459Z",
     "iopub.status.busy": "2022-10-25T12:19:48.202703Z",
     "iopub.status.idle": "2022-10-25T12:19:48.218021Z",
     "shell.execute_reply": "2022-10-25T12:19:48.216407Z",
     "shell.execute_reply.started": "2022-10-25T12:19:48.203417Z"
    }
   },
   "outputs": [
    {
     "name": "stdout",
     "output_type": "stream",
     "text": [
      "X shape is :  (780, 400, 18)\n",
      "y shape is :  (780,)\n"
     ]
    }
   ],
   "source": [
    "print('X shape is : ' , X.shape)\n",
    "print('y shape is : ' , y.shape)"
   ]
  },
  {
   "cell_type": "code",
   "execution_count": 7,
   "metadata": {
    "execution": {
     "iopub.execute_input": "2022-10-25T12:19:48.220554Z",
     "iopub.status.busy": "2022-10-25T12:19:48.220101Z",
     "iopub.status.idle": "2022-10-25T12:19:48.228916Z",
     "shell.execute_reply": "2022-10-25T12:19:48.227602Z",
     "shell.execute_reply.started": "2022-10-25T12:19:48.220492Z"
    }
   },
   "outputs": [],
   "source": [
    "mapping = {'A': 0, 'B': 1, 'C': 2, 'D': 3, 'E': 4, 'F': 5, 'G': 6, 'H': 7, 'I': 8, 'J': 9, 'K': 10, 'L': 11, 'M': 12, 'N': 13, 'O': 14, 'P': 15, 'Q': 16, 'R': 17, 'S': 18, 'T': 19, 'U': 20, 'V': 21, 'W': 22, 'X': 23, 'Y': 24, 'Z': 25}"
   ]
  },
  {
   "cell_type": "code",
   "execution_count": 8,
   "metadata": {
    "execution": {
     "iopub.execute_input": "2022-10-25T12:19:48.231148Z",
     "iopub.status.busy": "2022-10-25T12:19:48.230663Z",
     "iopub.status.idle": "2022-10-25T12:19:48.245796Z",
     "shell.execute_reply": "2022-10-25T12:19:48.244776Z",
     "shell.execute_reply.started": "2022-10-25T12:19:48.231101Z"
    }
   },
   "outputs": [],
   "source": [
    "def getcode(n) : \n",
    "    for x , y in mapping.items() : \n",
    "        if n == y : \n",
    "            return x"
   ]
  },
  {
   "cell_type": "code",
   "execution_count": 9,
   "metadata": {
    "execution": {
     "iopub.execute_input": "2022-10-25T12:19:48.248113Z",
     "iopub.status.busy": "2022-10-25T12:19:48.247068Z",
     "iopub.status.idle": "2022-10-25T12:19:48.466705Z",
     "shell.execute_reply": "2022-10-25T12:19:48.465626Z",
     "shell.execute_reply.started": "2022-10-25T12:19:48.248076Z"
    }
   },
   "outputs": [],
   "source": [
    "# For Smaples Data\n",
    "new_X = []\n",
    "new_y = []\n",
    "for j in range(780):\n",
    "    for i in range(400):\n",
    "        new_X.append(X[j][i])\n",
    "        new_y.append(y[j])\n",
    "        \n"
   ]
  },
  {
   "cell_type": "code",
   "execution_count": 10,
   "metadata": {
    "execution": {
     "iopub.execute_input": "2022-10-25T12:19:48.480354Z",
     "iopub.status.busy": "2022-10-25T12:19:48.480016Z",
     "iopub.status.idle": "2022-10-25T12:19:48.489664Z",
     "shell.execute_reply": "2022-10-25T12:19:48.488636Z",
     "shell.execute_reply.started": "2022-10-25T12:19:48.480325Z"
    }
   },
   "outputs": [
    {
     "data": {
      "text/plain": [
       "312000"
      ]
     },
     "execution_count": 10,
     "metadata": {},
     "output_type": "execute_result"
    }
   ],
   "source": [
    "len(new_X)"
   ]
  },
  {
   "cell_type": "code",
   "execution_count": 11,
   "metadata": {
    "execution": {
     "iopub.execute_input": "2022-10-25T12:19:48.492078Z",
     "iopub.status.busy": "2022-10-25T12:19:48.491028Z",
     "iopub.status.idle": "2022-10-25T12:19:48.503099Z",
     "shell.execute_reply": "2022-10-25T12:19:48.502095Z",
     "shell.execute_reply.started": "2022-10-25T12:19:48.492040Z"
    }
   },
   "outputs": [
    {
     "data": {
      "text/plain": [
       "312000"
      ]
     },
     "execution_count": 11,
     "metadata": {},
     "output_type": "execute_result"
    }
   ],
   "source": [
    "len(new_y)"
   ]
  },
  {
   "cell_type": "code",
   "execution_count": 12,
   "metadata": {
    "execution": {
     "iopub.execute_input": "2022-10-25T12:19:48.506428Z",
     "iopub.status.busy": "2022-10-25T12:19:48.505994Z",
     "iopub.status.idle": "2022-10-25T12:19:48.663705Z",
     "shell.execute_reply": "2022-10-25T12:19:48.662624Z",
     "shell.execute_reply.started": "2022-10-25T12:19:48.506391Z"
    }
   },
   "outputs": [],
   "source": [
    "new_X = np.array(new_X)\n",
    "new_y = np.array(new_y)\n"
   ]
  },
  {
   "cell_type": "code",
   "execution_count": 13,
   "metadata": {
    "execution": {
     "iopub.execute_input": "2022-10-25T12:19:48.665424Z",
     "iopub.status.busy": "2022-10-25T12:19:48.665035Z",
     "iopub.status.idle": "2022-10-25T12:19:48.721435Z",
     "shell.execute_reply": "2022-10-25T12:19:48.720300Z",
     "shell.execute_reply.started": "2022-10-25T12:19:48.665384Z"
    }
   },
   "outputs": [],
   "source": [
    "from sklearn.utils import shuffle\n",
    "new_X, new_y = shuffle(new_X, new_y, random_state=20)\n"
   ]
  },
  {
   "cell_type": "code",
   "execution_count": 14,
   "metadata": {
    "execution": {
     "iopub.execute_input": "2022-10-25T12:19:48.724284Z",
     "iopub.status.busy": "2022-10-25T12:19:48.723456Z",
     "iopub.status.idle": "2022-10-25T12:19:48.731505Z",
     "shell.execute_reply": "2022-10-25T12:19:48.730123Z",
     "shell.execute_reply.started": "2022-10-25T12:19:48.724240Z"
    }
   },
   "outputs": [
    {
     "name": "stdout",
     "output_type": "stream",
     "text": [
      "new_X shape is :  (312000, 18)\n",
      "new_y shape is :  (312000,)\n"
     ]
    }
   ],
   "source": [
    "print('new_X shape is : ' , new_X.shape)\n",
    "print('new_y shape is : ' , new_y.shape)\n"
   ]
  },
  {
   "cell_type": "markdown",
   "metadata": {},
   "source": [
    "# Bulding Model with samples data"
   ]
  },
  {
   "cell_type": "code",
   "execution_count": 15,
   "metadata": {
    "execution": {
     "iopub.execute_input": "2022-10-25T12:19:48.734277Z",
     "iopub.status.busy": "2022-10-25T12:19:48.733412Z",
     "iopub.status.idle": "2022-10-25T12:19:48.786077Z",
     "shell.execute_reply": "2022-10-25T12:19:48.785003Z",
     "shell.execute_reply.started": "2022-10-25T12:19:48.734233Z"
    }
   },
   "outputs": [],
   "source": [
    "X_train, X_split, y_train, y_splitt = train_test_split(new_X, new_y, test_size=0.30, random_state=42)"
   ]
  },
  {
   "cell_type": "code",
   "execution_count": 16,
   "metadata": {
    "execution": {
     "iopub.execute_input": "2022-10-25T12:19:48.788325Z",
     "iopub.status.busy": "2022-10-25T12:19:48.787556Z",
     "iopub.status.idle": "2022-10-25T12:19:48.809840Z",
     "shell.execute_reply": "2022-10-25T12:19:48.808528Z",
     "shell.execute_reply.started": "2022-10-25T12:19:48.788284Z"
    }
   },
   "outputs": [],
   "source": [
    "X_test, X_valid, y_test, y_valid = train_test_split(X_split, y_splitt, test_size=0.50, random_state=42)"
   ]
  },
  {
   "cell_type": "code",
   "execution_count": 17,
   "metadata": {
    "execution": {
     "iopub.execute_input": "2022-10-25T12:19:48.812100Z",
     "iopub.status.busy": "2022-10-25T12:19:48.811408Z",
     "iopub.status.idle": "2022-10-25T12:19:48.819440Z",
     "shell.execute_reply": "2022-10-25T12:19:48.818316Z",
     "shell.execute_reply.started": "2022-10-25T12:19:48.812056Z"
    }
   },
   "outputs": [
    {
     "data": {
      "text/plain": [
       "(218400, 18)"
      ]
     },
     "execution_count": 17,
     "metadata": {},
     "output_type": "execute_result"
    }
   ],
   "source": [
    "X_train.shape"
   ]
  },
  {
   "cell_type": "code",
   "execution_count": 18,
   "metadata": {
    "execution": {
     "iopub.execute_input": "2022-10-25T12:19:48.821942Z",
     "iopub.status.busy": "2022-10-25T12:19:48.821203Z",
     "iopub.status.idle": "2022-10-25T12:19:48.830082Z",
     "shell.execute_reply": "2022-10-25T12:19:48.828768Z",
     "shell.execute_reply.started": "2022-10-25T12:19:48.821905Z"
    }
   },
   "outputs": [],
   "source": [
    "X_train = X_train.reshape(len(X_train), X_train.shape[1],1)\n",
    "X_test = X_test.reshape(len(X_test), X_test.shape[1],1)\n",
    "X_valid = X_valid.reshape(len(X_valid), X_valid.shape[1],1)"
   ]
  },
  {
   "cell_type": "code",
   "execution_count": 19,
   "metadata": {
    "execution": {
     "iopub.execute_input": "2022-10-25T12:19:48.832667Z",
     "iopub.status.busy": "2022-10-25T12:19:48.831874Z",
     "iopub.status.idle": "2022-10-25T12:19:48.842120Z",
     "shell.execute_reply": "2022-10-25T12:19:48.840986Z",
     "shell.execute_reply.started": "2022-10-25T12:19:48.832617Z"
    }
   },
   "outputs": [
    {
     "data": {
      "text/plain": [
       "(218400, 18, 1)"
      ]
     },
     "execution_count": 19,
     "metadata": {},
     "output_type": "execute_result"
    }
   ],
   "source": [
    "X_train.shape"
   ]
  },
  {
   "cell_type": "code",
   "execution_count": 20,
   "metadata": {
    "execution": {
     "iopub.execute_input": "2022-10-25T12:19:48.844451Z",
     "iopub.status.busy": "2022-10-25T12:19:48.843710Z",
     "iopub.status.idle": "2022-10-25T12:19:48.876546Z",
     "shell.execute_reply": "2022-10-25T12:19:48.875521Z",
     "shell.execute_reply.started": "2022-10-25T12:19:48.844412Z"
    }
   },
   "outputs": [],
   "source": [
    "y_train = to_categorical(y_train)\n",
    "y_test=to_categorical(y_test)\n",
    "y_valid=to_categorical(y_valid)"
   ]
  },
  {
   "cell_type": "code",
   "execution_count": 86,
   "metadata": {
    "execution": {
     "iopub.execute_input": "2022-10-25T13:58:22.357214Z",
     "iopub.status.busy": "2022-10-25T13:58:22.356817Z",
     "iopub.status.idle": "2022-10-25T13:58:22.434635Z",
     "shell.execute_reply": "2022-10-25T13:58:22.433616Z",
     "shell.execute_reply.started": "2022-10-25T13:58:22.357179Z"
    }
   },
   "outputs": [],
   "source": [
    "from keras.models import Sequential\n",
    "from keras.layers import Dense\n",
    "from keras.layers import LSTM , Flatten, Conv1D, MaxPooling1D, GRU, SimpleRNN, Bidirectional\n",
    "from keras.layers import Dropout\n",
    "import keras\n",
    "\n",
    "model = Sequential()\n",
    "\n",
    "model.add(Conv1D(128, 3, activation='relu', padding='same', input_shape=(18, 1)))\n",
    "model.add(MaxPooling1D(2))\n",
    "model.add(Conv1D(128, 3, padding='same', activation='relu'))\n",
    "model.add(MaxPooling1D(2))\n",
    "model.add(Conv1D(64, 3, padding='same', activation='relu'))\n",
    "model.add(MaxPooling1D(2))\n",
    "\n",
    "model.add(Flatten())\n",
    "model.add(Dense(128,activation='relu'))\n",
    "\n",
    "model.add(Dense(26,activation='softmax'))"
   ]
  },
  {
   "cell_type": "code",
   "execution_count": 87,
   "metadata": {
    "execution": {
     "iopub.execute_input": "2022-10-25T13:58:22.610444Z",
     "iopub.status.busy": "2022-10-25T13:58:22.609697Z",
     "iopub.status.idle": "2022-10-25T13:58:22.618353Z",
     "shell.execute_reply": "2022-10-25T13:58:22.617270Z",
     "shell.execute_reply.started": "2022-10-25T13:58:22.610395Z"
    }
   },
   "outputs": [
    {
     "name": "stdout",
     "output_type": "stream",
     "text": [
      "Model: \"sequential_15\"\n",
      "_________________________________________________________________\n",
      "Layer (type)                 Output Shape              Param #   \n",
      "=================================================================\n",
      "conv1d_19 (Conv1D)           (None, 18, 128)           512       \n",
      "_________________________________________________________________\n",
      "max_pooling1d_17 (MaxPooling (None, 9, 128)            0         \n",
      "_________________________________________________________________\n",
      "conv1d_20 (Conv1D)           (None, 9, 128)            49280     \n",
      "_________________________________________________________________\n",
      "max_pooling1d_18 (MaxPooling (None, 4, 128)            0         \n",
      "_________________________________________________________________\n",
      "conv1d_21 (Conv1D)           (None, 4, 64)             24640     \n",
      "_________________________________________________________________\n",
      "max_pooling1d_19 (MaxPooling (None, 2, 64)             0         \n",
      "_________________________________________________________________\n",
      "flatten_11 (Flatten)         (None, 128)               0         \n",
      "_________________________________________________________________\n",
      "dense_24 (Dense)             (None, 128)               16512     \n",
      "_________________________________________________________________\n",
      "dense_25 (Dense)             (None, 26)                3354      \n",
      "=================================================================\n",
      "Total params: 94,298\n",
      "Trainable params: 94,298\n",
      "Non-trainable params: 0\n",
      "_________________________________________________________________\n"
     ]
    }
   ],
   "source": [
    "model.summary()"
   ]
  },
  {
   "cell_type": "code",
   "execution_count": 88,
   "metadata": {
    "execution": {
     "iopub.execute_input": "2022-10-25T13:58:22.836046Z",
     "iopub.status.busy": "2022-10-25T13:58:22.835713Z",
     "iopub.status.idle": "2022-10-25T14:01:18.992652Z",
     "shell.execute_reply": "2022-10-25T14:01:18.991726Z",
     "shell.execute_reply.started": "2022-10-25T13:58:22.836016Z"
    }
   },
   "outputs": [
    {
     "name": "stdout",
     "output_type": "stream",
     "text": [
      "Epoch 1/50\n",
      "1707/1707 [==============================] - 9s 5ms/step - loss: 2.5984 - accuracy: 0.2036 - val_loss: 2.4410 - val_accuracy: 0.2480\n",
      "Epoch 2/50\n",
      "1707/1707 [==============================] - 7s 4ms/step - loss: 2.3719 - accuracy: 0.2630 - val_loss: 2.3216 - val_accuracy: 0.2780\n",
      "Epoch 3/50\n",
      "1707/1707 [==============================] - 7s 4ms/step - loss: 2.2872 - accuracy: 0.2885 - val_loss: 2.2625 - val_accuracy: 0.2971\n",
      "Epoch 4/50\n",
      "1707/1707 [==============================] - 7s 4ms/step - loss: 2.2407 - accuracy: 0.3020 - val_loss: 2.2331 - val_accuracy: 0.3065\n",
      "Epoch 5/50\n",
      "1707/1707 [==============================] - 7s 4ms/step - loss: 2.2114 - accuracy: 0.3093 - val_loss: 2.2043 - val_accuracy: 0.3159\n",
      "Epoch 6/50\n",
      "1707/1707 [==============================] - 8s 5ms/step - loss: 2.1903 - accuracy: 0.3168 - val_loss: 2.1971 - val_accuracy: 0.3164\n",
      "Epoch 7/50\n",
      "1707/1707 [==============================] - 8s 5ms/step - loss: 2.1746 - accuracy: 0.3210 - val_loss: 2.1811 - val_accuracy: 0.3192\n",
      "Epoch 8/50\n",
      "1707/1707 [==============================] - 7s 4ms/step - loss: 2.1610 - accuracy: 0.3243 - val_loss: 2.1818 - val_accuracy: 0.3235\n",
      "Epoch 9/50\n",
      "1707/1707 [==============================] - 7s 4ms/step - loss: 2.1501 - accuracy: 0.3272 - val_loss: 2.1715 - val_accuracy: 0.3225\n",
      "Epoch 10/50\n",
      "1707/1707 [==============================] - 8s 4ms/step - loss: 2.1399 - accuracy: 0.3302 - val_loss: 2.1787 - val_accuracy: 0.3211\n",
      "Epoch 11/50\n",
      "1707/1707 [==============================] - 7s 4ms/step - loss: 2.1309 - accuracy: 0.3331 - val_loss: 2.1723 - val_accuracy: 0.3230\n",
      "Epoch 12/50\n",
      "1707/1707 [==============================] - 7s 4ms/step - loss: 2.1221 - accuracy: 0.3359 - val_loss: 2.1645 - val_accuracy: 0.3257\n",
      "Epoch 13/50\n",
      "1707/1707 [==============================] - 7s 4ms/step - loss: 2.1147 - accuracy: 0.3383 - val_loss: 2.1722 - val_accuracy: 0.3237\n",
      "Epoch 14/50\n",
      "1707/1707 [==============================] - 7s 4ms/step - loss: 2.1091 - accuracy: 0.3389 - val_loss: 2.1574 - val_accuracy: 0.3304\n",
      "Epoch 15/50\n",
      "1707/1707 [==============================] - 7s 4ms/step - loss: 2.1027 - accuracy: 0.3421 - val_loss: 2.1641 - val_accuracy: 0.3262\n",
      "Epoch 16/50\n",
      "1707/1707 [==============================] - 7s 4ms/step - loss: 2.0977 - accuracy: 0.3435 - val_loss: 2.1603 - val_accuracy: 0.3278\n",
      "Epoch 17/50\n",
      "1707/1707 [==============================] - 7s 4ms/step - loss: 2.0917 - accuracy: 0.3436 - val_loss: 2.1613 - val_accuracy: 0.3287\n",
      "Epoch 18/50\n",
      "1707/1707 [==============================] - 7s 4ms/step - loss: 2.0858 - accuracy: 0.3459 - val_loss: 2.1620 - val_accuracy: 0.3261\n",
      "Epoch 19/50\n",
      "1707/1707 [==============================] - 8s 4ms/step - loss: 2.0801 - accuracy: 0.3472 - val_loss: 2.1508 - val_accuracy: 0.3309\n",
      "Epoch 20/50\n",
      "1707/1707 [==============================] - 7s 4ms/step - loss: 2.0761 - accuracy: 0.3490 - val_loss: 2.1566 - val_accuracy: 0.3290\n",
      "Epoch 21/50\n",
      "1707/1707 [==============================] - 7s 4ms/step - loss: 2.0728 - accuracy: 0.3498 - val_loss: 2.1513 - val_accuracy: 0.3286\n",
      "Epoch 22/50\n",
      "1707/1707 [==============================] - 7s 4ms/step - loss: 2.0680 - accuracy: 0.3515 - val_loss: 2.1515 - val_accuracy: 0.3310\n",
      "Epoch 23/50\n",
      "1707/1707 [==============================] - 7s 4ms/step - loss: 2.0642 - accuracy: 0.3514 - val_loss: 2.1632 - val_accuracy: 0.3310\n",
      "Epoch 24/50\n",
      "1707/1707 [==============================] - 7s 4ms/step - loss: 2.0607 - accuracy: 0.3540 - val_loss: 2.1584 - val_accuracy: 0.3297\n",
      "Epoch 00024: early stopping\n"
     ]
    }
   ],
   "source": [
    "import tensorflow as tf\n",
    "\n",
    "# try using different optimizers and different optimizer configs\n",
    "model.compile(loss='categorical_crossentropy',optimizer='adam',metrics=['accuracy'])\n",
    "es = tf.keras.callbacks.EarlyStopping(monitor='val_loss', mode='min', verbose=1, patience=5)\n",
    "checkpointer = tf.keras.callbacks.ModelCheckpoint(filepath=\"./checkpoint-{epoch:02d}.hdf5\", verbose=1, save_best_only=True, monitor='val_acc',mode='max')\n",
    "csv_logger = CSVLogger('training_set_iranalysis3.csv',separator=',', append=False)\n",
    "history = model.fit(X_train, y_train, batch_size=128, epochs=50, validation_data=(X_valid, y_valid),callbacks=[es,checkpointer,csv_logger])\n",
    "model.save(\"./lstm.hdf5\")"
   ]
  },
  {
   "cell_type": "code",
   "execution_count": 89,
   "metadata": {
    "execution": {
     "iopub.execute_input": "2022-10-25T14:01:18.995482Z",
     "iopub.status.busy": "2022-10-25T14:01:18.994602Z",
     "iopub.status.idle": "2022-10-25T14:01:24.154149Z",
     "shell.execute_reply": "2022-10-25T14:01:24.152937Z",
     "shell.execute_reply.started": "2022-10-25T14:01:18.995442Z"
    }
   },
   "outputs": [
    {
     "name": "stdout",
     "output_type": "stream",
     "text": [
      "1463/1463 [==============================] - 3s 2ms/step - loss: 2.1677 - accuracy: 0.3243\n",
      "Test results - Loss: 2.167696714401245 - Accuracy: 32.431623339653015%\n"
     ]
    }
   ],
   "source": [
    "test_results = model.evaluate(X_test, y_test, verbose=1)\n",
    "print(f'Test results - Loss: {test_results[0]} - Accuracy: {test_results[1]*100}%')"
   ]
  },
  {
   "cell_type": "code",
   "execution_count": 90,
   "metadata": {
    "execution": {
     "iopub.execute_input": "2022-10-25T14:01:24.157527Z",
     "iopub.status.busy": "2022-10-25T14:01:24.157243Z",
     "iopub.status.idle": "2022-10-25T14:01:24.371520Z",
     "shell.execute_reply": "2022-10-25T14:01:24.370537Z",
     "shell.execute_reply.started": "2022-10-25T14:01:24.157501Z"
    }
   },
   "outputs": [
    {
     "data": {
      "image/png": "[encoded data removed]",
      "text/plain": [
       "<Figure size 432x288 with 1 Axes>"
      ]
     },
     "metadata": {
      "needs_background": "light"
     },
     "output_type": "display_data"
    }
   ],
   "source": [
    "import matplotlib.pyplot as plt\n",
    "plt.plot(history.history['accuracy'])\n",
    "plt.plot(history.history['val_accuracy'])\n",
    "plt.title(\"Plot of accuracy vs epoch for train and test dataset\")\n",
    "plt.ylabel('accuracy')\n",
    "plt.xlabel('epoch')\n",
    "plt.show()"
   ]
  },
  {
   "cell_type": "code",
   "execution_count": 91,
   "metadata": {
    "execution": {
     "iopub.execute_input": "2022-10-25T14:01:24.373780Z",
     "iopub.status.busy": "2022-10-25T14:01:24.373470Z",
     "iopub.status.idle": "2022-10-25T14:01:24.580489Z",
     "shell.execute_reply": "2022-10-25T14:01:24.579496Z",
     "shell.execute_reply.started": "2022-10-25T14:01:24.373751Z"
    }
   },
   "outputs": [
    {
     "data": {
      "image/png": "[encoded data removed]",
      "text/plain": [
       "<Figure size 432x288 with 1 Axes>"
      ]
     },
     "metadata": {
      "needs_background": "light"
     },
     "output_type": "display_data"
    }
   ],
   "source": [
    "plt.plot(history.history['loss'])\n",
    "plt.plot(history.history['val_loss'])\n",
    "plt.title(\"Plot of loss vs epoch for train and test dataset\")\n",
    "plt.ylabel('loss')\n",
    "plt.xlabel('epoch')\n",
    "plt.legend(['train', 'test'], loc='upper right')\n",
    "plt.show()"
   ]
  },
  {
   "cell_type": "code",
   "execution_count": null,
   "metadata": {},
   "outputs": [],
   "source": []
  },
  {
   "cell_type": "code",
   "execution_count": null,
   "metadata": {},
   "outputs": [],
   "source": []
  },
  {
   "cell_type": "code",
   "execution_count": null,
   "metadata": {},
   "outputs": [],
   "source": []
  }
 ],
 "metadata": {
  "kernelspec": {
   "display_name": "Python 3 (ipykernel)",
   "language": "python",
   "name": "python3"
  },
  "language_info": {
   "codemirror_mode": {
    "name": "ipython",
    "version": 3
   },
   "file_extension": ".py",
   "mimetype": "text/x-python",
   "name": "python",
   "nbconvert_exporter": "python",
   "pygments_lexer": "ipython3",
   "version": "3.9.12"
  }
 },
 "nbformat": 4,
 "nbformat_minor": 4
}
