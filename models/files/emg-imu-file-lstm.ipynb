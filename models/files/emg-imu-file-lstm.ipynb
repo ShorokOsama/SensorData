{
 "cells": [
  {
   "cell_type": "code",
   "execution_count": 1,
   "metadata": {
    "execution": {
     "iopub.execute_input": "2022-10-24T15:31:50.264655Z",
     "iopub.status.busy": "2022-10-24T15:31:50.264230Z",
     "iopub.status.idle": "2022-10-24T15:31:56.776217Z",
     "shell.execute_reply": "2022-10-24T15:31:56.775265Z",
     "shell.execute_reply.started": "2022-10-24T15:31:50.264573Z"
    }
   },
   "outputs": [],
   "source": [
    "import json\n",
    "import numpy as np\n",
    "from pandas.io.json import json_normalize\n",
    "\n",
    "import os\n",
    "import glob as gb\n",
    "import tensorflow as tf\n",
    "\n",
    "from sklearn.model_selection import train_test_split\n",
    "import keras \n",
    "from keras.utils.np_utils import to_categorical\n",
    "from keras.models import Sequential\n",
    "from keras.layers import Dense\n",
    "from keras.layers import LSTM , Flatten , CuDNNLSTM , GRU\n",
    "from keras.layers import Dropout\n",
    "import keras\n",
    "\n",
    "from keras import callbacks\n",
    "from keras.callbacks import  CSVLogger\n",
    "\n",
    "\n",
    "# Model Evaluations\n",
    "from sklearn import metrics\n",
    "from sklearn.metrics import accuracy_score \n",
    "from sklearn.metrics import classification_report \n",
    "from sklearn.metrics import precision_score\n",
    "from sklearn.metrics import recall_score\n",
    "from sklearn.metrics import f1_score\n",
    "from sklearn.metrics import roc_auc_score\n",
    "from sklearn.metrics import roc_curve, auc\n"
   ]
  },
  {
   "cell_type": "code",
   "execution_count": 2,
   "metadata": {
    "execution": {
     "iopub.execute_input": "2022-10-24T15:31:56.778913Z",
     "iopub.status.busy": "2022-10-24T15:31:56.778307Z",
     "iopub.status.idle": "2022-10-24T15:31:56.788436Z",
     "shell.execute_reply": "2022-10-24T15:31:56.786840Z",
     "shell.execute_reply.started": "2022-10-24T15:31:56.778875Z"
    }
   },
   "outputs": [],
   "source": [
    "def load_file(filepath,i):\n",
    "    with open(filepath) as f:\n",
    "        data = json.load(f)\n",
    "    imu = data['imu']['data']\n",
    "    emg = data['emg']['data']\n",
    "    emg = np.array(emg)\n",
    "    imu = np.array(imu)\n",
    "    imu_gyr = np.array([(e['gyroscope']) for e in imu])\n",
    "    imu_acc = np.array([(e['acceleration']) for e in imu])\n",
    "    imu_orn = np.array([(e['orientation']) for e in imu])\n",
    "    #timestamp = [i]\n",
    "    #timestamp = np.repeat(timestamp, 400, axis=None)\n",
    "    #timestamp= timestamp.reshape(400,1)\n",
    "    dataset = tf.concat([emg, imu_gyr, imu_acc, imu_orn], axis=1, name='concat')\n",
    "    dataset = np.array(dataset)\n",
    "    return dataset"
   ]
  },
  {
   "cell_type": "code",
   "execution_count": 3,
   "metadata": {
    "execution": {
     "iopub.execute_input": "2022-10-24T15:31:56.790456Z",
     "iopub.status.busy": "2022-10-24T15:31:56.789998Z",
     "iopub.status.idle": "2022-10-24T15:31:56.798608Z",
     "shell.execute_reply": "2022-10-24T15:31:56.797686Z",
     "shell.execute_reply.started": "2022-10-24T15:31:56.790421Z"
    }
   },
   "outputs": [],
   "source": [
    "data_path = '../input/emgimu/An-EMG-and-IMU-Dataset-for-the-Italian-Sign-Language-Alphabet-master/Dataset/'"
   ]
  },
  {
   "cell_type": "code",
   "execution_count": 4,
   "metadata": {
    "execution": {
     "iopub.execute_input": "2022-10-24T15:31:56.801729Z",
     "iopub.status.busy": "2022-10-24T15:31:56.801287Z",
     "iopub.status.idle": "2022-10-24T15:32:08.986317Z",
     "shell.execute_reply": "2022-10-24T15:32:08.985338Z",
     "shell.execute_reply.started": "2022-10-24T15:31:56.801695Z"
    }
   },
   "outputs": [
    {
     "name": "stderr",
     "output_type": "stream",
     "text": [
      "2022-10-24 15:31:56.957461: I tensorflow/stream_executor/cuda/cuda_gpu_executor.cc:937] successful NUMA node read from SysFS had negative value (-1), but there must be at least one NUMA node, so returning NUMA node zero\n",
      "2022-10-24 15:31:56.958711: I tensorflow/stream_executor/cuda/cuda_gpu_executor.cc:937] successful NUMA node read from SysFS had negative value (-1), but there must be at least one NUMA node, so returning NUMA node zero\n",
      "2022-10-24 15:31:57.105162: I tensorflow/stream_executor/cuda/cuda_gpu_executor.cc:937] successful NUMA node read from SysFS had negative value (-1), but there must be at least one NUMA node, so returning NUMA node zero\n",
      "2022-10-24 15:31:57.105964: I tensorflow/stream_executor/cuda/cuda_gpu_executor.cc:937] successful NUMA node read from SysFS had negative value (-1), but there must be at least one NUMA node, so returning NUMA node zero\n",
      "2022-10-24 15:31:57.106738: I tensorflow/stream_executor/cuda/cuda_gpu_executor.cc:937] successful NUMA node read from SysFS had negative value (-1), but there must be at least one NUMA node, so returning NUMA node zero\n",
      "2022-10-24 15:31:57.107634: I tensorflow/stream_executor/cuda/cuda_gpu_executor.cc:937] successful NUMA node read from SysFS had negative value (-1), but there must be at least one NUMA node, so returning NUMA node zero\n",
      "2022-10-24 15:31:57.110903: I tensorflow/core/platform/cpu_feature_guard.cc:142] This TensorFlow binary is optimized with oneAPI Deep Neural Network Library (oneDNN) to use the following CPU instructions in performance-critical operations:  AVX2 AVX512F FMA\n",
      "To enable them in other operations, rebuild TensorFlow with the appropriate compiler flags.\n",
      "2022-10-24 15:31:57.377554: I tensorflow/stream_executor/cuda/cuda_gpu_executor.cc:937] successful NUMA node read from SysFS had negative value (-1), but there must be at least one NUMA node, so returning NUMA node zero\n",
      "2022-10-24 15:31:57.378446: I tensorflow/stream_executor/cuda/cuda_gpu_executor.cc:937] successful NUMA node read from SysFS had negative value (-1), but there must be at least one NUMA node, so returning NUMA node zero\n",
      "2022-10-24 15:31:57.379168: I tensorflow/stream_executor/cuda/cuda_gpu_executor.cc:937] successful NUMA node read from SysFS had negative value (-1), but there must be at least one NUMA node, so returning NUMA node zero\n",
      "2022-10-24 15:31:57.379858: I tensorflow/stream_executor/cuda/cuda_gpu_executor.cc:937] successful NUMA node read from SysFS had negative value (-1), but there must be at least one NUMA node, so returning NUMA node zero\n",
      "2022-10-24 15:31:57.380627: I tensorflow/stream_executor/cuda/cuda_gpu_executor.cc:937] successful NUMA node read from SysFS had negative value (-1), but there must be at least one NUMA node, so returning NUMA node zero\n",
      "2022-10-24 15:31:57.381353: I tensorflow/stream_executor/cuda/cuda_gpu_executor.cc:937] successful NUMA node read from SysFS had negative value (-1), but there must be at least one NUMA node, so returning NUMA node zero\n",
      "2022-10-24 15:32:01.300266: I tensorflow/stream_executor/cuda/cuda_gpu_executor.cc:937] successful NUMA node read from SysFS had negative value (-1), but there must be at least one NUMA node, so returning NUMA node zero\n",
      "2022-10-24 15:32:01.301557: I tensorflow/stream_executor/cuda/cuda_gpu_executor.cc:937] successful NUMA node read from SysFS had negative value (-1), but there must be at least one NUMA node, so returning NUMA node zero\n",
      "2022-10-24 15:32:01.302623: I tensorflow/stream_executor/cuda/cuda_gpu_executor.cc:937] successful NUMA node read from SysFS had negative value (-1), but there must be at least one NUMA node, so returning NUMA node zero\n",
      "2022-10-24 15:32:01.303681: I tensorflow/stream_executor/cuda/cuda_gpu_executor.cc:937] successful NUMA node read from SysFS had negative value (-1), but there must be at least one NUMA node, so returning NUMA node zero\n",
      "2022-10-24 15:32:01.304809: I tensorflow/stream_executor/cuda/cuda_gpu_executor.cc:937] successful NUMA node read from SysFS had negative value (-1), but there must be at least one NUMA node, so returning NUMA node zero\n",
      "2022-10-24 15:32:01.305774: I tensorflow/core/common_runtime/gpu/gpu_device.cc:1510] Created device /job:localhost/replica:0/task:0/device:GPU:0 with 13789 MB memory:  -> device: 0, name: Tesla T4, pci bus id: 0000:00:04.0, compute capability: 7.5\n",
      "2022-10-24 15:32:01.315007: I tensorflow/stream_executor/cuda/cuda_gpu_executor.cc:937] successful NUMA node read from SysFS had negative value (-1), but there must be at least one NUMA node, so returning NUMA node zero\n",
      "2022-10-24 15:32:01.315942: I tensorflow/core/common_runtime/gpu/gpu_device.cc:1510] Created device /job:localhost/replica:0/task:0/device:GPU:1 with 13789 MB memory:  -> device: 1, name: Tesla T4, pci bus id: 0000:00:05.0, compute capability: 7.5\n"
     ]
    },
    {
     "name": "stdout",
     "output_type": "stream",
     "text": [
      "we have 780 items in X \n"
     ]
    }
   ],
   "source": [
    "# For Files Data\n",
    "X = []\n",
    "y = []\n",
    "i=0\n",
    "for folder in  os.listdir(data_path) : \n",
    "    j=0\n",
    "    files = gb.glob(pathname= str( data_path  + folder + '/*.json'))\n",
    "    for file in files: \n",
    "        data = load_file(file,j)\n",
    "        X.append(data)\n",
    "        y.append(i)\n",
    "        j+=1\n",
    "    i+=1\n",
    "\n",
    "print(f'we have {len(X)} items in X ')"
   ]
  },
  {
   "cell_type": "code",
   "execution_count": 5,
   "metadata": {
    "execution": {
     "iopub.execute_input": "2022-10-24T15:32:08.989496Z",
     "iopub.status.busy": "2022-10-24T15:32:08.989162Z",
     "iopub.status.idle": "2022-10-24T15:32:09.010179Z",
     "shell.execute_reply": "2022-10-24T15:32:09.009168Z",
     "shell.execute_reply.started": "2022-10-24T15:32:08.989469Z"
    }
   },
   "outputs": [],
   "source": [
    "X = np.array(X)\n",
    "y = np.array(y)"
   ]
  },
  {
   "cell_type": "code",
   "execution_count": 6,
   "metadata": {
    "execution": {
     "iopub.execute_input": "2022-10-24T15:32:09.012166Z",
     "iopub.status.busy": "2022-10-24T15:32:09.011501Z",
     "iopub.status.idle": "2022-10-24T15:32:09.033541Z",
     "shell.execute_reply": "2022-10-24T15:32:09.032605Z",
     "shell.execute_reply.started": "2022-10-24T15:32:09.012129Z"
    }
   },
   "outputs": [],
   "source": [
    "from sklearn.utils import shuffle\n",
    "X, y = shuffle(X, y, random_state=20)\n"
   ]
  },
  {
   "cell_type": "code",
   "execution_count": 7,
   "metadata": {
    "execution": {
     "iopub.execute_input": "2022-10-24T15:32:09.035565Z",
     "iopub.status.busy": "2022-10-24T15:32:09.034929Z",
     "iopub.status.idle": "2022-10-24T15:32:09.041193Z",
     "shell.execute_reply": "2022-10-24T15:32:09.040076Z",
     "shell.execute_reply.started": "2022-10-24T15:32:09.035521Z"
    }
   },
   "outputs": [
    {
     "name": "stdout",
     "output_type": "stream",
     "text": [
      "X shape is :  (780, 400, 18)\n",
      "y shape is :  (780,)\n"
     ]
    }
   ],
   "source": [
    "print('X shape is : ' , X.shape)\n",
    "print('y shape is : ' , y.shape)"
   ]
  },
  {
   "cell_type": "code",
   "execution_count": 8,
   "metadata": {
    "execution": {
     "iopub.execute_input": "2022-10-24T15:32:09.043154Z",
     "iopub.status.busy": "2022-10-24T15:32:09.042793Z",
     "iopub.status.idle": "2022-10-24T15:32:09.054895Z",
     "shell.execute_reply": "2022-10-24T15:32:09.053873Z",
     "shell.execute_reply.started": "2022-10-24T15:32:09.043120Z"
    }
   },
   "outputs": [],
   "source": [
    "mapping = {'A': 0, 'B': 1, 'C': 2, 'D': 3, 'E': 4, 'F': 5, 'G': 6, 'H': 7, 'I': 8, 'J': 9, 'K': 10, 'L': 11, 'M': 12, 'N': 13, 'O': 14, 'P': 15, 'Q': 16, 'R': 17, 'S': 18, 'T': 19, 'U': 20, 'V': 21, 'W': 22, 'X': 23, 'Y': 24, 'Z': 25}"
   ]
  },
  {
   "cell_type": "code",
   "execution_count": 9,
   "metadata": {
    "execution": {
     "iopub.execute_input": "2022-10-24T15:32:09.057161Z",
     "iopub.status.busy": "2022-10-24T15:32:09.056224Z",
     "iopub.status.idle": "2022-10-24T15:32:09.066821Z",
     "shell.execute_reply": "2022-10-24T15:32:09.065801Z",
     "shell.execute_reply.started": "2022-10-24T15:32:09.057126Z"
    }
   },
   "outputs": [],
   "source": [
    "def getcode(n) : \n",
    "    for x , y in mapping.items() : \n",
    "        if n == y : \n",
    "            return x"
   ]
  },
  {
   "cell_type": "markdown",
   "metadata": {},
   "source": [
    "# Building Model with files"
   ]
  },
  {
   "cell_type": "code",
   "execution_count": 10,
   "metadata": {
    "execution": {
     "iopub.execute_input": "2022-10-24T15:32:09.072450Z",
     "iopub.status.busy": "2022-10-24T15:32:09.071470Z",
     "iopub.status.idle": "2022-10-24T15:32:09.095607Z",
     "shell.execute_reply": "2022-10-24T15:32:09.094595Z",
     "shell.execute_reply.started": "2022-10-24T15:32:09.072416Z"
    }
   },
   "outputs": [],
   "source": [
    "X_train_f, X_split_f, y_train_f, y_split_f = train_test_split(X, y, test_size=0.30, random_state=42)\n",
    "X_test_f, X_valid_f, y_test_f, y_valid_f = train_test_split(X_split_f, y_split_f, test_size=0.50, random_state=42)"
   ]
  },
  {
   "cell_type": "code",
   "execution_count": 11,
   "metadata": {
    "execution": {
     "iopub.execute_input": "2022-10-24T15:32:09.097366Z",
     "iopub.status.busy": "2022-10-24T15:32:09.096918Z",
     "iopub.status.idle": "2022-10-24T15:32:09.103128Z",
     "shell.execute_reply": "2022-10-24T15:32:09.102080Z",
     "shell.execute_reply.started": "2022-10-24T15:32:09.097331Z"
    }
   },
   "outputs": [],
   "source": [
    "# X_train_f = X_train_f.reshape(X_train_f.shape[0] , X_train_f.shape[1]*X_train_f.shape[2])\n",
    "# X_valid_f = X_valid_f.reshape(X_valid_f.shape[0] , X_valid_f.shape[1]*X_valid_f.shape[2])\n",
    "# X_test_f = X_test_f.reshape(X_test_f.shape[0] , X_test_f.shape[1]*X_test_f.shape[2])\n",
    "\n",
    "X_train_f = X_train_f.reshape(len(X_train_f), X_train_f.shape[1],18)\n",
    "X_valid_f = X_valid_f.reshape(len(X_test_f), X_test_f.shape[1],18)\n",
    "X_test_f = X_test_f.reshape(len(X_valid_f), X_valid_f.shape[1],18)"
   ]
  },
  {
   "cell_type": "code",
   "execution_count": 12,
   "metadata": {
    "execution": {
     "iopub.execute_input": "2022-10-24T15:32:09.105470Z",
     "iopub.status.busy": "2022-10-24T15:32:09.104734Z",
     "iopub.status.idle": "2022-10-24T15:32:09.114308Z",
     "shell.execute_reply": "2022-10-24T15:32:09.113061Z",
     "shell.execute_reply.started": "2022-10-24T15:32:09.105431Z"
    }
   },
   "outputs": [
    {
     "name": "stdout",
     "output_type": "stream",
     "text": [
      "(546, 400, 18)\n",
      "(117, 400, 18)\n"
     ]
    }
   ],
   "source": [
    "print(X_train_f.shape)\n",
    "print(X_test_f.shape)"
   ]
  },
  {
   "cell_type": "code",
   "execution_count": 13,
   "metadata": {
    "execution": {
     "iopub.execute_input": "2022-10-24T15:32:09.117271Z",
     "iopub.status.busy": "2022-10-24T15:32:09.116561Z",
     "iopub.status.idle": "2022-10-24T15:32:09.125186Z",
     "shell.execute_reply": "2022-10-24T15:32:09.124053Z",
     "shell.execute_reply.started": "2022-10-24T15:32:09.117238Z"
    }
   },
   "outputs": [],
   "source": [
    "y_train_f = to_categorical(y_train_f)\n",
    "y_test_f=to_categorical(y_test_f)\n",
    "y_valid_f=to_categorical(y_valid_f)"
   ]
  },
  {
   "cell_type": "code",
   "execution_count": 44,
   "metadata": {
    "execution": {
     "iopub.execute_input": "2022-10-24T15:41:16.567660Z",
     "iopub.status.busy": "2022-10-24T15:41:16.566970Z",
     "iopub.status.idle": "2022-10-24T15:41:16.713799Z",
     "shell.execute_reply": "2022-10-24T15:41:16.712795Z",
     "shell.execute_reply.started": "2022-10-24T15:41:16.567626Z"
    }
   },
   "outputs": [],
   "source": [
    "model = keras.models.Sequential([\n",
    "        keras.layers.CuDNNLSTM(units=128, return_sequences=True, input_shape =(400,18)),\n",
    "#         keras.layers.Dropout(rate=0.3) , \n",
    "        keras.layers.CuDNNLSTM(units=64, return_sequences=True),\n",
    "        keras.layers.Dropout(rate=0.3) , \n",
    "        keras.layers.Flatten(),\n",
    "#         keras.layers.Dense(256,activation='relu' ) ,    \n",
    "#         keras.layers.Dense(128,activation='relu') ,    \n",
    "#         keras.layers.Dense(64,activation='relu') ,        \n",
    "#         keras.layers.Dropout(rate=0.3) ,            \n",
    "        keras.layers.Dense(26,activation='softmax') ,    \n",
    "        ])\n",
    "# \n"
   ]
  },
  {
   "cell_type": "code",
   "execution_count": 45,
   "metadata": {
    "execution": {
     "iopub.execute_input": "2022-10-24T15:41:16.792160Z",
     "iopub.status.busy": "2022-10-24T15:41:16.791842Z",
     "iopub.status.idle": "2022-10-24T15:41:16.800997Z",
     "shell.execute_reply": "2022-10-24T15:41:16.799763Z",
     "shell.execute_reply.started": "2022-10-24T15:41:16.792133Z"
    }
   },
   "outputs": [
    {
     "name": "stdout",
     "output_type": "stream",
     "text": [
      "Model: \"sequential_5\"\n",
      "_________________________________________________________________\n",
      "Layer (type)                 Output Shape              Param #   \n",
      "=================================================================\n",
      "cu_dnnlstm_10 (CuDNNLSTM)    (None, 400, 128)          75776     \n",
      "_________________________________________________________________\n",
      "cu_dnnlstm_11 (CuDNNLSTM)    (None, 400, 64)           49664     \n",
      "_________________________________________________________________\n",
      "dropout_5 (Dropout)          (None, 400, 64)           0         \n",
      "_________________________________________________________________\n",
      "flatten_5 (Flatten)          (None, 25600)             0         \n",
      "_________________________________________________________________\n",
      "dense_8 (Dense)              (None, 26)                665626    \n",
      "=================================================================\n",
      "Total params: 791,066\n",
      "Trainable params: 791,066\n",
      "Non-trainable params: 0\n",
      "_________________________________________________________________\n"
     ]
    }
   ],
   "source": [
    "model.summary()"
   ]
  },
  {
   "cell_type": "code",
   "execution_count": 46,
   "metadata": {
    "execution": {
     "iopub.execute_input": "2022-10-24T15:41:17.006327Z",
     "iopub.status.busy": "2022-10-24T15:41:17.005901Z",
     "iopub.status.idle": "2022-10-24T15:41:24.018851Z",
     "shell.execute_reply": "2022-10-24T15:41:24.017911Z",
     "shell.execute_reply.started": "2022-10-24T15:41:17.006281Z"
    }
   },
   "outputs": [
    {
     "name": "stdout",
     "output_type": "stream",
     "text": [
      "Epoch 1/100\n",
      "5/5 [==============================] - 2s 143ms/step - loss: 2.3742 - accuracy: 0.3022 - val_loss: 1.1776 - val_accuracy: 0.6068\n",
      "Epoch 2/100\n",
      "5/5 [==============================] - 0s 50ms/step - loss: 0.5665 - accuracy: 0.8315 - val_loss: 0.7434 - val_accuracy: 0.7521\n",
      "Epoch 3/100\n",
      "5/5 [==============================] - 0s 51ms/step - loss: 0.2270 - accuracy: 0.9341 - val_loss: 0.5523 - val_accuracy: 0.8462\n",
      "Epoch 4/100\n",
      "5/5 [==============================] - 0s 52ms/step - loss: 0.0967 - accuracy: 0.9670 - val_loss: 0.4329 - val_accuracy: 0.8462\n",
      "Epoch 5/100\n",
      "5/5 [==============================] - 0s 50ms/step - loss: 0.0326 - accuracy: 1.0000 - val_loss: 0.4028 - val_accuracy: 0.8718\n",
      "Epoch 6/100\n",
      "5/5 [==============================] - 0s 50ms/step - loss: 0.0141 - accuracy: 1.0000 - val_loss: 0.3312 - val_accuracy: 0.9231\n",
      "Epoch 7/100\n",
      "5/5 [==============================] - 0s 51ms/step - loss: 0.0054 - accuracy: 1.0000 - val_loss: 0.2995 - val_accuracy: 0.9145\n",
      "Epoch 8/100\n",
      "5/5 [==============================] - 0s 50ms/step - loss: 0.0036 - accuracy: 1.0000 - val_loss: 0.2984 - val_accuracy: 0.9145\n",
      "Epoch 9/100\n",
      "5/5 [==============================] - 0s 51ms/step - loss: 0.0024 - accuracy: 1.0000 - val_loss: 0.2919 - val_accuracy: 0.9060\n",
      "Epoch 10/100\n",
      "5/5 [==============================] - 0s 52ms/step - loss: 0.0018 - accuracy: 1.0000 - val_loss: 0.2875 - val_accuracy: 0.9145\n",
      "Epoch 11/100\n",
      "5/5 [==============================] - 0s 50ms/step - loss: 0.0013 - accuracy: 1.0000 - val_loss: 0.2843 - val_accuracy: 0.9145\n",
      "Epoch 12/100\n",
      "5/5 [==============================] - 0s 51ms/step - loss: 9.5513e-04 - accuracy: 1.0000 - val_loss: 0.2820 - val_accuracy: 0.9145\n",
      "Epoch 13/100\n",
      "5/5 [==============================] - 0s 55ms/step - loss: 8.3085e-04 - accuracy: 1.0000 - val_loss: 0.2792 - val_accuracy: 0.9145\n",
      "Epoch 14/100\n",
      "5/5 [==============================] - 0s 50ms/step - loss: 6.6357e-04 - accuracy: 1.0000 - val_loss: 0.2790 - val_accuracy: 0.9145\n",
      "Epoch 15/100\n",
      "5/5 [==============================] - 0s 50ms/step - loss: 5.8966e-04 - accuracy: 1.0000 - val_loss: 0.2783 - val_accuracy: 0.9145\n",
      "Epoch 16/100\n",
      "5/5 [==============================] - 0s 50ms/step - loss: 5.6069e-04 - accuracy: 1.0000 - val_loss: 0.2784 - val_accuracy: 0.9145\n",
      "Epoch 17/100\n",
      "5/5 [==============================] - 0s 49ms/step - loss: 5.1292e-04 - accuracy: 1.0000 - val_loss: 0.2790 - val_accuracy: 0.9145\n",
      "Epoch 18/100\n",
      "5/5 [==============================] - 0s 50ms/step - loss: 4.8997e-04 - accuracy: 1.0000 - val_loss: 0.2787 - val_accuracy: 0.9145\n",
      "Epoch 19/100\n",
      "5/5 [==============================] - 0s 50ms/step - loss: 4.6909e-04 - accuracy: 1.0000 - val_loss: 0.2788 - val_accuracy: 0.9145\n",
      "Epoch 20/100\n",
      "5/5 [==============================] - 0s 50ms/step - loss: 4.3240e-04 - accuracy: 1.0000 - val_loss: 0.2797 - val_accuracy: 0.9145\n",
      "Epoch 00020: early stopping\n"
     ]
    }
   ],
   "source": [
    "import tensorflow as tf\n",
    "\n",
    "# try using different optimizers and different optimizer configs\n",
    "model.compile(loss='categorical_crossentropy',optimizer='adam',metrics=['accuracy'])\n",
    "es = tf.keras.callbacks.EarlyStopping(monitor='val_loss', mode='min', verbose=1, patience=5)\n",
    "checkpointer = tf.keras.callbacks.ModelCheckpoint(filepath=\"./checkpoint-{epoch:02d}.hdf5\", verbose=1, save_best_only=True, monitor='val_acc',mode='max')\n",
    "csv_logger = CSVLogger('training_set_iranalysis3.csv',separator=',', append=False)\n",
    "history = model.fit(X_train_f, y_train_f, batch_size=128, epochs=100, validation_data=(X_valid_f, y_valid_f),callbacks=[es,checkpointer,csv_logger])\n",
    "model.save(\"./lstm.hdf5\")"
   ]
  },
  {
   "cell_type": "code",
   "execution_count": 47,
   "metadata": {
    "execution": {
     "iopub.execute_input": "2022-10-24T15:41:24.021173Z",
     "iopub.status.busy": "2022-10-24T15:41:24.020813Z",
     "iopub.status.idle": "2022-10-24T15:41:24.136729Z",
     "shell.execute_reply": "2022-10-24T15:41:24.135688Z",
     "shell.execute_reply.started": "2022-10-24T15:41:24.021136Z"
    }
   },
   "outputs": [
    {
     "name": "stdout",
     "output_type": "stream",
     "text": [
      "4/4 [==============================] - 0s 15ms/step - loss: 0.3209 - accuracy: 0.9145\n",
      "Test results - Loss: 0.3209403157234192 - Accuracy: 91.45299196243286%\n"
     ]
    }
   ],
   "source": [
    "test_results = model.evaluate(X_test_f, y_test_f, verbose=1)\n",
    "print(f'Test results - Loss: {test_results[0]} - Accuracy: {test_results[1]*100}%')"
   ]
  },
  {
   "cell_type": "code",
   "execution_count": 48,
   "metadata": {
    "execution": {
     "iopub.execute_input": "2022-10-24T15:41:24.138527Z",
     "iopub.status.busy": "2022-10-24T15:41:24.138166Z",
     "iopub.status.idle": "2022-10-24T15:41:24.353306Z",
     "shell.execute_reply": "2022-10-24T15:41:24.352440Z",
     "shell.execute_reply.started": "2022-10-24T15:41:24.138492Z"
    }
   },
   "outputs": [
    {
     "data": {
      "image/png": "[encoded data removed]",
      "text/plain": [
       "<Figure size 432x288 with 1 Axes>"
      ]
     },
     "metadata": {
      "needs_background": "light"
     },
     "output_type": "display_data"
    }
   ],
   "source": [
    "import matplotlib.pyplot as plt\n",
    "plt.plot(history.history['accuracy'])\n",
    "plt.plot(history.history['val_accuracy'])\n",
    "plt.title(\"Plot of accuracy vs epoch for train and test dataset\")\n",
    "plt.ylabel('accuracy')\n",
    "plt.xlabel('epoch')\n",
    "plt.show()"
   ]
  },
  {
   "cell_type": "code",
   "execution_count": 49,
   "metadata": {
    "execution": {
     "iopub.execute_input": "2022-10-24T15:41:24.356653Z",
     "iopub.status.busy": "2022-10-24T15:41:24.356312Z",
     "iopub.status.idle": "2022-10-24T15:41:24.567265Z",
     "shell.execute_reply": "2022-10-24T15:41:24.566331Z",
     "shell.execute_reply.started": "2022-10-24T15:41:24.356608Z"
    }
   },
   "outputs": [
    {
     "data": {
      "image/png": "[encoded data removed]",
      "text/plain": [
       "<Figure size 432x288 with 1 Axes>"
      ]
     },
     "metadata": {
      "needs_background": "light"
     },
     "output_type": "display_data"
    }
   ],
   "source": [
    "plt.plot(history.history['loss'])\n",
    "plt.plot(history.history['val_loss'])\n",
    "plt.title(\"Plot of loss vs epoch for train and test dataset\")\n",
    "plt.ylabel('loss')\n",
    "plt.xlabel('epoch')\n",
    "plt.legend(['train', 'test'], loc='upper right')\n",
    "plt.show()"
   ]
  },
  {
   "cell_type": "code",
   "execution_count": null,
   "metadata": {},
   "outputs": [],
   "source": []
  },
  {
   "cell_type": "code",
   "execution_count": null,
   "metadata": {},
   "outputs": [],
   "source": []
  }
 ],
 "metadata": {
  "kernelspec": {
   "display_name": "Python 3 (ipykernel)",
   "language": "python",
   "name": "python3"
  },
  "language_info": {
   "codemirror_mode": {
    "name": "ipython",
    "version": 3
   },
   "file_extension": ".py",
   "mimetype": "text/x-python",
   "name": "python",
   "nbconvert_exporter": "python",
   "pygments_lexer": "ipython3",
   "version": "3.9.12"
  }
 },
 "nbformat": 4,
 "nbformat_minor": 4
}
