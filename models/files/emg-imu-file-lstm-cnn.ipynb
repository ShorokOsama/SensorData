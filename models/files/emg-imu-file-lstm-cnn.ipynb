{
 "cells": [
  {
   "cell_type": "code",
   "execution_count": 1,
   "metadata": {
    "execution": {
     "iopub.execute_input": "2022-10-24T16:35:23.715914Z",
     "iopub.status.busy": "2022-10-24T16:35:23.715479Z",
     "iopub.status.idle": "2022-10-24T16:35:30.359281Z",
     "shell.execute_reply": "2022-10-24T16:35:30.358275Z",
     "shell.execute_reply.started": "2022-10-24T16:35:23.715833Z"
    }
   },
   "outputs": [],
   "source": [
    "import json\n",
    "import numpy as np\n",
    "from pandas.io.json import json_normalize\n",
    "\n",
    "import os\n",
    "import glob as gb\n",
    "import tensorflow as tf\n",
    "\n",
    "from sklearn.model_selection import train_test_split\n",
    "import keras \n",
    "from keras.utils.np_utils import to_categorical\n",
    "from keras.models import Sequential\n",
    "from keras.layers import Dense\n",
    "from keras.layers import LSTM , Flatten , CuDNNLSTM , GRU\n",
    "from keras.layers import Dropout\n",
    "import keras\n",
    "\n",
    "from keras import callbacks\n",
    "from keras.callbacks import  CSVLogger\n",
    "\n",
    "\n",
    "# Model Evaluations\n",
    "from sklearn import metrics\n",
    "from sklearn.metrics import accuracy_score \n",
    "from sklearn.metrics import classification_report \n",
    "from sklearn.metrics import precision_score\n",
    "from sklearn.metrics import recall_score\n",
    "from sklearn.metrics import f1_score\n",
    "from sklearn.metrics import roc_auc_score\n",
    "from sklearn.metrics import roc_curve, auc\n"
   ]
  },
  {
   "cell_type": "code",
   "execution_count": 2,
   "metadata": {
    "execution": {
     "iopub.execute_input": "2022-10-24T16:35:30.362122Z",
     "iopub.status.busy": "2022-10-24T16:35:30.361152Z",
     "iopub.status.idle": "2022-10-24T16:35:30.370710Z",
     "shell.execute_reply": "2022-10-24T16:35:30.369496Z",
     "shell.execute_reply.started": "2022-10-24T16:35:30.362080Z"
    }
   },
   "outputs": [],
   "source": [
    "def load_file(filepath,i):\n",
    "    with open(filepath) as f:\n",
    "        data = json.load(f)\n",
    "    imu = data['imu']['data']\n",
    "    emg = data['emg']['data']\n",
    "    emg = np.array(emg)\n",
    "    imu = np.array(imu)\n",
    "    imu_gyr = np.array([(e['gyroscope']) for e in imu])\n",
    "    imu_acc = np.array([(e['acceleration']) for e in imu])\n",
    "    imu_orn = np.array([(e['orientation']) for e in imu])\n",
    "    #timestamp = [i]\n",
    "    #timestamp = np.repeat(timestamp, 400, axis=None)\n",
    "    #timestamp= timestamp.reshape(400,1)\n",
    "    dataset = tf.concat([emg, imu_gyr, imu_acc, imu_orn], axis=1, name='concat')\n",
    "    dataset = np.array(dataset)\n",
    "    return dataset"
   ]
  },
  {
   "cell_type": "code",
   "execution_count": 3,
   "metadata": {
    "execution": {
     "iopub.execute_input": "2022-10-24T16:35:30.374961Z",
     "iopub.status.busy": "2022-10-24T16:35:30.373962Z",
     "iopub.status.idle": "2022-10-24T16:35:30.385954Z",
     "shell.execute_reply": "2022-10-24T16:35:30.384772Z",
     "shell.execute_reply.started": "2022-10-24T16:35:30.374923Z"
    }
   },
   "outputs": [],
   "source": [
    "data_path = '../input/emgimu/An-EMG-and-IMU-Dataset-for-the-Italian-Sign-Language-Alphabet-master/Dataset/'"
   ]
  },
  {
   "cell_type": "code",
   "execution_count": 4,
   "metadata": {
    "execution": {
     "iopub.execute_input": "2022-10-24T16:35:30.389636Z",
     "iopub.status.busy": "2022-10-24T16:35:30.389101Z",
     "iopub.status.idle": "2022-10-24T16:35:41.601059Z",
     "shell.execute_reply": "2022-10-24T16:35:41.599901Z",
     "shell.execute_reply.started": "2022-10-24T16:35:30.389592Z"
    }
   },
   "outputs": [
    {
     "name": "stderr",
     "output_type": "stream",
     "text": [
      "2022-10-24 16:35:30.553747: I tensorflow/stream_executor/cuda/cuda_gpu_executor.cc:937] successful NUMA node read from SysFS had negative value (-1), but there must be at least one NUMA node, so returning NUMA node zero\n",
      "2022-10-24 16:35:30.554697: I tensorflow/stream_executor/cuda/cuda_gpu_executor.cc:937] successful NUMA node read from SysFS had negative value (-1), but there must be at least one NUMA node, so returning NUMA node zero\n",
      "2022-10-24 16:35:30.730530: I tensorflow/stream_executor/cuda/cuda_gpu_executor.cc:937] successful NUMA node read from SysFS had negative value (-1), but there must be at least one NUMA node, so returning NUMA node zero\n",
      "2022-10-24 16:35:30.731479: I tensorflow/stream_executor/cuda/cuda_gpu_executor.cc:937] successful NUMA node read from SysFS had negative value (-1), but there must be at least one NUMA node, so returning NUMA node zero\n",
      "2022-10-24 16:35:30.732330: I tensorflow/stream_executor/cuda/cuda_gpu_executor.cc:937] successful NUMA node read from SysFS had negative value (-1), but there must be at least one NUMA node, so returning NUMA node zero\n",
      "2022-10-24 16:35:30.733139: I tensorflow/stream_executor/cuda/cuda_gpu_executor.cc:937] successful NUMA node read from SysFS had negative value (-1), but there must be at least one NUMA node, so returning NUMA node zero\n",
      "2022-10-24 16:35:30.736299: I tensorflow/core/platform/cpu_feature_guard.cc:142] This TensorFlow binary is optimized with oneAPI Deep Neural Network Library (oneDNN) to use the following CPU instructions in performance-critical operations:  AVX2 AVX512F FMA\n",
      "To enable them in other operations, rebuild TensorFlow with the appropriate compiler flags.\n",
      "2022-10-24 16:35:31.009135: I tensorflow/stream_executor/cuda/cuda_gpu_executor.cc:937] successful NUMA node read from SysFS had negative value (-1), but there must be at least one NUMA node, so returning NUMA node zero\n",
      "2022-10-24 16:35:31.010134: I tensorflow/stream_executor/cuda/cuda_gpu_executor.cc:937] successful NUMA node read from SysFS had negative value (-1), but there must be at least one NUMA node, so returning NUMA node zero\n",
      "2022-10-24 16:35:31.011000: I tensorflow/stream_executor/cuda/cuda_gpu_executor.cc:937] successful NUMA node read from SysFS had negative value (-1), but there must be at least one NUMA node, so returning NUMA node zero\n",
      "2022-10-24 16:35:31.011841: I tensorflow/stream_executor/cuda/cuda_gpu_executor.cc:937] successful NUMA node read from SysFS had negative value (-1), but there must be at least one NUMA node, so returning NUMA node zero\n",
      "2022-10-24 16:35:31.012646: I tensorflow/stream_executor/cuda/cuda_gpu_executor.cc:937] successful NUMA node read from SysFS had negative value (-1), but there must be at least one NUMA node, so returning NUMA node zero\n",
      "2022-10-24 16:35:31.013477: I tensorflow/stream_executor/cuda/cuda_gpu_executor.cc:937] successful NUMA node read from SysFS had negative value (-1), but there must be at least one NUMA node, so returning NUMA node zero\n",
      "2022-10-24 16:35:34.343068: I tensorflow/stream_executor/cuda/cuda_gpu_executor.cc:937] successful NUMA node read from SysFS had negative value (-1), but there must be at least one NUMA node, so returning NUMA node zero\n",
      "2022-10-24 16:35:34.343992: I tensorflow/stream_executor/cuda/cuda_gpu_executor.cc:937] successful NUMA node read from SysFS had negative value (-1), but there must be at least one NUMA node, so returning NUMA node zero\n",
      "2022-10-24 16:35:34.344726: I tensorflow/stream_executor/cuda/cuda_gpu_executor.cc:937] successful NUMA node read from SysFS had negative value (-1), but there must be at least one NUMA node, so returning NUMA node zero\n",
      "2022-10-24 16:35:34.345440: I tensorflow/stream_executor/cuda/cuda_gpu_executor.cc:937] successful NUMA node read from SysFS had negative value (-1), but there must be at least one NUMA node, so returning NUMA node zero\n",
      "2022-10-24 16:35:34.346115: I tensorflow/stream_executor/cuda/cuda_gpu_executor.cc:937] successful NUMA node read from SysFS had negative value (-1), but there must be at least one NUMA node, so returning NUMA node zero\n",
      "2022-10-24 16:35:34.346761: I tensorflow/core/common_runtime/gpu/gpu_device.cc:1510] Created device /job:localhost/replica:0/task:0/device:GPU:0 with 13789 MB memory:  -> device: 0, name: Tesla T4, pci bus id: 0000:00:04.0, compute capability: 7.5\n",
      "2022-10-24 16:35:34.350383: I tensorflow/stream_executor/cuda/cuda_gpu_executor.cc:937] successful NUMA node read from SysFS had negative value (-1), but there must be at least one NUMA node, so returning NUMA node zero\n",
      "2022-10-24 16:35:34.351034: I tensorflow/core/common_runtime/gpu/gpu_device.cc:1510] Created device /job:localhost/replica:0/task:0/device:GPU:1 with 13789 MB memory:  -> device: 1, name: Tesla T4, pci bus id: 0000:00:05.0, compute capability: 7.5\n"
     ]
    },
    {
     "name": "stdout",
     "output_type": "stream",
     "text": [
      "we have 780 items in X \n"
     ]
    }
   ],
   "source": [
    "# For Files Data\n",
    "X = []\n",
    "y = []\n",
    "i=0\n",
    "for folder in  os.listdir(data_path) : \n",
    "    j=0\n",
    "    files = gb.glob(pathname= str( data_path  + folder + '/*.json'))\n",
    "    for file in files: \n",
    "        data = load_file(file,j)\n",
    "        X.append(data)\n",
    "        y.append(i)\n",
    "        j+=1\n",
    "    i+=1\n",
    "\n",
    "print(f'we have {len(X)} items in X ')"
   ]
  },
  {
   "cell_type": "code",
   "execution_count": 5,
   "metadata": {
    "execution": {
     "iopub.execute_input": "2022-10-24T16:35:41.603021Z",
     "iopub.status.busy": "2022-10-24T16:35:41.602627Z",
     "iopub.status.idle": "2022-10-24T16:35:41.629726Z",
     "shell.execute_reply": "2022-10-24T16:35:41.628477Z",
     "shell.execute_reply.started": "2022-10-24T16:35:41.602979Z"
    }
   },
   "outputs": [],
   "source": [
    "X = np.array(X)\n",
    "y = np.array(y)"
   ]
  },
  {
   "cell_type": "code",
   "execution_count": 6,
   "metadata": {
    "execution": {
     "iopub.execute_input": "2022-10-24T16:35:41.631891Z",
     "iopub.status.busy": "2022-10-24T16:35:41.631517Z",
     "iopub.status.idle": "2022-10-24T16:35:41.659243Z",
     "shell.execute_reply": "2022-10-24T16:35:41.658223Z",
     "shell.execute_reply.started": "2022-10-24T16:35:41.631853Z"
    }
   },
   "outputs": [],
   "source": [
    "from sklearn.utils import shuffle\n",
    "X, y = shuffle(X, y, random_state=20)\n"
   ]
  },
  {
   "cell_type": "code",
   "execution_count": 7,
   "metadata": {
    "execution": {
     "iopub.execute_input": "2022-10-24T16:35:41.662847Z",
     "iopub.status.busy": "2022-10-24T16:35:41.662580Z",
     "iopub.status.idle": "2022-10-24T16:35:41.671048Z",
     "shell.execute_reply": "2022-10-24T16:35:41.669945Z",
     "shell.execute_reply.started": "2022-10-24T16:35:41.662822Z"
    }
   },
   "outputs": [
    {
     "name": "stdout",
     "output_type": "stream",
     "text": [
      "X shape is :  (780, 400, 18)\n",
      "y shape is :  (780,)\n"
     ]
    }
   ],
   "source": [
    "print('X shape is : ' , X.shape)\n",
    "print('y shape is : ' , y.shape)"
   ]
  },
  {
   "cell_type": "code",
   "execution_count": 8,
   "metadata": {
    "execution": {
     "iopub.execute_input": "2022-10-24T16:35:41.674317Z",
     "iopub.status.busy": "2022-10-24T16:35:41.673104Z",
     "iopub.status.idle": "2022-10-24T16:35:41.681145Z",
     "shell.execute_reply": "2022-10-24T16:35:41.680086Z",
     "shell.execute_reply.started": "2022-10-24T16:35:41.674279Z"
    }
   },
   "outputs": [],
   "source": [
    "mapping = {'A': 0, 'B': 1, 'C': 2, 'D': 3, 'E': 4, 'F': 5, 'G': 6, 'H': 7, 'I': 8, 'J': 9, 'K': 10, 'L': 11, 'M': 12, 'N': 13, 'O': 14, 'P': 15, 'Q': 16, 'R': 17, 'S': 18, 'T': 19, 'U': 20, 'V': 21, 'W': 22, 'X': 23, 'Y': 24, 'Z': 25}"
   ]
  },
  {
   "cell_type": "code",
   "execution_count": 9,
   "metadata": {
    "execution": {
     "iopub.execute_input": "2022-10-24T16:35:41.683261Z",
     "iopub.status.busy": "2022-10-24T16:35:41.682570Z",
     "iopub.status.idle": "2022-10-24T16:35:41.692366Z",
     "shell.execute_reply": "2022-10-24T16:35:41.691260Z",
     "shell.execute_reply.started": "2022-10-24T16:35:41.683097Z"
    }
   },
   "outputs": [],
   "source": [
    "def getcode(n) : \n",
    "    for x , y in mapping.items() : \n",
    "        if n == y : \n",
    "            return x"
   ]
  },
  {
   "cell_type": "markdown",
   "metadata": {},
   "source": [
    "# Building Model with files"
   ]
  },
  {
   "cell_type": "code",
   "execution_count": 10,
   "metadata": {
    "execution": {
     "iopub.execute_input": "2022-10-24T16:35:41.696929Z",
     "iopub.status.busy": "2022-10-24T16:35:41.696635Z",
     "iopub.status.idle": "2022-10-24T16:35:41.723799Z",
     "shell.execute_reply": "2022-10-24T16:35:41.722718Z",
     "shell.execute_reply.started": "2022-10-24T16:35:41.696903Z"
    }
   },
   "outputs": [],
   "source": [
    "X_train_f, X_split_f, y_train_f, y_split_f = train_test_split(X, y, test_size=0.30, random_state=42)\n",
    "X_test_f, X_valid_f, y_test_f, y_valid_f = train_test_split(X_split_f, y_split_f, test_size=0.50, random_state=42)"
   ]
  },
  {
   "cell_type": "code",
   "execution_count": 11,
   "metadata": {
    "execution": {
     "iopub.execute_input": "2022-10-24T16:35:41.727506Z",
     "iopub.status.busy": "2022-10-24T16:35:41.727209Z",
     "iopub.status.idle": "2022-10-24T16:35:41.735637Z",
     "shell.execute_reply": "2022-10-24T16:35:41.734612Z",
     "shell.execute_reply.started": "2022-10-24T16:35:41.727481Z"
    }
   },
   "outputs": [],
   "source": [
    "# X_train_f = X_train_f.reshape(X_train_f.shape[0] , X_train_f.shape[1]*X_train_f.shape[2])\n",
    "# X_valid_f = X_valid_f.reshape(X_valid_f.shape[0] , X_valid_f.shape[1]*X_valid_f.shape[2])\n",
    "# X_test_f = X_test_f.reshape(X_test_f.shape[0] , X_test_f.shape[1]*X_test_f.shape[2])\n",
    "\n",
    "X_train_f = X_train_f.reshape(len(X_train_f), X_train_f.shape[1],18)\n",
    "X_valid_f = X_valid_f.reshape(len(X_test_f), X_test_f.shape[1],18)\n",
    "X_test_f = X_test_f.reshape(len(X_valid_f), X_valid_f.shape[1],18)"
   ]
  },
  {
   "cell_type": "code",
   "execution_count": 12,
   "metadata": {
    "execution": {
     "iopub.execute_input": "2022-10-24T16:35:41.737831Z",
     "iopub.status.busy": "2022-10-24T16:35:41.737363Z",
     "iopub.status.idle": "2022-10-24T16:35:41.748617Z",
     "shell.execute_reply": "2022-10-24T16:35:41.747642Z",
     "shell.execute_reply.started": "2022-10-24T16:35:41.737792Z"
    }
   },
   "outputs": [
    {
     "name": "stdout",
     "output_type": "stream",
     "text": [
      "(546, 400, 18)\n",
      "(117, 400, 18)\n"
     ]
    }
   ],
   "source": [
    "print(X_train_f.shape)\n",
    "print(X_test_f.shape)"
   ]
  },
  {
   "cell_type": "code",
   "execution_count": 13,
   "metadata": {
    "execution": {
     "iopub.execute_input": "2022-10-24T16:35:41.752006Z",
     "iopub.status.busy": "2022-10-24T16:35:41.751315Z",
     "iopub.status.idle": "2022-10-24T16:35:41.757959Z",
     "shell.execute_reply": "2022-10-24T16:35:41.757007Z",
     "shell.execute_reply.started": "2022-10-24T16:35:41.751968Z"
    }
   },
   "outputs": [],
   "source": [
    "y_train_f = to_categorical(y_train_f)\n",
    "y_test_f=to_categorical(y_test_f)\n",
    "y_valid_f=to_categorical(y_valid_f)"
   ]
  },
  {
   "cell_type": "code",
   "execution_count": 142,
   "metadata": {
    "execution": {
     "iopub.execute_input": "2022-10-24T17:08:20.138082Z",
     "iopub.status.busy": "2022-10-24T17:08:20.137700Z",
     "iopub.status.idle": "2022-10-24T17:08:20.320697Z",
     "shell.execute_reply": "2022-10-24T17:08:20.319618Z",
     "shell.execute_reply.started": "2022-10-24T17:08:20.138049Z"
    }
   },
   "outputs": [],
   "source": [
    "model = keras.models.Sequential([\n",
    "#         keras.layers.CuDNNLSTM(units=128, return_sequences=True, input_shape =(400,18)),\n",
    "#         keras.layers.Dropout(rate=0.3) , \n",
    "        \n",
    "        keras.layers.Conv1D(128, 3, activation='relu', input_shape =(400,18)),\n",
    "        keras.layers.MaxPooling1D(3),\n",
    "        keras.layers.Conv1D(64, 3, activation='relu'),\n",
    "        keras.layers.MaxPooling1D(3),\n",
    "        keras.layers.CuDNNLSTM(units=128, return_sequences=True),\n",
    "        keras.layers.CuDNNLSTM(units=64, return_sequences=True),\n",
    "        keras.layers.Dropout(rate=0.3) , \n",
    "        keras.layers.Flatten(),\n",
    "#         keras.layers.Dense(256,activation='relu' ) ,    \n",
    "#         keras.layers.Dense(128,activation='relu') ,    \n",
    "#         keras.layers.Dense(64,activation='relu') ,        \n",
    "#         keras.layers.Dropout(rate=0.3) ,            \n",
    "        keras.layers.Dense(26,activation='softmax') ,    \n",
    "        ])\n",
    "# \n"
   ]
  },
  {
   "cell_type": "code",
   "execution_count": 143,
   "metadata": {
    "execution": {
     "iopub.execute_input": "2022-10-24T17:08:20.453036Z",
     "iopub.status.busy": "2022-10-24T17:08:20.452346Z",
     "iopub.status.idle": "2022-10-24T17:08:20.461716Z",
     "shell.execute_reply": "2022-10-24T17:08:20.460420Z",
     "shell.execute_reply.started": "2022-10-24T17:08:20.452990Z"
    }
   },
   "outputs": [
    {
     "name": "stdout",
     "output_type": "stream",
     "text": [
      "Model: \"sequential_21\"\n",
      "_________________________________________________________________\n",
      "Layer (type)                 Output Shape              Param #   \n",
      "=================================================================\n",
      "conv1d_28 (Conv1D)           (None, 398, 128)          7040      \n",
      "_________________________________________________________________\n",
      "max_pooling1d_28 (MaxPooling (None, 132, 128)          0         \n",
      "_________________________________________________________________\n",
      "conv1d_29 (Conv1D)           (None, 130, 64)           24640     \n",
      "_________________________________________________________________\n",
      "max_pooling1d_29 (MaxPooling (None, 43, 64)            0         \n",
      "_________________________________________________________________\n",
      "cu_dnnlstm_37 (CuDNNLSTM)    (None, 43, 128)           99328     \n",
      "_________________________________________________________________\n",
      "cu_dnnlstm_38 (CuDNNLSTM)    (None, 43, 64)            49664     \n",
      "_________________________________________________________________\n",
      "dropout_21 (Dropout)         (None, 43, 64)            0         \n",
      "_________________________________________________________________\n",
      "flatten_21 (Flatten)         (None, 2752)              0         \n",
      "_________________________________________________________________\n",
      "dense_35 (Dense)             (None, 26)                71578     \n",
      "=================================================================\n",
      "Total params: 252,250\n",
      "Trainable params: 252,250\n",
      "Non-trainable params: 0\n",
      "_________________________________________________________________\n"
     ]
    }
   ],
   "source": [
    "model.summary()"
   ]
  },
  {
   "cell_type": "code",
   "execution_count": 144,
   "metadata": {
    "execution": {
     "iopub.execute_input": "2022-10-24T17:08:20.751778Z",
     "iopub.status.busy": "2022-10-24T17:08:20.750825Z",
     "iopub.status.idle": "2022-10-24T17:08:25.744134Z",
     "shell.execute_reply": "2022-10-24T17:08:25.743240Z",
     "shell.execute_reply.started": "2022-10-24T17:08:20.751743Z"
    }
   },
   "outputs": [
    {
     "name": "stdout",
     "output_type": "stream",
     "text": [
      "Epoch 1/100\n",
      "5/5 [==============================] - 2s 108ms/step - loss: 3.1912 - accuracy: 0.0788 - val_loss: 2.8202 - val_accuracy: 0.1795\n",
      "Epoch 2/100\n",
      "5/5 [==============================] - 0s 27ms/step - loss: 2.5781 - accuracy: 0.2509 - val_loss: 2.2287 - val_accuracy: 0.4274\n",
      "Epoch 3/100\n",
      "5/5 [==============================] - 0s 27ms/step - loss: 2.0095 - accuracy: 0.4341 - val_loss: 1.6732 - val_accuracy: 0.6667\n",
      "Epoch 4/100\n",
      "5/5 [==============================] - 0s 25ms/step - loss: 1.4930 - accuracy: 0.5824 - val_loss: 1.2953 - val_accuracy: 0.5897\n",
      "Epoch 5/100\n",
      "5/5 [==============================] - 0s 25ms/step - loss: 1.0305 - accuracy: 0.7088 - val_loss: 0.9068 - val_accuracy: 0.7692\n",
      "Epoch 6/100\n",
      "5/5 [==============================] - 0s 25ms/step - loss: 0.6890 - accuracy: 0.8114 - val_loss: 0.8501 - val_accuracy: 0.7778\n",
      "Epoch 7/100\n",
      "5/5 [==============================] - 0s 22ms/step - loss: 0.6040 - accuracy: 0.8059 - val_loss: 0.7263 - val_accuracy: 0.7607\n",
      "Epoch 8/100\n",
      "5/5 [==============================] - 0s 22ms/step - loss: 0.5240 - accuracy: 0.8352 - val_loss: 0.6906 - val_accuracy: 0.7265\n",
      "Epoch 9/100\n",
      "5/5 [==============================] - 0s 21ms/step - loss: 0.3814 - accuracy: 0.8791 - val_loss: 0.4584 - val_accuracy: 0.8547\n",
      "Epoch 10/100\n",
      "5/5 [==============================] - 0s 21ms/step - loss: 0.2913 - accuracy: 0.9103 - val_loss: 0.4668 - val_accuracy: 0.8547\n",
      "Epoch 11/100\n",
      "5/5 [==============================] - 0s 20ms/step - loss: 0.2221 - accuracy: 0.9322 - val_loss: 0.4653 - val_accuracy: 0.8376\n",
      "Epoch 12/100\n",
      "5/5 [==============================] - 0s 20ms/step - loss: 0.1946 - accuracy: 0.9377 - val_loss: 0.6073 - val_accuracy: 0.7863\n",
      "Epoch 13/100\n",
      "5/5 [==============================] - 0s 20ms/step - loss: 0.3325 - accuracy: 0.8938 - val_loss: 0.3959 - val_accuracy: 0.8803\n",
      "Epoch 14/100\n",
      "5/5 [==============================] - 0s 21ms/step - loss: 0.4074 - accuracy: 0.8901 - val_loss: 0.4405 - val_accuracy: 0.8376\n",
      "Epoch 15/100\n",
      "5/5 [==============================] - 0s 21ms/step - loss: 0.2582 - accuracy: 0.9286 - val_loss: 0.4519 - val_accuracy: 0.8547\n",
      "Epoch 16/100\n",
      "5/5 [==============================] - 0s 21ms/step - loss: 0.2088 - accuracy: 0.9341 - val_loss: 0.3873 - val_accuracy: 0.8974\n",
      "Epoch 17/100\n",
      "5/5 [==============================] - 0s 20ms/step - loss: 0.1375 - accuracy: 0.9707 - val_loss: 0.3390 - val_accuracy: 0.9060\n",
      "Epoch 18/100\n",
      "5/5 [==============================] - 0s 20ms/step - loss: 0.1015 - accuracy: 0.9817 - val_loss: 0.2959 - val_accuracy: 0.9316\n",
      "Epoch 19/100\n",
      "5/5 [==============================] - 0s 21ms/step - loss: 0.0785 - accuracy: 0.9853 - val_loss: 0.2509 - val_accuracy: 0.9487\n",
      "Epoch 20/100\n",
      "5/5 [==============================] - 0s 21ms/step - loss: 0.0408 - accuracy: 0.9908 - val_loss: 0.2408 - val_accuracy: 0.9231\n",
      "Epoch 21/100\n",
      "5/5 [==============================] - 0s 20ms/step - loss: 0.0276 - accuracy: 0.9982 - val_loss: 0.2117 - val_accuracy: 0.9573\n",
      "Epoch 22/100\n",
      "5/5 [==============================] - 0s 21ms/step - loss: 0.0207 - accuracy: 0.9982 - val_loss: 0.2017 - val_accuracy: 0.9487\n",
      "Epoch 23/100\n",
      "5/5 [==============================] - 0s 21ms/step - loss: 0.0145 - accuracy: 1.0000 - val_loss: 0.2331 - val_accuracy: 0.9316\n",
      "Epoch 24/100\n",
      "5/5 [==============================] - 0s 21ms/step - loss: 0.0098 - accuracy: 1.0000 - val_loss: 0.2131 - val_accuracy: 0.9402\n",
      "Epoch 25/100\n",
      "5/5 [==============================] - 0s 21ms/step - loss: 0.0075 - accuracy: 1.0000 - val_loss: 0.1881 - val_accuracy: 0.9573\n",
      "Epoch 26/100\n",
      "5/5 [==============================] - 0s 20ms/step - loss: 0.0055 - accuracy: 1.0000 - val_loss: 0.1822 - val_accuracy: 0.9573\n",
      "Epoch 27/100\n",
      "5/5 [==============================] - 0s 21ms/step - loss: 0.0050 - accuracy: 1.0000 - val_loss: 0.1888 - val_accuracy: 0.9573\n",
      "Epoch 28/100\n",
      "5/5 [==============================] - 0s 20ms/step - loss: 0.0045 - accuracy: 1.0000 - val_loss: 0.1904 - val_accuracy: 0.9573\n",
      "Epoch 29/100\n",
      "5/5 [==============================] - 0s 21ms/step - loss: 0.0038 - accuracy: 1.0000 - val_loss: 0.1951 - val_accuracy: 0.9573\n",
      "Epoch 30/100\n",
      "5/5 [==============================] - 0s 21ms/step - loss: 0.0036 - accuracy: 1.0000 - val_loss: 0.1935 - val_accuracy: 0.9573\n",
      "Epoch 31/100\n",
      "5/5 [==============================] - 0s 21ms/step - loss: 0.0027 - accuracy: 1.0000 - val_loss: 0.1862 - val_accuracy: 0.9573\n",
      "Epoch 00031: early stopping\n"
     ]
    }
   ],
   "source": [
    "import tensorflow as tf\n",
    "\n",
    "# try using different optimizers and different optimizer configs\n",
    "model.compile(loss='categorical_crossentropy',optimizer='adam',metrics=['accuracy'])\n",
    "es = tf.keras.callbacks.EarlyStopping(monitor='val_loss', mode='min', verbose=1, patience=5)\n",
    "checkpointer = tf.keras.callbacks.ModelCheckpoint(filepath=\"./checkpoint-{epoch:02d}.hdf5\", verbose=1, save_best_only=True, monitor='val_acc',mode='max')\n",
    "csv_logger = CSVLogger('training_set_iranalysis3.csv',separator=',', append=False)\n",
    "history = model.fit(X_train_f, y_train_f, batch_size=128, epochs=100, validation_data=(X_valid_f, y_valid_f),callbacks=[es,checkpointer,csv_logger])\n",
    "model.save(\"./lstm.hdf5\")"
   ]
  },
  {
   "cell_type": "code",
   "execution_count": 145,
   "metadata": {
    "execution": {
     "iopub.execute_input": "2022-10-24T17:08:25.747194Z",
     "iopub.status.busy": "2022-10-24T17:08:25.746146Z",
     "iopub.status.idle": "2022-10-24T17:08:25.825842Z",
     "shell.execute_reply": "2022-10-24T17:08:25.824731Z",
     "shell.execute_reply.started": "2022-10-24T17:08:25.747153Z"
    }
   },
   "outputs": [
    {
     "name": "stdout",
     "output_type": "stream",
     "text": [
      "4/4 [==============================] - 0s 6ms/step - loss: 0.1939 - accuracy: 0.9402\n",
      "Test results - Loss: 0.19385318458080292 - Accuracy: 94.017094373703%\n"
     ]
    }
   ],
   "source": [
    "test_results = model.evaluate(X_test_f, y_test_f, verbose=1)\n",
    "print(f'Test results - Loss: {test_results[0]} - Accuracy: {test_results[1]*100}%')"
   ]
  },
  {
   "cell_type": "code",
   "execution_count": 146,
   "metadata": {
    "execution": {
     "iopub.execute_input": "2022-10-24T17:08:25.828180Z",
     "iopub.status.busy": "2022-10-24T17:08:25.827738Z",
     "iopub.status.idle": "2022-10-24T17:08:26.025462Z",
     "shell.execute_reply": "2022-10-24T17:08:26.024530Z",
     "shell.execute_reply.started": "2022-10-24T17:08:25.828127Z"
    }
   },
   "outputs": [
    {
     "data": {
      "image/png": "[encoded data removed]",
      "text/plain": [
       "<Figure size 432x288 with 1 Axes>"
      ]
     },
     "metadata": {
      "needs_background": "light"
     },
     "output_type": "display_data"
    }
   ],
   "source": [
    "import matplotlib.pyplot as plt\n",
    "plt.plot(history.history['accuracy'])\n",
    "plt.plot(history.history['val_accuracy'])\n",
    "plt.title(\"Plot of accuracy vs epoch for train and test dataset\")\n",
    "plt.ylabel('accuracy')\n",
    "plt.xlabel('epoch')\n",
    "plt.show()"
   ]
  },
  {
   "cell_type": "code",
   "execution_count": 147,
   "metadata": {
    "execution": {
     "iopub.execute_input": "2022-10-24T17:08:26.028705Z",
     "iopub.status.busy": "2022-10-24T17:08:26.028029Z",
     "iopub.status.idle": "2022-10-24T17:08:26.243046Z",
     "shell.execute_reply": "2022-10-24T17:08:26.242147Z",
     "shell.execute_reply.started": "2022-10-24T17:08:26.028668Z"
    }
   },
   "outputs": [
    {
     "data": {
      "image/png": "[encoded data removed]",
      "text/plain": [
       "<Figure size 432x288 with 1 Axes>"
      ]
     },
     "metadata": {
      "needs_background": "light"
     },
     "output_type": "display_data"
    }
   ],
   "source": [
    "plt.plot(history.history['loss'])\n",
    "plt.plot(history.history['val_loss'])\n",
    "plt.title(\"Plot of loss vs epoch for train and test dataset\")\n",
    "plt.ylabel('loss')\n",
    "plt.xlabel('epoch')\n",
    "plt.legend(['train', 'test'], loc='upper right')\n",
    "plt.show()"
   ]
  },
  {
   "cell_type": "code",
   "execution_count": null,
   "metadata": {},
   "outputs": [],
   "source": []
  },
  {
   "cell_type": "code",
   "execution_count": null,
   "metadata": {},
   "outputs": [],
   "source": []
  },
  {
   "cell_type": "code",
   "execution_count": null,
   "metadata": {},
   "outputs": [],
   "source": []
  }
 ],
 "metadata": {
  "kernelspec": {
   "display_name": "Python 3 (ipykernel)",
   "language": "python",
   "name": "python3"
  },
  "language_info": {
   "codemirror_mode": {
    "name": "ipython",
    "version": 3
   },
   "file_extension": ".py",
   "mimetype": "text/x-python",
   "name": "python",
   "nbconvert_exporter": "python",
   "pygments_lexer": "ipython3",
   "version": "3.9.12"
  }
 },
 "nbformat": 4,
 "nbformat_minor": 4
}
