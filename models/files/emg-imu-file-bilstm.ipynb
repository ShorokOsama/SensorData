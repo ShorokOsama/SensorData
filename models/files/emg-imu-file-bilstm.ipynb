{
 "cells": [
  {
   "cell_type": "code",
   "execution_count": 2,
   "metadata": {
    "_cell_guid": "b1076dfc-b9ad-4769-8c92-a6c4dae69d19",
    "_uuid": "8f2839f25d086af736a60e9eeb907d3b93b6e0e5",
    "execution": {
     "iopub.execute_input": "2022-10-24T18:34:33.411323Z",
     "iopub.status.busy": "2022-10-24T18:34:33.410645Z",
     "iopub.status.idle": "2022-10-24T18:34:33.421362Z",
     "shell.execute_reply": "2022-10-24T18:34:33.418817Z",
     "shell.execute_reply.started": "2022-10-24T18:34:33.411285Z"
    }
   },
   "outputs": [],
   "source": [
    "import json\n",
    "import numpy as np\n",
    "from pandas.io.json import json_normalize\n",
    "\n",
    "import os\n",
    "import glob as gb\n",
    "import tensorflow as tf\n",
    "\n",
    "from sklearn.model_selection import train_test_split\n",
    "import keras \n",
    "from keras.utils.np_utils import to_categorical\n",
    "from keras.models import Sequential\n",
    "from keras.layers import Dense\n",
    "from keras.layers import LSTM , Flatten , CuDNNLSTM , GRU\n",
    "from keras.layers import Dropout\n",
    "import keras\n",
    "\n",
    "from keras import callbacks\n",
    "from keras.callbacks import  CSVLogger\n",
    "\n",
    "\n",
    "# Model Evaluations\n",
    "from sklearn import metrics\n",
    "from sklearn.metrics import accuracy_score \n",
    "from sklearn.metrics import classification_report \n",
    "from sklearn.metrics import precision_score\n",
    "from sklearn.metrics import recall_score\n",
    "from sklearn.metrics import f1_score\n",
    "from sklearn.metrics import roc_auc_score\n",
    "from sklearn.metrics import roc_curve, auc\n"
   ]
  },
  {
   "cell_type": "code",
   "execution_count": 3,
   "metadata": {
    "execution": {
     "iopub.execute_input": "2022-10-24T18:34:33.423762Z",
     "iopub.status.busy": "2022-10-24T18:34:33.423478Z",
     "iopub.status.idle": "2022-10-24T18:34:33.433466Z",
     "shell.execute_reply": "2022-10-24T18:34:33.432513Z",
     "shell.execute_reply.started": "2022-10-24T18:34:33.423736Z"
    }
   },
   "outputs": [],
   "source": [
    "def load_file(filepath,i):\n",
    "    with open(filepath) as f:\n",
    "        data = json.load(f)\n",
    "    imu = data['imu']['data']\n",
    "    emg = data['emg']['data']\n",
    "    emg = np.array(emg)\n",
    "    imu = np.array(imu)\n",
    "    imu_gyr = np.array([(e['gyroscope']) for e in imu])\n",
    "    imu_acc = np.array([(e['acceleration']) for e in imu])\n",
    "    imu_orn = np.array([(e['orientation']) for e in imu])\n",
    "    #timestamp = [i]\n",
    "    #timestamp = np.repeat(timestamp, 400, axis=None)\n",
    "    #timestamp= timestamp.reshape(400,1)\n",
    "    dataset = tf.concat([emg, imu_gyr, imu_acc, imu_orn], axis=1, name='concat')\n",
    "    dataset = np.array(dataset)\n",
    "    return dataset"
   ]
  },
  {
   "cell_type": "code",
   "execution_count": 4,
   "metadata": {
    "execution": {
     "iopub.execute_input": "2022-10-24T18:34:33.436974Z",
     "iopub.status.busy": "2022-10-24T18:34:33.436436Z",
     "iopub.status.idle": "2022-10-24T18:34:33.444793Z",
     "shell.execute_reply": "2022-10-24T18:34:33.443971Z",
     "shell.execute_reply.started": "2022-10-24T18:34:33.436932Z"
    }
   },
   "outputs": [],
   "source": [
    "data_path = '../input/emgimu/An-EMG-and-IMU-Dataset-for-the-Italian-Sign-Language-Alphabet-master/Dataset/'"
   ]
  },
  {
   "cell_type": "code",
   "execution_count": 5,
   "metadata": {
    "execution": {
     "iopub.execute_input": "2022-10-24T18:34:33.446988Z",
     "iopub.status.busy": "2022-10-24T18:34:33.446576Z",
     "iopub.status.idle": "2022-10-24T18:34:42.557910Z",
     "shell.execute_reply": "2022-10-24T18:34:42.556981Z",
     "shell.execute_reply.started": "2022-10-24T18:34:33.446948Z"
    }
   },
   "outputs": [
    {
     "name": "stderr",
     "output_type": "stream",
     "text": [
      "2022-10-24 18:34:33.558747: I tensorflow/stream_executor/cuda/cuda_gpu_executor.cc:937] successful NUMA node read from SysFS had negative value (-1), but there must be at least one NUMA node, so returning NUMA node zero\n",
      "2022-10-24 18:34:33.749850: I tensorflow/stream_executor/cuda/cuda_gpu_executor.cc:937] successful NUMA node read from SysFS had negative value (-1), but there must be at least one NUMA node, so returning NUMA node zero\n",
      "2022-10-24 18:34:33.750745: I tensorflow/stream_executor/cuda/cuda_gpu_executor.cc:937] successful NUMA node read from SysFS had negative value (-1), but there must be at least one NUMA node, so returning NUMA node zero\n",
      "2022-10-24 18:34:33.753826: I tensorflow/core/platform/cpu_feature_guard.cc:142] This TensorFlow binary is optimized with oneAPI Deep Neural Network Library (oneDNN) to use the following CPU instructions in performance-critical operations:  AVX2 AVX512F FMA\n",
      "To enable them in other operations, rebuild TensorFlow with the appropriate compiler flags.\n",
      "2022-10-24 18:34:33.754153: I tensorflow/stream_executor/cuda/cuda_gpu_executor.cc:937] successful NUMA node read from SysFS had negative value (-1), but there must be at least one NUMA node, so returning NUMA node zero\n",
      "2022-10-24 18:34:33.754832: I tensorflow/stream_executor/cuda/cuda_gpu_executor.cc:937] successful NUMA node read from SysFS had negative value (-1), but there must be at least one NUMA node, so returning NUMA node zero\n",
      "2022-10-24 18:34:33.755495: I tensorflow/stream_executor/cuda/cuda_gpu_executor.cc:937] successful NUMA node read from SysFS had negative value (-1), but there must be at least one NUMA node, so returning NUMA node zero\n",
      "2022-10-24 18:34:36.241040: I tensorflow/stream_executor/cuda/cuda_gpu_executor.cc:937] successful NUMA node read from SysFS had negative value (-1), but there must be at least one NUMA node, so returning NUMA node zero\n",
      "2022-10-24 18:34:36.241975: I tensorflow/stream_executor/cuda/cuda_gpu_executor.cc:937] successful NUMA node read from SysFS had negative value (-1), but there must be at least one NUMA node, so returning NUMA node zero\n",
      "2022-10-24 18:34:36.242636: I tensorflow/stream_executor/cuda/cuda_gpu_executor.cc:937] successful NUMA node read from SysFS had negative value (-1), but there must be at least one NUMA node, so returning NUMA node zero\n",
      "2022-10-24 18:34:36.243232: I tensorflow/core/common_runtime/gpu/gpu_device.cc:1510] Created device /job:localhost/replica:0/task:0/device:GPU:0 with 15401 MB memory:  -> device: 0, name: Tesla P100-PCIE-16GB, pci bus id: 0000:00:04.0, compute capability: 6.0\n"
     ]
    },
    {
     "name": "stdout",
     "output_type": "stream",
     "text": [
      "we have 780 items in X \n"
     ]
    }
   ],
   "source": [
    "# For Files Data\n",
    "X = []\n",
    "y = []\n",
    "i=0\n",
    "for folder in  os.listdir(data_path) : \n",
    "    j=0\n",
    "    files = gb.glob(pathname= str( data_path  + folder + '/*.json'))\n",
    "    for file in files: \n",
    "        data = load_file(file,j)\n",
    "        X.append(data)\n",
    "        y.append(i)\n",
    "        j+=1\n",
    "    i+=1\n",
    "\n",
    "print(f'we have {len(X)} items in X ')"
   ]
  },
  {
   "cell_type": "code",
   "execution_count": 6,
   "metadata": {
    "execution": {
     "iopub.execute_input": "2022-10-24T18:34:42.559770Z",
     "iopub.status.busy": "2022-10-24T18:34:42.559412Z",
     "iopub.status.idle": "2022-10-24T18:34:42.581515Z",
     "shell.execute_reply": "2022-10-24T18:34:42.580132Z",
     "shell.execute_reply.started": "2022-10-24T18:34:42.559732Z"
    }
   },
   "outputs": [],
   "source": [
    "X = np.array(X)\n",
    "y = np.array(y)"
   ]
  },
  {
   "cell_type": "code",
   "execution_count": 7,
   "metadata": {
    "execution": {
     "iopub.execute_input": "2022-10-24T18:34:42.584531Z",
     "iopub.status.busy": "2022-10-24T18:34:42.583900Z",
     "iopub.status.idle": "2022-10-24T18:34:42.607812Z",
     "shell.execute_reply": "2022-10-24T18:34:42.606925Z",
     "shell.execute_reply.started": "2022-10-24T18:34:42.584492Z"
    }
   },
   "outputs": [],
   "source": [
    "from sklearn.utils import shuffle\n",
    "X, y = shuffle(X, y, random_state=20)\n"
   ]
  },
  {
   "cell_type": "code",
   "execution_count": 8,
   "metadata": {
    "execution": {
     "iopub.execute_input": "2022-10-24T18:34:42.611416Z",
     "iopub.status.busy": "2022-10-24T18:34:42.611106Z",
     "iopub.status.idle": "2022-10-24T18:34:42.616897Z",
     "shell.execute_reply": "2022-10-24T18:34:42.615917Z",
     "shell.execute_reply.started": "2022-10-24T18:34:42.611388Z"
    }
   },
   "outputs": [
    {
     "name": "stdout",
     "output_type": "stream",
     "text": [
      "X shape is :  (780, 400, 18)\n",
      "y shape is :  (780,)\n"
     ]
    }
   ],
   "source": [
    "print('X shape is : ' , X.shape)\n",
    "print('y shape is : ' , y.shape)"
   ]
  },
  {
   "cell_type": "code",
   "execution_count": 9,
   "metadata": {
    "execution": {
     "iopub.execute_input": "2022-10-24T18:34:42.618909Z",
     "iopub.status.busy": "2022-10-24T18:34:42.618323Z",
     "iopub.status.idle": "2022-10-24T18:34:42.626158Z",
     "shell.execute_reply": "2022-10-24T18:34:42.625447Z",
     "shell.execute_reply.started": "2022-10-24T18:34:42.618870Z"
    }
   },
   "outputs": [],
   "source": [
    "mapping = {'A': 0, 'B': 1, 'C': 2, 'D': 3, 'E': 4, 'F': 5, 'G': 6, 'H': 7, 'I': 8, 'J': 9, 'K': 10, 'L': 11, 'M': 12, 'N': 13, 'O': 14, 'P': 15, 'Q': 16, 'R': 17, 'S': 18, 'T': 19, 'U': 20, 'V': 21, 'W': 22, 'X': 23, 'Y': 24, 'Z': 25}"
   ]
  },
  {
   "cell_type": "code",
   "execution_count": 10,
   "metadata": {
    "execution": {
     "iopub.execute_input": "2022-10-24T18:34:42.629753Z",
     "iopub.status.busy": "2022-10-24T18:34:42.629099Z",
     "iopub.status.idle": "2022-10-24T18:34:42.635441Z",
     "shell.execute_reply": "2022-10-24T18:34:42.634750Z",
     "shell.execute_reply.started": "2022-10-24T18:34:42.629717Z"
    }
   },
   "outputs": [],
   "source": [
    "def getcode(n) : \n",
    "    for x , y in mapping.items() : \n",
    "        if n == y : \n",
    "            return x"
   ]
  },
  {
   "cell_type": "markdown",
   "metadata": {},
   "source": [
    "# Building Model with files"
   ]
  },
  {
   "cell_type": "code",
   "execution_count": 11,
   "metadata": {
    "execution": {
     "iopub.execute_input": "2022-10-24T18:34:42.637370Z",
     "iopub.status.busy": "2022-10-24T18:34:42.636734Z",
     "iopub.status.idle": "2022-10-24T18:34:42.661532Z",
     "shell.execute_reply": "2022-10-24T18:34:42.660512Z",
     "shell.execute_reply.started": "2022-10-24T18:34:42.637334Z"
    }
   },
   "outputs": [],
   "source": [
    "X_train_f, X_split_f, y_train_f, y_split_f = train_test_split(X, y, test_size=0.30, random_state=42)\n",
    "X_test_f, X_valid_f, y_test_f, y_valid_f = train_test_split(X_split_f, y_split_f, test_size=0.50, random_state=42)"
   ]
  },
  {
   "cell_type": "code",
   "execution_count": 12,
   "metadata": {
    "execution": {
     "iopub.execute_input": "2022-10-24T18:34:48.464797Z",
     "iopub.status.busy": "2022-10-24T18:34:48.464444Z",
     "iopub.status.idle": "2022-10-24T18:34:48.470413Z",
     "shell.execute_reply": "2022-10-24T18:34:48.469381Z",
     "shell.execute_reply.started": "2022-10-24T18:34:48.464766Z"
    }
   },
   "outputs": [],
   "source": [
    "# X_train_f = X_train_f.reshape(X_train_f.shape[0] , X_train_f.shape[1]*X_train_f.shape[2])\n",
    "# X_valid_f = X_valid_f.reshape(X_valid_f.shape[0] , X_valid_f.shape[1]*X_valid_f.shape[2])\n",
    "# X_test_f = X_test_f.reshape(X_test_f.shape[0] , X_test_f.shape[1]*X_test_f.shape[2])\n",
    "\n",
    "X_train_f = X_train_f.reshape(len(X_train_f), X_train_f.shape[1],18)\n",
    "X_valid_f = X_valid_f.reshape(len(X_test_f), X_test_f.shape[1],18)\n",
    "X_test_f = X_test_f.reshape(len(X_valid_f), X_valid_f.shape[1],18)"
   ]
  },
  {
   "cell_type": "code",
   "execution_count": 13,
   "metadata": {
    "execution": {
     "iopub.execute_input": "2022-10-24T18:34:55.310601Z",
     "iopub.status.busy": "2022-10-24T18:34:55.309715Z",
     "iopub.status.idle": "2022-10-24T18:34:55.321006Z",
     "shell.execute_reply": "2022-10-24T18:34:55.316817Z",
     "shell.execute_reply.started": "2022-10-24T18:34:55.310564Z"
    }
   },
   "outputs": [
    {
     "name": "stdout",
     "output_type": "stream",
     "text": [
      "(546, 400, 18)\n",
      "(117, 400, 18)\n"
     ]
    }
   ],
   "source": [
    "print(X_train_f.shape)\n",
    "print(X_test_f.shape)"
   ]
  },
  {
   "cell_type": "code",
   "execution_count": 14,
   "metadata": {
    "execution": {
     "iopub.execute_input": "2022-10-24T18:35:03.178428Z",
     "iopub.status.busy": "2022-10-24T18:35:03.178071Z",
     "iopub.status.idle": "2022-10-24T18:35:03.185429Z",
     "shell.execute_reply": "2022-10-24T18:35:03.183792Z",
     "shell.execute_reply.started": "2022-10-24T18:35:03.178398Z"
    }
   },
   "outputs": [],
   "source": [
    "y_train_f = to_categorical(y_train_f)\n",
    "y_test_f=to_categorical(y_test_f)\n",
    "y_valid_f=to_categorical(y_valid_f)"
   ]
  },
  {
   "cell_type": "code",
   "execution_count": 67,
   "metadata": {
    "execution": {
     "iopub.execute_input": "2022-10-24T18:59:49.435193Z",
     "iopub.status.busy": "2022-10-24T18:59:49.434802Z",
     "iopub.status.idle": "2022-10-24T18:59:49.766842Z",
     "shell.execute_reply": "2022-10-24T18:59:49.765907Z",
     "shell.execute_reply.started": "2022-10-24T18:59:49.435162Z"
    }
   },
   "outputs": [],
   "source": [
    "model = keras.models.Sequential([\n",
    "        keras.layers.Bidirectional(keras.layers.CuDNNLSTM(units=265, return_sequences=True), input_shape =(400,18)),\n",
    "        keras.layers.Bidirectional(keras.layers.CuDNNLSTM(units=128, return_sequences=True)),\n",
    "        keras.layers.Dropout(rate=0.3) , \n",
    "        keras.layers.Flatten(),\n",
    "#         keras.layers.Dense(256,activation='relu' ),    \n",
    "        keras.layers.Dense(128,activation='tanh'), \n",
    "        keras.layers.Dropout(rate=0.3) , \n",
    "        keras.layers.Dense(64,activation='tanh'),    \n",
    "        keras.layers.Dense(26,activation='softmax'),    \n",
    "        ])\n",
    "# \n"
   ]
  },
  {
   "cell_type": "code",
   "execution_count": 68,
   "metadata": {
    "execution": {
     "iopub.execute_input": "2022-10-24T18:59:49.810423Z",
     "iopub.status.busy": "2022-10-24T18:59:49.810140Z",
     "iopub.status.idle": "2022-10-24T18:59:49.816725Z",
     "shell.execute_reply": "2022-10-24T18:59:49.815574Z",
     "shell.execute_reply.started": "2022-10-24T18:59:49.810397Z"
    }
   },
   "outputs": [
    {
     "name": "stdout",
     "output_type": "stream",
     "text": [
      "Model: \"sequential_8\"\n",
      "_________________________________________________________________\n",
      "Layer (type)                 Output Shape              Param #   \n",
      "=================================================================\n",
      "bidirectional_14 (Bidirectio (None, 400, 530)          604200    \n",
      "_________________________________________________________________\n",
      "bidirectional_15 (Bidirectio (None, 400, 256)          675840    \n",
      "_________________________________________________________________\n",
      "dropout_15 (Dropout)         (None, 400, 256)          0         \n",
      "_________________________________________________________________\n",
      "flatten_8 (Flatten)          (None, 102400)            0         \n",
      "_________________________________________________________________\n",
      "dense_17 (Dense)             (None, 128)               13107328  \n",
      "_________________________________________________________________\n",
      "dropout_16 (Dropout)         (None, 128)               0         \n",
      "_________________________________________________________________\n",
      "dense_18 (Dense)             (None, 64)                8256      \n",
      "_________________________________________________________________\n",
      "dense_19 (Dense)             (None, 26)                1690      \n",
      "=================================================================\n",
      "Total params: 14,397,314\n",
      "Trainable params: 14,397,314\n",
      "Non-trainable params: 0\n",
      "_________________________________________________________________\n"
     ]
    }
   ],
   "source": [
    "model.summary()"
   ]
  },
  {
   "cell_type": "code",
   "execution_count": 69,
   "metadata": {
    "execution": {
     "iopub.execute_input": "2022-10-24T18:59:50.088366Z",
     "iopub.status.busy": "2022-10-24T18:59:50.088092Z",
     "iopub.status.idle": "2022-10-24T19:00:38.062436Z",
     "shell.execute_reply": "2022-10-24T19:00:38.060811Z",
     "shell.execute_reply.started": "2022-10-24T18:59:50.088339Z"
    }
   },
   "outputs": [
    {
     "name": "stdout",
     "output_type": "stream",
     "text": [
      "Epoch 1/100\n",
      "5/5 [==============================] - 4s 355ms/step - loss: 2.8187 - accuracy: 0.1813 - val_loss: 1.9180 - val_accuracy: 0.4872\n",
      "Epoch 2/100\n",
      "5/5 [==============================] - 1s 231ms/step - loss: 1.7880 - accuracy: 0.5275 - val_loss: 1.3488 - val_accuracy: 0.6667\n",
      "Epoch 3/100\n",
      "5/5 [==============================] - 1s 231ms/step - loss: 1.2693 - accuracy: 0.7527 - val_loss: 1.0594 - val_accuracy: 0.8291\n",
      "Epoch 4/100\n",
      "5/5 [==============================] - 1s 231ms/step - loss: 0.9406 - accuracy: 0.8370 - val_loss: 0.8680 - val_accuracy: 0.8462\n",
      "Epoch 5/100\n",
      "5/5 [==============================] - 1s 229ms/step - loss: 0.7374 - accuracy: 0.9066 - val_loss: 0.7118 - val_accuracy: 0.8632\n",
      "Epoch 6/100\n",
      "5/5 [==============================] - 1s 231ms/step - loss: 0.5875 - accuracy: 0.9414 - val_loss: 0.6132 - val_accuracy: 0.8632\n",
      "Epoch 7/100\n",
      "5/5 [==============================] - 1s 229ms/step - loss: 0.4653 - accuracy: 0.9469 - val_loss: 0.5295 - val_accuracy: 0.8803\n",
      "Epoch 8/100\n",
      "5/5 [==============================] - 1s 231ms/step - loss: 0.3996 - accuracy: 0.9579 - val_loss: 0.4550 - val_accuracy: 0.8803\n",
      "Epoch 9/100\n",
      "5/5 [==============================] - 1s 233ms/step - loss: 0.3152 - accuracy: 0.9817 - val_loss: 0.3711 - val_accuracy: 0.9145\n",
      "Epoch 10/100\n",
      "5/5 [==============================] - 1s 232ms/step - loss: 0.2604 - accuracy: 0.9890 - val_loss: 0.3591 - val_accuracy: 0.9402\n",
      "Epoch 11/100\n",
      "5/5 [==============================] - 1s 230ms/step - loss: 0.2064 - accuracy: 0.9908 - val_loss: 0.3135 - val_accuracy: 0.9316\n",
      "Epoch 12/100\n",
      "5/5 [==============================] - 1s 230ms/step - loss: 0.1754 - accuracy: 0.9982 - val_loss: 0.3174 - val_accuracy: 0.9316\n",
      "Epoch 13/100\n",
      "5/5 [==============================] - 1s 230ms/step - loss: 0.1545 - accuracy: 0.9945 - val_loss: 0.3017 - val_accuracy: 0.9402\n",
      "Epoch 14/100\n",
      "5/5 [==============================] - 1s 231ms/step - loss: 0.1268 - accuracy: 1.0000 - val_loss: 0.2853 - val_accuracy: 0.9316\n",
      "Epoch 15/100\n",
      "5/5 [==============================] - 1s 230ms/step - loss: 0.1088 - accuracy: 0.9982 - val_loss: 0.2525 - val_accuracy: 0.9402\n",
      "Epoch 16/100\n",
      "5/5 [==============================] - 1s 234ms/step - loss: 0.0960 - accuracy: 0.9982 - val_loss: 0.2440 - val_accuracy: 0.9573\n",
      "Epoch 17/100\n",
      "5/5 [==============================] - 1s 231ms/step - loss: 0.0834 - accuracy: 0.9982 - val_loss: 0.2421 - val_accuracy: 0.9487\n",
      "Epoch 18/100\n",
      "5/5 [==============================] - 1s 233ms/step - loss: 0.0736 - accuracy: 1.0000 - val_loss: 0.2379 - val_accuracy: 0.9316\n",
      "Epoch 19/100\n",
      "5/5 [==============================] - 1s 229ms/step - loss: 0.0666 - accuracy: 1.0000 - val_loss: 0.2269 - val_accuracy: 0.9402\n",
      "Epoch 20/100\n",
      "5/5 [==============================] - 1s 230ms/step - loss: 0.0629 - accuracy: 1.0000 - val_loss: 0.2253 - val_accuracy: 0.9487\n",
      "Epoch 21/100\n",
      "5/5 [==============================] - 1s 229ms/step - loss: 0.0544 - accuracy: 1.0000 - val_loss: 0.2172 - val_accuracy: 0.9487\n",
      "Epoch 22/100\n",
      "5/5 [==============================] - 1s 230ms/step - loss: 0.0541 - accuracy: 0.9963 - val_loss: 0.2069 - val_accuracy: 0.9487\n",
      "Epoch 23/100\n",
      "5/5 [==============================] - 1s 230ms/step - loss: 0.0487 - accuracy: 1.0000 - val_loss: 0.1832 - val_accuracy: 0.9487\n",
      "Epoch 24/100\n",
      "5/5 [==============================] - 1s 231ms/step - loss: 0.0488 - accuracy: 1.0000 - val_loss: 0.1778 - val_accuracy: 0.9487\n",
      "Epoch 25/100\n",
      "5/5 [==============================] - 1s 228ms/step - loss: 0.0434 - accuracy: 1.0000 - val_loss: 0.2055 - val_accuracy: 0.9402\n",
      "Epoch 26/100\n",
      "5/5 [==============================] - 1s 229ms/step - loss: 0.0415 - accuracy: 1.0000 - val_loss: 0.1915 - val_accuracy: 0.9573\n",
      "Epoch 27/100\n",
      "5/5 [==============================] - 1s 228ms/step - loss: 0.0379 - accuracy: 1.0000 - val_loss: 0.1878 - val_accuracy: 0.9573\n",
      "Epoch 28/100\n",
      "5/5 [==============================] - 1s 230ms/step - loss: 0.0356 - accuracy: 1.0000 - val_loss: 0.1790 - val_accuracy: 0.9487\n",
      "Epoch 29/100\n",
      "5/5 [==============================] - 1s 228ms/step - loss: 0.0355 - accuracy: 1.0000 - val_loss: 0.1707 - val_accuracy: 0.9487\n",
      "Epoch 30/100\n",
      "5/5 [==============================] - 1s 229ms/step - loss: 0.0325 - accuracy: 1.0000 - val_loss: 0.1634 - val_accuracy: 0.9573\n",
      "Epoch 31/100\n",
      "5/5 [==============================] - 1s 229ms/step - loss: 0.0323 - accuracy: 1.0000 - val_loss: 0.1619 - val_accuracy: 0.9402\n",
      "Epoch 32/100\n",
      "5/5 [==============================] - 1s 241ms/step - loss: 0.0284 - accuracy: 1.0000 - val_loss: 0.1588 - val_accuracy: 0.9487\n",
      "Epoch 33/100\n",
      "5/5 [==============================] - 1s 229ms/step - loss: 0.0282 - accuracy: 1.0000 - val_loss: 0.1513 - val_accuracy: 0.9573\n",
      "Epoch 34/100\n",
      "5/5 [==============================] - 1s 229ms/step - loss: 0.0268 - accuracy: 1.0000 - val_loss: 0.1488 - val_accuracy: 0.9573\n",
      "Epoch 35/100\n",
      "5/5 [==============================] - 1s 228ms/step - loss: 0.0273 - accuracy: 1.0000 - val_loss: 0.1491 - val_accuracy: 0.9573\n",
      "Epoch 36/100\n",
      "5/5 [==============================] - 1s 230ms/step - loss: 0.0250 - accuracy: 1.0000 - val_loss: 0.1542 - val_accuracy: 0.9658\n",
      "Epoch 37/100\n",
      "5/5 [==============================] - 1s 229ms/step - loss: 0.0240 - accuracy: 1.0000 - val_loss: 0.1619 - val_accuracy: 0.9658\n",
      "Epoch 38/100\n",
      "5/5 [==============================] - 1s 232ms/step - loss: 0.0239 - accuracy: 1.0000 - val_loss: 0.1643 - val_accuracy: 0.9573\n",
      "Epoch 39/100\n",
      "5/5 [==============================] - 1s 229ms/step - loss: 0.0221 - accuracy: 1.0000 - val_loss: 0.1591 - val_accuracy: 0.9573\n",
      "Epoch 00039: early stopping\n"
     ]
    }
   ],
   "source": [
    "import tensorflow as tf\n",
    "\n",
    "# try using different optimizers and different optimizer configs\n",
    "model.compile(loss='categorical_crossentropy',optimizer='adam',metrics=['accuracy'])\n",
    "es = tf.keras.callbacks.EarlyStopping(monitor='val_loss', mode='min', verbose=1, patience=5)\n",
    "checkpointer = tf.keras.callbacks.ModelCheckpoint(filepath=\"./checkpoint-{epoch:02d}.hdf5\", verbose=1, save_best_only=True, monitor='val_acc',mode='max')\n",
    "csv_logger = CSVLogger('training_set_iranalysis3.csv',separator=',', append=False)\n",
    "history = model.fit(X_train_f, y_train_f, batch_size=128, epochs=100, validation_data=(X_valid_f, y_valid_f),callbacks=[es,checkpointer,csv_logger])\n",
    "model.save(\"./lstm.hdf5\")"
   ]
  },
  {
   "cell_type": "code",
   "execution_count": 70,
   "metadata": {
    "execution": {
     "iopub.execute_input": "2022-10-24T19:00:38.067828Z",
     "iopub.status.busy": "2022-10-24T19:00:38.067505Z",
     "iopub.status.idle": "2022-10-24T19:01:14.526762Z",
     "shell.execute_reply": "2022-10-24T19:01:14.525893Z",
     "shell.execute_reply.started": "2022-10-24T19:00:38.067798Z"
    }
   },
   "outputs": [
    {
     "name": "stdout",
     "output_type": "stream",
     "text": [
      "4/4 [==============================] - 0s 59ms/step - loss: 0.2001 - accuracy: 0.9231\n",
      "Test results - Loss: 0.2000800520181656 - Accuracy: 92.30769276618958%\n"
     ]
    }
   ],
   "source": [
    "test_results = model.evaluate(X_test_f, y_test_f, verbose=1)\n",
    "print(f'Test results - Loss: {test_results[0]} - Accuracy: {test_results[1]*100}%')"
   ]
  },
  {
   "cell_type": "code",
   "execution_count": 71,
   "metadata": {
    "execution": {
     "iopub.execute_input": "2022-10-24T19:01:14.529912Z",
     "iopub.status.busy": "2022-10-24T19:01:14.529618Z",
     "iopub.status.idle": "2022-10-24T19:01:14.721831Z",
     "shell.execute_reply": "2022-10-24T19:01:14.720961Z",
     "shell.execute_reply.started": "2022-10-24T19:01:14.529879Z"
    }
   },
   "outputs": [
    {
     "data": {
      "image/png": "[encoded data removed]",
      "text/plain": [
       "<Figure size 432x288 with 1 Axes>"
      ]
     },
     "metadata": {
      "needs_background": "light"
     },
     "output_type": "display_data"
    }
   ],
   "source": [
    "import matplotlib.pyplot as plt\n",
    "plt.plot(history.history['accuracy'])\n",
    "plt.plot(history.history['val_accuracy'])\n",
    "plt.title(\"Plot of accuracy vs epoch for train and test dataset\")\n",
    "plt.ylabel('accuracy')\n",
    "plt.xlabel('epoch')\n",
    "plt.show()"
   ]
  },
  {
   "cell_type": "code",
   "execution_count": 72,
   "metadata": {
    "execution": {
     "iopub.execute_input": "2022-10-24T19:01:14.724344Z",
     "iopub.status.busy": "2022-10-24T19:01:14.723752Z",
     "iopub.status.idle": "2022-10-24T19:01:14.925557Z",
     "shell.execute_reply": "2022-10-24T19:01:14.924617Z",
     "shell.execute_reply.started": "2022-10-24T19:01:14.724306Z"
    }
   },
   "outputs": [
    {
     "data": {
      "image/png": "[encoded data removed]",
      "text/plain": [
       "<Figure size 432x288 with 1 Axes>"
      ]
     },
     "metadata": {
      "needs_background": "light"
     },
     "output_type": "display_data"
    }
   ],
   "source": [
    "plt.plot(history.history['loss'])\n",
    "plt.plot(history.history['val_loss'])\n",
    "plt.title(\"Loss vs epoch for train and test\")\n",
    "plt.ylabel('loss')\n",
    "plt.xlabel('epoch')\n",
    "plt.legend(['train', 'test'], loc='upper right')\n",
    "plt.show()"
   ]
  },
  {
   "cell_type": "code",
   "execution_count": null,
   "metadata": {},
   "outputs": [],
   "source": []
  },
  {
   "cell_type": "code",
   "execution_count": null,
   "metadata": {},
   "outputs": [],
   "source": []
  },
  {
   "cell_type": "code",
   "execution_count": null,
   "metadata": {},
   "outputs": [],
   "source": []
  }
 ],
 "metadata": {
  "kernelspec": {
   "display_name": "Python 3 (ipykernel)",
   "language": "python",
   "name": "python3"
  },
  "language_info": {
   "codemirror_mode": {
    "name": "ipython",
    "version": 3
   },
   "file_extension": ".py",
   "mimetype": "text/x-python",
   "name": "python",
   "nbconvert_exporter": "python",
   "pygments_lexer": "ipython3",
   "version": "3.9.12"
  }
 },
 "nbformat": 4,
 "nbformat_minor": 4
}
