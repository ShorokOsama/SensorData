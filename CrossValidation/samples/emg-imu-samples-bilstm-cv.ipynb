{
 "cells": [
  {
   "cell_type": "code",
   "execution_count": 107,
   "id": "e114a297",
   "metadata": {
    "execution": {
     "iopub.execute_input": "2022-10-27T01:35:32.997981Z",
     "iopub.status.busy": "2022-10-27T01:35:32.997575Z",
     "iopub.status.idle": "2022-10-27T01:35:33.006742Z",
     "shell.execute_reply": "2022-10-27T01:35:33.005397Z",
     "shell.execute_reply.started": "2022-10-27T01:35:32.997949Z"
    },
    "jupyter": {
     "source_hidden": true
    }
   },
   "outputs": [],
   "source": [
    "import json\n",
    "import numpy as np\n",
    "from pandas.io.json import json_normalize\n",
    "\n",
    "import os\n",
    "import glob as gb\n",
    "import tensorflow as tf\n",
    "import random\n",
    "\n",
    "from sklearn.model_selection import train_test_split\n",
    "import keras \n",
    "from keras.utils.np_utils import to_categorical\n",
    "from keras.models import Sequential\n",
    "from keras.layers import Conv2D, MaxPooling2D, Activation, Dense, Flatten,Dropout\n",
    "from keras.layers import Dense\n",
    "from keras.layers import LSTM , Flatten , CuDNNLSTM , GRU\n",
    "from keras.layers import Dropout\n",
    "from keras.layers import LSTM, Dense, Bidirectional, Input,Dropout,BatchNormalization, CuDNNGRU, CuDNNLSTM\n",
    "\n",
    "import keras\n",
    "\n",
    "from keras import callbacks\n",
    "from keras.callbacks import  CSVLogger\n",
    "\n",
    "\n",
    "# Model Evaluations\n",
    "from sklearn import metrics\n",
    "from sklearn.metrics import accuracy_score \n",
    "from sklearn.metrics import classification_report \n",
    "from sklearn.metrics import precision_score\n",
    "from sklearn.metrics import recall_score\n",
    "from sklearn.metrics import f1_score\n",
    "from sklearn.metrics import roc_auc_score\n",
    "from sklearn.metrics import roc_curve, auc\n"
   ]
  },
  {
   "cell_type": "code",
   "execution_count": 108,
   "id": "c6cabb34",
   "metadata": {
    "execution": {
     "iopub.execute_input": "2022-10-27T01:35:33.011092Z",
     "iopub.status.busy": "2022-10-27T01:35:33.010330Z",
     "iopub.status.idle": "2022-10-27T01:35:33.020864Z",
     "shell.execute_reply": "2022-10-27T01:35:33.019702Z",
     "shell.execute_reply.started": "2022-10-27T01:35:33.011057Z"
    }
   },
   "outputs": [],
   "source": [
    "import json\n",
    "import numpy as np\n",
    "from pandas.io.json import json_normalize\n",
    "\n",
    "import os\n",
    "import glob as gb\n",
    "import tensorflow as tf\n",
    "\n",
    "from sklearn.model_selection import train_test_split\n",
    "import keras \n",
    "from keras.utils.np_utils import to_categorical\n",
    "from keras.models import Sequential\n",
    "from keras.layers import Dense\n",
    "from keras.layers import LSTM , Flatten , CuDNNLSTM , GRU\n",
    "from keras.layers import Dropout\n",
    "import keras\n",
    "\n",
    "from keras import callbacks\n",
    "from keras.callbacks import  CSVLogger\n",
    "\n",
    "\n",
    "# Model Evaluations\n",
    "from sklearn import metrics\n",
    "from sklearn.metrics import accuracy_score \n",
    "from sklearn.metrics import classification_report \n",
    "from sklearn.metrics import precision_score\n",
    "from sklearn.metrics import recall_score\n",
    "from sklearn.metrics import f1_score\n",
    "from sklearn.metrics import roc_auc_score\n",
    "from sklearn.metrics import roc_curve, auc"
   ]
  },
  {
   "cell_type": "code",
   "execution_count": 109,
   "id": "ec111503",
   "metadata": {
    "execution": {
     "iopub.execute_input": "2022-10-27T01:35:33.023407Z",
     "iopub.status.busy": "2022-10-27T01:35:33.022868Z",
     "iopub.status.idle": "2022-10-27T01:35:33.032640Z",
     "shell.execute_reply": "2022-10-27T01:35:33.031624Z",
     "shell.execute_reply.started": "2022-10-27T01:35:33.023372Z"
    }
   },
   "outputs": [],
   "source": [
    "def load_file(filepath,i):\n",
    "    with open(filepath) as f:\n",
    "        data = json.load(f)\n",
    "    imu = data['imu']['data']\n",
    "    emg = data['emg']['data']\n",
    "    emg = np.array(emg)\n",
    "    imu = np.array(imu)\n",
    "    imu_gyr = np.array([(e['gyroscope']) for e in imu])\n",
    "    imu_acc = np.array([(e['acceleration']) for e in imu])\n",
    "    imu_orn = np.array([(e['orientation']) for e in imu])\n",
    "    #timestamp = [i]\n",
    "    #timestamp = np.repeat(timestamp, 400, axis=None)\n",
    "    #timestamp= timestamp.reshape(400,1)\n",
    "    dataset = tf.concat([emg, imu_gyr, imu_acc, imu_orn], axis=1, name='concat')\n",
    "    dataset = np.array(dataset)\n",
    "    return dataset"
   ]
  },
  {
   "cell_type": "code",
   "execution_count": 110,
   "id": "5747a319",
   "metadata": {
    "execution": {
     "iopub.execute_input": "2022-10-27T01:35:33.034897Z",
     "iopub.status.busy": "2022-10-27T01:35:33.034220Z",
     "iopub.status.idle": "2022-10-27T01:35:33.045427Z",
     "shell.execute_reply": "2022-10-27T01:35:33.044487Z",
     "shell.execute_reply.started": "2022-10-27T01:35:33.034858Z"
    }
   },
   "outputs": [],
   "source": [
    "data_path = '../input/emgimu/An-EMG-and-IMU-Dataset-for-the-Italian-Sign-Language-Alphabet-master/Dataset/'"
   ]
  },
  {
   "cell_type": "code",
   "execution_count": 111,
   "id": "1f109e32",
   "metadata": {
    "execution": {
     "iopub.execute_input": "2022-10-27T01:35:33.047439Z",
     "iopub.status.busy": "2022-10-27T01:35:33.047146Z",
     "iopub.status.idle": "2022-10-27T01:35:36.229852Z",
     "shell.execute_reply": "2022-10-27T01:35:36.228820Z",
     "shell.execute_reply.started": "2022-10-27T01:35:33.047414Z"
    }
   },
   "outputs": [
    {
     "name": "stdout",
     "output_type": "stream",
     "text": [
      "we have 780 items in X \n"
     ]
    }
   ],
   "source": [
    "# For Files Data\n",
    "X = []\n",
    "y = []\n",
    "i=0\n",
    "for folder in  os.listdir(data_path) : \n",
    "    j=0\n",
    "    files = gb.glob(pathname= str( data_path  + folder + '/*.json'))\n",
    "    for file in files: \n",
    "        data = load_file(file,j)\n",
    "        X.append(data)\n",
    "        y.append(i)\n",
    "        j+=1\n",
    "    i+=1\n",
    "\n",
    "print(f'we have {len(X)} items in X ')"
   ]
  },
  {
   "cell_type": "code",
   "execution_count": 112,
   "id": "e8a9740a",
   "metadata": {
    "execution": {
     "iopub.execute_input": "2022-10-27T01:35:36.231499Z",
     "iopub.status.busy": "2022-10-27T01:35:36.231137Z",
     "iopub.status.idle": "2022-10-27T01:35:36.247858Z",
     "shell.execute_reply": "2022-10-27T01:35:36.246889Z",
     "shell.execute_reply.started": "2022-10-27T01:35:36.231462Z"
    }
   },
   "outputs": [],
   "source": [
    "X = np.array(X)\n",
    "y = np.array(y)"
   ]
  },
  {
   "cell_type": "code",
   "execution_count": 113,
   "id": "9a01c5ff",
   "metadata": {
    "execution": {
     "iopub.execute_input": "2022-10-27T01:35:36.249836Z",
     "iopub.status.busy": "2022-10-27T01:35:36.249250Z",
     "iopub.status.idle": "2022-10-27T01:35:36.255571Z",
     "shell.execute_reply": "2022-10-27T01:35:36.254525Z",
     "shell.execute_reply.started": "2022-10-27T01:35:36.249791Z"
    }
   },
   "outputs": [
    {
     "name": "stdout",
     "output_type": "stream",
     "text": [
      "X shape is :  (780, 400, 18)\n",
      "y shape is :  (780,)\n"
     ]
    }
   ],
   "source": [
    "print('X shape is : ' , X.shape)\n",
    "print('y shape is : ' , y.shape)"
   ]
  },
  {
   "cell_type": "code",
   "execution_count": 114,
   "id": "ce1846cb",
   "metadata": {
    "execution": {
     "iopub.execute_input": "2022-10-27T01:35:36.258159Z",
     "iopub.status.busy": "2022-10-27T01:35:36.257518Z",
     "iopub.status.idle": "2022-10-27T01:35:36.267132Z",
     "shell.execute_reply": "2022-10-27T01:35:36.266171Z",
     "shell.execute_reply.started": "2022-10-27T01:35:36.258124Z"
    }
   },
   "outputs": [],
   "source": [
    "mapping = {'A': 0, 'B': 1, 'C': 2, 'D': 3, 'E': 4, 'F': 5, 'G': 6, 'H': 7, 'I': 8, 'J': 9, 'K': 10, 'L': 11, 'M': 12, 'N': 13, 'O': 14, 'P': 15, 'Q': 16, 'R': 17, 'S': 18, 'T': 19, 'U': 20, 'V': 21, 'W': 22, 'X': 23, 'Y': 24, 'Z': 25}"
   ]
  },
  {
   "cell_type": "code",
   "execution_count": 115,
   "id": "5070b711",
   "metadata": {
    "execution": {
     "iopub.execute_input": "2022-10-27T01:35:36.269940Z",
     "iopub.status.busy": "2022-10-27T01:35:36.269629Z",
     "iopub.status.idle": "2022-10-27T01:35:36.279147Z",
     "shell.execute_reply": "2022-10-27T01:35:36.278003Z",
     "shell.execute_reply.started": "2022-10-27T01:35:36.269916Z"
    }
   },
   "outputs": [],
   "source": [
    "def getcode(n) : \n",
    "    for x , y in mapping.items() : \n",
    "        if n == y : \n",
    "            return x"
   ]
  },
  {
   "cell_type": "code",
   "execution_count": 116,
   "id": "1925bfe4",
   "metadata": {
    "execution": {
     "iopub.execute_input": "2022-10-27T01:35:36.280942Z",
     "iopub.status.busy": "2022-10-27T01:35:36.280564Z",
     "iopub.status.idle": "2022-10-27T01:35:36.478605Z",
     "shell.execute_reply": "2022-10-27T01:35:36.477704Z",
     "shell.execute_reply.started": "2022-10-27T01:35:36.280907Z"
    }
   },
   "outputs": [],
   "source": [
    "# For Smaples Data\n",
    "new_X = []\n",
    "new_y = []\n",
    "for j in range(780):\n",
    "    for i in range(400):\n",
    "        new_X.append(X[j][i])\n",
    "        new_y.append(y[j])\n",
    "        \n"
   ]
  },
  {
   "cell_type": "code",
   "execution_count": 117,
   "id": "8492ef95",
   "metadata": {
    "execution": {
     "iopub.execute_input": "2022-10-27T01:35:36.480186Z",
     "iopub.status.busy": "2022-10-27T01:35:36.479838Z",
     "iopub.status.idle": "2022-10-27T01:35:36.488032Z",
     "shell.execute_reply": "2022-10-27T01:35:36.486961Z",
     "shell.execute_reply.started": "2022-10-27T01:35:36.480150Z"
    }
   },
   "outputs": [
    {
     "data": {
      "text/plain": [
       "312000"
      ]
     },
     "execution_count": 117,
     "metadata": {},
     "output_type": "execute_result"
    }
   ],
   "source": [
    "len(new_X)"
   ]
  },
  {
   "cell_type": "code",
   "execution_count": 118,
   "id": "c558fb76",
   "metadata": {
    "execution": {
     "iopub.execute_input": "2022-10-27T01:35:36.490357Z",
     "iopub.status.busy": "2022-10-27T01:35:36.489575Z",
     "iopub.status.idle": "2022-10-27T01:35:36.496728Z",
     "shell.execute_reply": "2022-10-27T01:35:36.495747Z",
     "shell.execute_reply.started": "2022-10-27T01:35:36.490302Z"
    }
   },
   "outputs": [
    {
     "data": {
      "text/plain": [
       "312000"
      ]
     },
     "execution_count": 118,
     "metadata": {},
     "output_type": "execute_result"
    }
   ],
   "source": [
    "len(new_y)"
   ]
  },
  {
   "cell_type": "code",
   "execution_count": 119,
   "id": "a3c53e4b",
   "metadata": {
    "execution": {
     "iopub.execute_input": "2022-10-27T01:35:36.499039Z",
     "iopub.status.busy": "2022-10-27T01:35:36.498298Z",
     "iopub.status.idle": "2022-10-27T01:35:36.641106Z",
     "shell.execute_reply": "2022-10-27T01:35:36.640115Z",
     "shell.execute_reply.started": "2022-10-27T01:35:36.499004Z"
    }
   },
   "outputs": [],
   "source": [
    "new_X = np.array(new_X)\n",
    "new_y = np.array(new_y)\n"
   ]
  },
  {
   "cell_type": "code",
   "execution_count": 120,
   "id": "333060f7",
   "metadata": {
    "execution": {
     "iopub.execute_input": "2022-10-27T01:35:36.642764Z",
     "iopub.status.busy": "2022-10-27T01:35:36.642393Z",
     "iopub.status.idle": "2022-10-27T01:35:36.684845Z",
     "shell.execute_reply": "2022-10-27T01:35:36.683688Z",
     "shell.execute_reply.started": "2022-10-27T01:35:36.642729Z"
    }
   },
   "outputs": [],
   "source": [
    "from sklearn.utils import shuffle\n",
    "new_X, new_y = shuffle(new_X, new_y, random_state=20)"
   ]
  },
  {
   "cell_type": "code",
   "execution_count": 121,
   "id": "e2b5e03b",
   "metadata": {
    "execution": {
     "iopub.execute_input": "2022-10-27T01:35:36.686625Z",
     "iopub.status.busy": "2022-10-27T01:35:36.686295Z",
     "iopub.status.idle": "2022-10-27T01:35:36.696527Z",
     "shell.execute_reply": "2022-10-27T01:35:36.695340Z",
     "shell.execute_reply.started": "2022-10-27T01:35:36.686599Z"
    }
   },
   "outputs": [
    {
     "name": "stdout",
     "output_type": "stream",
     "text": [
      "new_X shape is :  (312000, 18)\n",
      "new_y shape is :  (312000,)\n"
     ]
    }
   ],
   "source": [
    "print('new_X shape is : ' , new_X.shape)\n",
    "print('new_y shape is : ' , new_y.shape)\n"
   ]
  },
  {
   "cell_type": "markdown",
   "id": "33bb5c4d",
   "metadata": {},
   "source": [
    "# **Bulding Model with samples data**"
   ]
  },
  {
   "cell_type": "code",
   "execution_count": 122,
   "id": "0992606c",
   "metadata": {
    "execution": {
     "iopub.execute_input": "2022-10-27T01:35:36.698341Z",
     "iopub.status.busy": "2022-10-27T01:35:36.697842Z",
     "iopub.status.idle": "2022-10-27T01:35:36.740018Z",
     "shell.execute_reply": "2022-10-27T01:35:36.739181Z",
     "shell.execute_reply.started": "2022-10-27T01:35:36.698307Z"
    }
   },
   "outputs": [],
   "source": [
    "X_train, X_split, y_train, y_splitt = train_test_split(new_X, new_y, test_size=0.30, random_state=42)"
   ]
  },
  {
   "cell_type": "code",
   "execution_count": 123,
   "id": "6bd39324",
   "metadata": {
    "execution": {
     "iopub.execute_input": "2022-10-27T01:35:36.741636Z",
     "iopub.status.busy": "2022-10-27T01:35:36.741211Z",
     "iopub.status.idle": "2022-10-27T01:35:36.759894Z",
     "shell.execute_reply": "2022-10-27T01:35:36.759036Z",
     "shell.execute_reply.started": "2022-10-27T01:35:36.741597Z"
    }
   },
   "outputs": [],
   "source": [
    "X_test, X_valid, y_test, y_valid = train_test_split(X_split, y_splitt, test_size=0.50, random_state=42)"
   ]
  },
  {
   "cell_type": "code",
   "execution_count": 124,
   "id": "f2c7d41e",
   "metadata": {
    "execution": {
     "iopub.execute_input": "2022-10-27T01:35:36.761744Z",
     "iopub.status.busy": "2022-10-27T01:35:36.761270Z",
     "iopub.status.idle": "2022-10-27T01:35:36.767892Z",
     "shell.execute_reply": "2022-10-27T01:35:36.766936Z",
     "shell.execute_reply.started": "2022-10-27T01:35:36.761706Z"
    }
   },
   "outputs": [
    {
     "data": {
      "text/plain": [
       "(218400, 18)"
      ]
     },
     "execution_count": 124,
     "metadata": {},
     "output_type": "execute_result"
    }
   ],
   "source": [
    "X_train.shape"
   ]
  },
  {
   "cell_type": "code",
   "execution_count": 125,
   "id": "c5a3a0be",
   "metadata": {
    "execution": {
     "iopub.execute_input": "2022-10-27T01:35:36.770212Z",
     "iopub.status.busy": "2022-10-27T01:35:36.769471Z",
     "iopub.status.idle": "2022-10-27T01:35:36.776472Z",
     "shell.execute_reply": "2022-10-27T01:35:36.775488Z",
     "shell.execute_reply.started": "2022-10-27T01:35:36.770177Z"
    }
   },
   "outputs": [],
   "source": [
    "X_train = X_train.reshape(len(X_train), X_train.shape[1],1)\n",
    "X_test = X_test.reshape(len(X_test), X_test.shape[1],1)\n",
    "X_valid = X_valid.reshape(len(X_valid), X_valid.shape[1],1)\n",
    "\n"
   ]
  },
  {
   "cell_type": "code",
   "execution_count": 126,
   "id": "448850c5",
   "metadata": {
    "execution": {
     "iopub.execute_input": "2022-10-27T01:35:36.781885Z",
     "iopub.status.busy": "2022-10-27T01:35:36.781576Z",
     "iopub.status.idle": "2022-10-27T01:35:36.798831Z",
     "shell.execute_reply": "2022-10-27T01:35:36.797882Z",
     "shell.execute_reply.started": "2022-10-27T01:35:36.781859Z"
    }
   },
   "outputs": [],
   "source": [
    "y_train = to_categorical(y_train)\n",
    "y_test=to_categorical(y_test)\n",
    "y_valid=to_categorical(y_valid)"
   ]
  },
  {
   "cell_type": "code",
   "execution_count": 127,
   "id": "523ef91e",
   "metadata": {
    "execution": {
     "iopub.execute_input": "2022-10-27T01:35:36.802414Z",
     "iopub.status.busy": "2022-10-27T01:35:36.801445Z",
     "iopub.status.idle": "2022-10-27T01:35:36.821382Z",
     "shell.execute_reply": "2022-10-27T01:35:36.820523Z",
     "shell.execute_reply.started": "2022-10-27T01:35:36.802377Z"
    }
   },
   "outputs": [],
   "source": [
    "\n",
    "inputs = np.concatenate((X_train, X_test), axis=0)\n",
    "targets = np.concatenate((y_train, y_test), axis=0)\n",
    "acc_per_fold = []\n",
    "loss_per_fold = []"
   ]
  },
  {
   "cell_type": "code",
   "execution_count": 128,
   "id": "18654dc7",
   "metadata": {
    "execution": {
     "iopub.execute_input": "2022-10-27T01:35:36.823344Z",
     "iopub.status.busy": "2022-10-27T01:35:36.822919Z",
     "iopub.status.idle": "2022-10-27T02:04:15.450082Z",
     "shell.execute_reply": "2022-10-27T02:04:15.448960Z",
     "shell.execute_reply.started": "2022-10-27T01:35:36.823294Z"
    }
   },
   "outputs": [
    {
     "name": "stdout",
     "output_type": "stream",
     "text": [
      "------------------------------------------------------------------------\n",
      "Training for fold 1 ...\n",
      "Epoch 1/50\n",
      "1658/1658 [==============================] - 27s 15ms/step - loss: 2.5290 - accuracy: 0.2313 - val_loss: 2.2978 - val_accuracy: 0.2900\n",
      "Epoch 2/50\n",
      "1658/1658 [==============================] - 25s 15ms/step - loss: 2.2991 - accuracy: 0.2900 - val_loss: 2.2193 - val_accuracy: 0.3146\n",
      "Epoch 3/50\n",
      "1658/1658 [==============================] - 25s 15ms/step - loss: 2.2389 - accuracy: 0.3085 - val_loss: 2.1798 - val_accuracy: 0.3252\n",
      "Epoch 4/50\n",
      "1658/1658 [==============================] - 25s 15ms/step - loss: 2.2001 - accuracy: 0.3201 - val_loss: 2.1493 - val_accuracy: 0.3366\n",
      "Epoch 5/50\n",
      "1658/1658 [==============================] - 24s 15ms/step - loss: 2.1692 - accuracy: 0.3294 - val_loss: 2.1494 - val_accuracy: 0.3337\n",
      "Epoch 6/50\n",
      "1658/1658 [==============================] - 25s 15ms/step - loss: 2.1417 - accuracy: 0.3367 - val_loss: 2.1408 - val_accuracy: 0.3408\n",
      "Epoch 7/50\n",
      "1658/1658 [==============================] - 24s 15ms/step - loss: 2.1166 - accuracy: 0.3449 - val_loss: 2.1447 - val_accuracy: 0.3372\n",
      "Epoch 8/50\n",
      "1658/1658 [==============================] - 24s 15ms/step - loss: 2.0901 - accuracy: 0.3526 - val_loss: 2.1312 - val_accuracy: 0.3433\n",
      "Epoch 9/50\n",
      "1658/1658 [==============================] - 25s 15ms/step - loss: 2.0617 - accuracy: 0.3604 - val_loss: 2.1418 - val_accuracy: 0.3428\n",
      "Epoch 10/50\n",
      "1658/1658 [==============================] - 25s 15ms/step - loss: 2.0325 - accuracy: 0.3693 - val_loss: 2.1396 - val_accuracy: 0.3429\n",
      "Epoch 11/50\n",
      "1658/1658 [==============================] - 25s 15ms/step - loss: 2.0021 - accuracy: 0.3783 - val_loss: 2.1552 - val_accuracy: 0.3426\n",
      "Epoch 12/50\n",
      "1658/1658 [==============================] - 24s 15ms/step - loss: 1.9672 - accuracy: 0.3895 - val_loss: 2.1544 - val_accuracy: 0.3449\n",
      "Epoch 13/50\n",
      "1658/1658 [==============================] - 25s 15ms/step - loss: 1.9335 - accuracy: 0.3999 - val_loss: 2.1611 - val_accuracy: 0.3436\n",
      "Epoch 00013: early stopping\n",
      "Score for fold 1: loss of 2.165071964263916; accuracy of 34.10822153091431%\n",
      "------------------------------------------------------------------------\n",
      "Training for fold 2 ...\n",
      "Epoch 1/50\n",
      "1658/1658 [==============================] - 27s 15ms/step - loss: 2.5240 - accuracy: 0.2320 - val_loss: 2.2898 - val_accuracy: 0.2966\n",
      "Epoch 2/50\n",
      "1658/1658 [==============================] - 24s 15ms/step - loss: 2.3029 - accuracy: 0.2914 - val_loss: 2.2167 - val_accuracy: 0.3148\n",
      "Epoch 3/50\n",
      "1658/1658 [==============================] - 24s 15ms/step - loss: 2.2399 - accuracy: 0.3091 - val_loss: 2.1797 - val_accuracy: 0.3246\n",
      "Epoch 4/50\n",
      "1658/1658 [==============================] - 24s 15ms/step - loss: 2.2023 - accuracy: 0.3194 - val_loss: 2.1589 - val_accuracy: 0.3302\n",
      "Epoch 5/50\n",
      "1658/1658 [==============================] - 25s 15ms/step - loss: 2.1710 - accuracy: 0.3295 - val_loss: 2.1446 - val_accuracy: 0.3370\n",
      "Epoch 6/50\n",
      "1658/1658 [==============================] - 24s 15ms/step - loss: 2.1448 - accuracy: 0.3375 - val_loss: 2.1392 - val_accuracy: 0.3394\n",
      "Epoch 7/50\n",
      "1658/1658 [==============================] - 24s 15ms/step - loss: 2.1210 - accuracy: 0.3428 - val_loss: 2.1325 - val_accuracy: 0.3397\n",
      "Epoch 8/50\n",
      "1658/1658 [==============================] - 24s 15ms/step - loss: 2.0953 - accuracy: 0.3505 - val_loss: 2.1301 - val_accuracy: 0.3413\n",
      "Epoch 9/50\n",
      "1658/1658 [==============================] - 25s 15ms/step - loss: 2.0662 - accuracy: 0.3586 - val_loss: 2.1374 - val_accuracy: 0.3394\n",
      "Epoch 10/50\n",
      "1658/1658 [==============================] - 25s 15ms/step - loss: 2.0395 - accuracy: 0.3672 - val_loss: 2.1356 - val_accuracy: 0.3421\n",
      "Epoch 11/50\n",
      "1658/1658 [==============================] - 24s 15ms/step - loss: 2.0084 - accuracy: 0.3773 - val_loss: 2.1504 - val_accuracy: 0.3426\n",
      "Epoch 12/50\n",
      "1658/1658 [==============================] - 24s 15ms/step - loss: 1.9766 - accuracy: 0.3856 - val_loss: 2.1483 - val_accuracy: 0.3436\n",
      "Epoch 13/50\n",
      "1658/1658 [==============================] - 24s 15ms/step - loss: 1.9418 - accuracy: 0.3968 - val_loss: 2.1688 - val_accuracy: 0.3411\n",
      "Epoch 00013: early stopping\n",
      "Score for fold 2: loss of 2.1883492469787598; accuracy of 33.40874910354614%\n",
      "------------------------------------------------------------------------\n",
      "Training for fold 3 ...\n",
      "Epoch 1/50\n",
      "1658/1658 [==============================] - 27s 15ms/step - loss: 2.5277 - accuracy: 0.2307 - val_loss: 2.2900 - val_accuracy: 0.2945\n",
      "Epoch 2/50\n",
      "1658/1658 [==============================] - 24s 15ms/step - loss: 2.3002 - accuracy: 0.2913 - val_loss: 2.2240 - val_accuracy: 0.3116\n",
      "Epoch 3/50\n",
      "1658/1658 [==============================] - 24s 15ms/step - loss: 2.2400 - accuracy: 0.3090 - val_loss: 2.1891 - val_accuracy: 0.3216\n",
      "Epoch 4/50\n",
      "1658/1658 [==============================] - 24s 15ms/step - loss: 2.2028 - accuracy: 0.3189 - val_loss: 2.1590 - val_accuracy: 0.3329\n",
      "Epoch 5/50\n",
      "1658/1658 [==============================] - 25s 15ms/step - loss: 2.1719 - accuracy: 0.3279 - val_loss: 2.1502 - val_accuracy: 0.3338\n",
      "Epoch 6/50\n",
      "1658/1658 [==============================] - 24s 15ms/step - loss: 2.1459 - accuracy: 0.3344 - val_loss: 2.1465 - val_accuracy: 0.3356\n",
      "Epoch 7/50\n",
      "1658/1658 [==============================] - 24s 15ms/step - loss: 2.1210 - accuracy: 0.3430 - val_loss: 2.1421 - val_accuracy: 0.3371\n",
      "Epoch 8/50\n",
      "1658/1658 [==============================] - 25s 15ms/step - loss: 2.0925 - accuracy: 0.3504 - val_loss: 2.1384 - val_accuracy: 0.3413\n",
      "Epoch 9/50\n",
      "1658/1658 [==============================] - 24s 15ms/step - loss: 2.0673 - accuracy: 0.3587 - val_loss: 2.1425 - val_accuracy: 0.3413\n",
      "Epoch 10/50\n",
      "1658/1658 [==============================] - 24s 15ms/step - loss: 2.0381 - accuracy: 0.3665 - val_loss: 2.1450 - val_accuracy: 0.3411\n",
      "Epoch 11/50\n",
      "1658/1658 [==============================] - 24s 15ms/step - loss: 2.0074 - accuracy: 0.3763 - val_loss: 2.1506 - val_accuracy: 0.3418\n",
      "Epoch 12/50\n",
      "1658/1658 [==============================] - 24s 15ms/step - loss: 1.9734 - accuracy: 0.3870 - val_loss: 2.1574 - val_accuracy: 0.3430\n",
      "Epoch 13/50\n",
      "1658/1658 [==============================] - 24s 15ms/step - loss: 1.9389 - accuracy: 0.3965 - val_loss: 2.1676 - val_accuracy: 0.3422\n",
      "Epoch 00013: early stopping\n",
      "Score for fold 3: loss of 2.1743388175964355; accuracy of 33.8103324174881%\n",
      "------------------------------------------------------------------------\n",
      "Training for fold 4 ...\n",
      "Epoch 1/50\n",
      "1658/1658 [==============================] - 28s 15ms/step - loss: 2.5271 - accuracy: 0.2307 - val_loss: 2.2948 - val_accuracy: 0.2924\n",
      "Epoch 2/50\n",
      "1658/1658 [==============================] - 24s 15ms/step - loss: 2.3017 - accuracy: 0.2904 - val_loss: 2.2313 - val_accuracy: 0.3097\n",
      "Epoch 3/50\n",
      "1658/1658 [==============================] - 24s 15ms/step - loss: 2.2416 - accuracy: 0.3077 - val_loss: 2.1833 - val_accuracy: 0.3244\n",
      "Epoch 4/50\n",
      "1658/1658 [==============================] - 25s 15ms/step - loss: 2.2022 - accuracy: 0.3202 - val_loss: 2.1610 - val_accuracy: 0.3291\n",
      "Epoch 5/50\n",
      "1658/1658 [==============================] - 25s 15ms/step - loss: 2.1721 - accuracy: 0.3284 - val_loss: 2.1504 - val_accuracy: 0.3346\n",
      "Epoch 6/50\n",
      "1658/1658 [==============================] - 25s 15ms/step - loss: 2.1469 - accuracy: 0.3346 - val_loss: 2.1434 - val_accuracy: 0.3369\n",
      "Epoch 7/50\n",
      "1658/1658 [==============================] - 24s 15ms/step - loss: 2.1213 - accuracy: 0.3423 - val_loss: 2.1395 - val_accuracy: 0.3407\n",
      "Epoch 8/50\n",
      "1658/1658 [==============================] - 25s 15ms/step - loss: 2.0956 - accuracy: 0.3507 - val_loss: 2.1340 - val_accuracy: 0.3425\n",
      "Epoch 9/50\n",
      "1658/1658 [==============================] - 24s 15ms/step - loss: 2.0690 - accuracy: 0.3580 - val_loss: 2.1346 - val_accuracy: 0.3426\n",
      "Epoch 10/50\n",
      "1658/1658 [==============================] - 24s 15ms/step - loss: 2.0396 - accuracy: 0.3670 - val_loss: 2.1389 - val_accuracy: 0.3402\n",
      "Epoch 11/50\n",
      "1658/1658 [==============================] - 24s 15ms/step - loss: 2.0088 - accuracy: 0.3762 - val_loss: 2.1439 - val_accuracy: 0.3432\n",
      "Epoch 12/50\n",
      "1658/1658 [==============================] - 24s 15ms/step - loss: 1.9748 - accuracy: 0.3860 - val_loss: 2.1549 - val_accuracy: 0.3434\n",
      "Epoch 13/50\n",
      "1658/1658 [==============================] - 25s 15ms/step - loss: 1.9385 - accuracy: 0.3966 - val_loss: 2.1742 - val_accuracy: 0.3430\n",
      "Epoch 00013: early stopping\n",
      "Score for fold 4: loss of 2.1764638423919678; accuracy of 33.996984362602234%\n",
      "------------------------------------------------------------------------\n",
      "Training for fold 5 ...\n",
      "Epoch 1/50\n",
      "1658/1658 [==============================] - 27s 15ms/step - loss: 2.5258 - accuracy: 0.2317 - val_loss: 2.2943 - val_accuracy: 0.2952\n",
      "Epoch 2/50\n",
      "1658/1658 [==============================] - 24s 15ms/step - loss: 2.3046 - accuracy: 0.2915 - val_loss: 2.2049 - val_accuracy: 0.3209\n",
      "Epoch 3/50\n",
      "1658/1658 [==============================] - 24s 15ms/step - loss: 2.2442 - accuracy: 0.3075 - val_loss: 2.1886 - val_accuracy: 0.3192\n",
      "Epoch 4/50\n",
      "1658/1658 [==============================] - 24s 15ms/step - loss: 2.2047 - accuracy: 0.3181 - val_loss: 2.1627 - val_accuracy: 0.3322\n",
      "Epoch 5/50\n",
      "1658/1658 [==============================] - 24s 15ms/step - loss: 2.1755 - accuracy: 0.3271 - val_loss: 2.1547 - val_accuracy: 0.3348\n",
      "Epoch 6/50\n",
      "1658/1658 [==============================] - 24s 15ms/step - loss: 2.1486 - accuracy: 0.3341 - val_loss: 2.1426 - val_accuracy: 0.3379\n",
      "Epoch 7/50\n",
      "1658/1658 [==============================] - 24s 15ms/step - loss: 2.1240 - accuracy: 0.3421 - val_loss: 2.1354 - val_accuracy: 0.3404\n",
      "Epoch 8/50\n",
      "1658/1658 [==============================] - 25s 15ms/step - loss: 2.0985 - accuracy: 0.3488 - val_loss: 2.1349 - val_accuracy: 0.3409\n",
      "Epoch 9/50\n",
      "1658/1658 [==============================] - 24s 15ms/step - loss: 2.0712 - accuracy: 0.3579 - val_loss: 2.1326 - val_accuracy: 0.3456\n",
      "Epoch 10/50\n",
      "1658/1658 [==============================] - 24s 15ms/step - loss: 2.0431 - accuracy: 0.3651 - val_loss: 2.1363 - val_accuracy: 0.3437\n",
      "Epoch 11/50\n",
      "1658/1658 [==============================] - 24s 15ms/step - loss: 2.0128 - accuracy: 0.3743 - val_loss: 2.1362 - val_accuracy: 0.3445\n",
      "Epoch 12/50\n",
      "1658/1658 [==============================] - 25s 15ms/step - loss: 1.9813 - accuracy: 0.3849 - val_loss: 2.1486 - val_accuracy: 0.3427\n",
      "Epoch 13/50\n",
      "1658/1658 [==============================] - 24s 15ms/step - loss: 1.9417 - accuracy: 0.3953 - val_loss: 2.1569 - val_accuracy: 0.3434\n",
      "Epoch 14/50\n",
      "1658/1658 [==============================] - 24s 15ms/step - loss: 1.9090 - accuracy: 0.4059 - val_loss: 2.1686 - val_accuracy: 0.3412\n",
      "Epoch 00014: early stopping\n",
      "Score for fold 5: loss of 2.1779227256774902; accuracy of 34.0309202671051%\n"
     ]
    }
   ],
   "source": [
    "from keras.models import Sequential\n",
    "from keras.layers import Dense\n",
    "from keras.layers import LSTM , Flatten\n",
    "from keras.layers import Dropout\n",
    "import keras\n",
    "import tensorflow as tf\n",
    "from sklearn.model_selection import KFold\n",
    "# Define the K-fold Cross Validator\n",
    "kfold = KFold(n_splits=5, shuffle=True)\n",
    "\n",
    "# K-fold Cross Validation model evaluation\n",
    "fold_no = 1\n",
    "for train, test in kfold.split(inputs, targets):\n",
    "    \n",
    "    model = Sequential()\n",
    "    \n",
    "    model.add(Bidirectional(CuDNNLSTM(units=265, return_sequences=True), input_shape=(18, 1)))\n",
    "    model.add(Bidirectional(CuDNNLSTM(units=128, return_sequences=True)))\n",
    "    model.add(Dropout(rate=0.3))\n",
    "    \n",
    "    model.add(Flatten())\n",
    "    model.add(Dense(128,activation='tanh'))\n",
    "    model.add(Dropout(0.2))\n",
    "    \n",
    "    model.add(Dense(64,activation='tanh'))\n",
    "    \n",
    "    model.add(Dense(26,activation='softmax'))\n",
    "    \n",
    "    \n",
    "    model.compile(loss='categorical_crossentropy',optimizer='adam',metrics=['accuracy'])\n",
    "    es = tf.keras.callbacks.EarlyStopping(monitor='val_loss', mode='min', verbose=1, patience=5)\n",
    "    checkpointer = tf.keras.callbacks.ModelCheckpoint(filepath=\"./checkpoint-{epoch:02d}.hdf5\", verbose=1, save_best_only=True, monitor='val_acc',mode='max')\n",
    "    csv_logger = CSVLogger('training_set_iranalysis3.csv',separator=',', append=False)\n",
    "    \n",
    "\n",
    "    print('------------------------------------------------------------------------')\n",
    "    print(f'Training for fold {fold_no} ...')\n",
    "    \n",
    "    history = model.fit(inputs[train], targets[train], batch_size=128, epochs=50, validation_data=(X_valid, y_valid),callbacks=[es,checkpointer,csv_logger])\n",
    "    \n",
    "    scores = model.evaluate(inputs[test], targets[test], verbose=0)\n",
    "    print(f'Score for fold {fold_no}: {model.metrics_names[0]} of {scores[0]}; {model.metrics_names[1]} of {scores[1]*100}%')\n",
    "    acc_per_fold.append(scores[1] * 100)\n",
    "    loss_per_fold.append(scores[0])\n",
    "    \n",
    "    fold_no = fold_no + 1\n",
    "\n",
    "    \n"
   ]
  },
  {
   "cell_type": "code",
   "execution_count": 129,
   "id": "f1eb289b",
   "metadata": {
    "execution": {
     "iopub.execute_input": "2022-10-27T02:04:15.451625Z",
     "iopub.status.busy": "2022-10-27T02:04:15.451259Z",
     "iopub.status.idle": "2022-10-27T02:04:15.467318Z",
     "shell.execute_reply": "2022-10-27T02:04:15.459861Z",
     "shell.execute_reply.started": "2022-10-27T02:04:15.451588Z"
    }
   },
   "outputs": [
    {
     "name": "stdout",
     "output_type": "stream",
     "text": [
      "Model: \"sequential_25\"\n",
      "_________________________________________________________________\n",
      "Layer (type)                 Output Shape              Param #   \n",
      "=================================================================\n",
      "bidirectional_44 (Bidirectio (None, 18, 530)           568160    \n",
      "_________________________________________________________________\n",
      "bidirectional_45 (Bidirectio (None, 18, 256)           675840    \n",
      "_________________________________________________________________\n",
      "dropout_43 (Dropout)         (None, 18, 256)           0         \n",
      "_________________________________________________________________\n",
      "flatten_25 (Flatten)         (None, 4608)              0         \n",
      "_________________________________________________________________\n",
      "dense_71 (Dense)             (None, 128)               589952    \n",
      "_________________________________________________________________\n",
      "dropout_44 (Dropout)         (None, 128)               0         \n",
      "_________________________________________________________________\n",
      "dense_72 (Dense)             (None, 64)                8256      \n",
      "_________________________________________________________________\n",
      "dense_73 (Dense)             (None, 26)                1690      \n",
      "=================================================================\n",
      "Total params: 1,843,898\n",
      "Trainable params: 1,843,898\n",
      "Non-trainable params: 0\n",
      "_________________________________________________________________\n"
     ]
    }
   ],
   "source": [
    "model.summary()\n"
   ]
  },
  {
   "cell_type": "code",
   "execution_count": 130,
   "id": "c729e0b4",
   "metadata": {
    "execution": {
     "iopub.execute_input": "2022-10-27T02:04:15.470995Z",
     "iopub.status.busy": "2022-10-27T02:04:15.469008Z",
     "iopub.status.idle": "2022-10-27T02:04:15.585971Z",
     "shell.execute_reply": "2022-10-27T02:04:15.584774Z",
     "shell.execute_reply.started": "2022-10-27T02:04:15.470958Z"
    }
   },
   "outputs": [
    {
     "name": "stdout",
     "output_type": "stream",
     "text": [
      "------------------------------------------------------------------------\n",
      "Score per fold\n",
      "------------------------------------------------------------------------\n",
      "> Fold 1 - Loss: 2.165071964263916 - Accuracy: 34.10822153091431%\n",
      "------------------------------------------------------------------------\n",
      "> Fold 2 - Loss: 2.1883492469787598 - Accuracy: 33.40874910354614%\n",
      "------------------------------------------------------------------------\n",
      "> Fold 3 - Loss: 2.1743388175964355 - Accuracy: 33.8103324174881%\n",
      "------------------------------------------------------------------------\n",
      "> Fold 4 - Loss: 2.1764638423919678 - Accuracy: 33.996984362602234%\n",
      "------------------------------------------------------------------------\n",
      "> Fold 5 - Loss: 2.1779227256774902 - Accuracy: 34.0309202671051%\n",
      "------------------------------------------------------------------------\n",
      "Average scores for all folds:\n",
      "> Accuracy: 33.87104153633118 (+- 0.251028701305044)\n",
      "> Loss: 2.1764293193817137\n",
      "------------------------------------------------------------------------\n"
     ]
    }
   ],
   "source": [
    "# == Provide average scores ==\n",
    "print('------------------------------------------------------------------------')\n",
    "print('Score per fold')\n",
    "for i in range(0, len(acc_per_fold)):\n",
    "    print('------------------------------------------------------------------------')\n",
    "    print(f'> Fold {i+1} - Loss: {loss_per_fold[i]} - Accuracy: {acc_per_fold[i]}%')\n",
    "print('------------------------------------------------------------------------')\n",
    "print('Average scores for all folds:')\n",
    "print(f'> Accuracy: {np.mean(acc_per_fold)} (+- {np.std(acc_per_fold)})')\n",
    "print(f'> Loss: {np.mean(loss_per_fold)}')\n",
    "print('------------------------------------------------------------------------')\n",
    "\n",
    "model.save(\"./lstm.hdf5\")"
   ]
  },
  {
   "cell_type": "code",
   "execution_count": 132,
   "id": "cdfc4871",
   "metadata": {
    "execution": {
     "iopub.execute_input": "2022-10-27T02:04:25.865861Z",
     "iopub.status.busy": "2022-10-27T02:04:25.865461Z",
     "iopub.status.idle": "2022-10-27T02:04:26.089966Z",
     "shell.execute_reply": "2022-10-27T02:04:26.089078Z",
     "shell.execute_reply.started": "2022-10-27T02:04:25.865823Z"
    }
   },
   "outputs": [
    {
     "data": {
      "image/png": "[encoded data removed]",
      "text/plain": [
       "<Figure size 432x288 with 1 Axes>"
      ]
     },
     "metadata": {
      "needs_background": "light"
     },
     "output_type": "display_data"
    }
   ],
   "source": [
    "import matplotlib.pyplot as plt\n",
    "plt.plot(history.history['accuracy'])\n",
    "plt.plot(history.history['val_accuracy'])\n",
    "plt.title(\"Plot of accuracy vs epoch for train and test dataset\")\n",
    "plt.ylabel('accuracy')\n",
    "plt.xlabel('epoch')\n",
    "plt.show()"
   ]
  },
  {
   "cell_type": "code",
   "execution_count": 133,
   "id": "90e2decd",
   "metadata": {
    "execution": {
     "iopub.execute_input": "2022-10-27T02:04:26.092039Z",
     "iopub.status.busy": "2022-10-27T02:04:26.091691Z",
     "iopub.status.idle": "2022-10-27T02:04:26.300494Z",
     "shell.execute_reply": "2022-10-27T02:04:26.299602Z",
     "shell.execute_reply.started": "2022-10-27T02:04:26.092005Z"
    }
   },
   "outputs": [
    {
     "data": {
      "image/png": "[encoded data removed]",
      "text/plain": [
       "<Figure size 432x288 with 1 Axes>"
      ]
     },
     "metadata": {
      "needs_background": "light"
     },
     "output_type": "display_data"
    }
   ],
   "source": [
    "plt.plot(history.history['loss'])\n",
    "plt.plot(history.history['val_loss'])\n",
    "plt.title(\"Plot of loss vs epoch for train and test dataset\")\n",
    "plt.ylabel('loss')\n",
    "plt.xlabel('epoch')\n",
    "plt.legend(['train', 'test'], loc='upper right')\n",
    "plt.show()"
   ]
  },
  {
   "cell_type": "code",
   "execution_count": null,
   "id": "38f208c9",
   "metadata": {},
   "outputs": [],
   "source": []
  }
 ],
 "metadata": {
  "kernelspec": {
   "display_name": "Python 3 (ipykernel)",
   "language": "python",
   "name": "python3"
  },
  "language_info": {
   "codemirror_mode": {
    "name": "ipython",
    "version": 3
   },
   "file_extension": ".py",
   "mimetype": "text/x-python",
   "name": "python",
   "nbconvert_exporter": "python",
   "pygments_lexer": "ipython3",
   "version": "3.9.12"
  }
 },
 "nbformat": 4,
 "nbformat_minor": 5
}
